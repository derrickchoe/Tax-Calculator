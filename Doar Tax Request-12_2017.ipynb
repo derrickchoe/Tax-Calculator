{
 "cells": [
  {
   "cell_type": "code",
   "execution_count": 16,
   "metadata": {},
   "outputs": [],
   "source": [
    "import taxcalc as tc\n",
    "import pandas as pd\n",
    "import numpy as np\n",
    "import copy"
   ]
  },
  {
   "cell_type": "code",
   "execution_count": 17,
   "metadata": {},
   "outputs": [],
   "source": [
    "# Dep_credit: nonrefundable portion\n",
    "# c07220: refundable portion, not yet calculated as ACTC\n",
    "# c11070: portion actually refunded\n",
    "# TODO: Create a function that takes a subpopulation and spits out total change in revenue, money going to CTC, eitc, per person, etc.\n",
    "\n",
    "def taxdf(calc, namelist, varlist):\n",
    "    calcu=copy.deepcopy(calc)\n",
    "    tdf=pd.DataFrame()\n",
    "    for v in range (0, len(namelist)):\n",
    "        tdf[namelist[v]]=getattr(calcu.records,varlist[v])\n",
    "    return tdf"
   ]
  },
  {
   "cell_type": "code",
   "execution_count": 18,
   "metadata": {},
   "outputs": [],
   "source": [
    "def percentile(df, percentile, var):\n",
    "    df = df.sort_values(var, axis = 0)\n",
    "    df['cumsum'] = np.cumsum(df['s006'])\n",
    "    return df[df['cumsum'] <= (percentile/100) * df['cumsum'].max()].iloc[-1][var]"
   ]
  },
  {
   "cell_type": "code",
   "execution_count": 19,
   "metadata": {
    "scrolled": false
   },
   "outputs": [
    {
     "name": "stdout",
     "output_type": "stream",
     "text": [
      "You loaded data for 2009.\n",
      "Tax-Calculator startup automatically extrapolated your data to 2013.\n",
      "You loaded data for 2009.\n",
      "Tax-Calculator startup automatically extrapolated your data to 2013.\n"
     ]
    }
   ],
   "source": [
    "reform_noctc = {2018:{}}\n",
    "\n",
    "reform_noctc[2018]['_CTC_c'] = [1000]\n",
    "reform_noctc[2018]['_DependentCredit_Child_c'] = [0]\n",
    "reform_noctc[2018]['_ACTC_Income_thd'] = [3000]\n",
    "reform_noctc[2018]['_CTC_ps'] = [[75000, 110000, 55000, 75000, 75000]]\n",
    "\n",
    "# Create calculator for TCJA Reconciliation plan, minus refundable child tax credit\n",
    "\n",
    "pol_noctc = tc.Policy()\n",
    "pol_noctc.implement_reform(reform_noctc)\n",
    "\n",
    "calc = tc.Calculator(policy = pol_noctc, records = tc.Records())\n",
    "calc.advance_to_year(2018)\n",
    "calc.calc_all()\n",
    "\n",
    "# Create calculator for TCJA Reconciliation plan EXPANSION\n",
    "\n",
    "calc1 = tc.Calculator(records = tc.Records(), policy = tc.Policy())\n",
    "calc1.advance_to_year(2018)\n",
    "calc1.calc_all()"
   ]
  },
  {
   "cell_type": "code",
   "execution_count": 20,
   "metadata": {},
   "outputs": [],
   "source": [
    "nlist = ['c00100', 'standard', 'c04470', 'iitax','combined','payrolltax','s006','MARS', 'n24', 'XTOT', 'c11070', 'c09600', 'refund', 'eitc']\n",
    "calcdf = taxdf(calc=calc, namelist = nlist, varlist = nlist)\n",
    "calcdf1 = taxdf(calc=calc1, namelist = nlist, varlist = nlist)"
   ]
  },
  {
   "cell_type": "code",
   "execution_count": 21,
   "metadata": {},
   "outputs": [],
   "source": [
    "# GET TOTAL MONEY SPENT ON CHILD TAX REFUNDS\n",
    "# MAKE SINGLE PARENT DUMMY ARRAY\n",
    "def costdiff(no_expansion, expansion, subpop):\n",
    "    expansion['w_iitaxdiff'] = (expansion['iitax'] - no_expansion['iitax'])*no_expansion['s006']\n",
    "    expansion['w_c11070'] = expansion['c11070'] * no_expansion['s006']\n",
    "    expansion['w_eitc'] = expansion['eitc'] * no_expansion['s006']\n",
    "    expansion_sp = copy.deepcopy(expansion[subpop])\n",
    "    singleparent = ((expansion_sp['MARS'] == 1) | (expansion_sp['MARS'] == 4)) & (expansion_sp['n24']  >  0)\n",
    "    num_single_parents = expansion_sp[singleparent]['s006'].sum()\n",
    "    total = expansion_sp['s006'].sum()\n",
    "    print(\"Number of Beneficiaries in Group that are Single or Head of Household with Kids: \" +\n",
    "          '{:,}'.format(round(num_single_parents)))\n",
    "    print(\"Number of Beneficiaries in Group: \" +\n",
    "          '{:,}'.format(round(total)))\n",
    "    print(\"Amount of Revenue Going towards Taxpayers in Group: \" + \n",
    "          '{:,}'.format(round(expansion_sp['w_iitaxdiff'].sum())))\n",
    "    print('Amount of Revenue Going Towards Single Parent Beneficiaries: ' +\n",
    "          '{:,}'.format(round(expansion_sp[singleparent]['w_iitaxdiff'].sum())))\n",
    "    print('Total ACTC Benefits Claimed by Group: ' +\n",
    "          '{:,}'.format(round(expansion[subpop]['w_c11070'].sum())))\n",
    "    print('Total ACTC Benefits Claimed by Single Parents in Group: ' +\n",
    "          '{:,}'.format(round(expansion_sp[singleparent]['w_c11070'].sum())))\n",
    "    print('Total EITC Benefits Claimed by Group: ' +\n",
    "          '{:,}'.format(round(expansion[subpop]['w_eitc'].sum())))\n",
    "    print('Total EITC Benefits Claimed by Single Parents in Group: ' +\n",
    "          '{:,}'.format(round(expansion_sp[singleparent]['w_eitc'].sum())))"
   ]
  },
  {
   "cell_type": "code",
   "execution_count": 22,
   "metadata": {},
   "outputs": [
    {
     "name": "stdout",
     "output_type": "stream",
     "text": [
      "All Tax Filers\n",
      "Number of Beneficiaries in Group that are Single or Head of Household with Kids: 20,068,092.0\n",
      "Number of Beneficiaries in Group: 172,859,804.0\n",
      "Amount of Revenue Going towards Taxpayers in Group: -66,904,066,744.0\n",
      "Amount of Revenue Going Towards Single Parent Beneficiaries: -18,617,252,898.0\n",
      "Total ACTC Benefits Claimed by Group: 36,820,164,309.0\n",
      "Total ACTC Benefits Claimed by Single Parents in Group: 23,806,212,323.0\n",
      "Total EITC Benefits Claimed by Group: 65,815,190,480.0\n",
      "Total EITC Benefits Claimed by Single Parents in Group: 41,343,595,450.0\n",
      "\n",
      "\n",
      "Refund-Receiving Beneficiaries\n",
      "Number of Beneficiaries in Group that are Single or Head of Household with Kids: 14,210,254.0\n",
      "Number of Beneficiaries in Group: 32,356,014.0\n",
      "Amount of Revenue Going towards Taxpayers in Group: -15,338,551,900.0\n",
      "Amount of Revenue Going Towards Single Parent Beneficiaries: -10,001,135,531.0\n",
      "Total ACTC Benefits Claimed by Group: 34,250,998,932.0\n",
      "Total ACTC Benefits Claimed by Single Parents in Group: 22,757,530,224.0\n",
      "Total EITC Benefits Claimed by Group: 65,367,072,012.0\n",
      "Total EITC Benefits Claimed by Single Parents in Group: 41,134,563,945.0\n",
      "\n",
      "\n",
      "Refund-Receiving Beneficiaries, AGI of 5-10 Thousand\n",
      "Number of Beneficiaries in Group that are Single or Head of Household with Kids: 1,471,934.0\n",
      "Number of Beneficiaries in Group: 5,089,653.0\n",
      "Amount of Revenue Going towards Taxpayers in Group: -146,934,496.0\n",
      "Amount of Revenue Going Towards Single Parent Beneficiaries: -115,086,061.0\n",
      "Total ACTC Benefits Claimed by Group: 1,265,793,263.0\n",
      "Total ACTC Benefits Claimed by Single Parents in Group: 1,050,302,573.0\n",
      "Total EITC Benefits Claimed by Group: 6,298,640,016.0\n",
      "Total EITC Benefits Claimed by Single Parents in Group: 3,673,211,850.0\n",
      "\n",
      "\n",
      "Refund-Receiving Beneficiaries, AGI of 10-15 Thousand\n",
      "Number of Beneficiaries in Group that are Single or Head of Household with Kids: 2,230,060.0\n",
      "Number of Beneficiaries in Group: 5,212,235.0\n",
      "Amount of Revenue Going towards Taxpayers in Group: -662,626,341.0\n",
      "Amount of Revenue Going Towards Single Parent Beneficiaries: -556,633,541.0\n",
      "Total ACTC Benefits Claimed by Group: 3,690,202,258.0\n",
      "Total ACTC Benefits Claimed by Single Parents in Group: 3,030,657,424.0\n",
      "Total EITC Benefits Claimed by Group: 12,138,851,259.0\n",
      "Total EITC Benefits Claimed by Single Parents in Group: 8,110,625,535.0\n",
      "\n",
      "\n",
      "Refund-Receiving Beneficiaries, AGI of 15-20 Thousand\n",
      "Number of Beneficiaries in Group that are Single or Head of Household with Kids: 3,023,329.0\n",
      "Number of Beneficiaries in Group: 4,981,446.0\n",
      "Amount of Revenue Going towards Taxpayers in Group: -1,276,631,467.0\n",
      "Amount of Revenue Going Towards Single Parent Beneficiaries: -1,075,700,132.0\n",
      "Total ACTC Benefits Claimed by Group: 6,703,347,211.0\n",
      "Total ACTC Benefits Claimed by Single Parents in Group: 5,341,279,915.0\n",
      "Total EITC Benefits Claimed by Group: 18,482,437,450.0\n",
      "Total EITC Benefits Claimed by Single Parents in Group: 13,111,063,210.0\n",
      "\n",
      "\n",
      "Refund-Receiving Beneficiaries, AGI of 20-25 Thousand\n",
      "Number of Beneficiaries in Group that are Single or Head of Household with Kids: 1,915,680.0\n",
      "Number of Beneficiaries in Group: 2,998,595.0\n",
      "Amount of Revenue Going towards Taxpayers in Group: -1,733,505,652.0\n",
      "Amount of Revenue Going Towards Single Parent Beneficiaries: -1,499,049,141.0\n",
      "Total ACTC Benefits Claimed by Group: 5,012,857,193.0\n",
      "Total ACTC Benefits Claimed by Single Parents in Group: 3,897,652,212.0\n",
      "Total EITC Benefits Claimed by Group: 9,505,730,424.0\n",
      "Total EITC Benefits Claimed by Single Parents in Group: 6,498,003,040.0\n",
      "\n",
      "\n",
      "Refund-Receiving Beneficiaries, AGI of 25-30 Thousand\n",
      "Number of Beneficiaries in Group that are Single or Head of Household with Kids: 1,768,732.0\n",
      "Number of Beneficiaries in Group: 3,003,421.0\n",
      "Amount of Revenue Going towards Taxpayers in Group: -2,686,681,067.0\n",
      "Amount of Revenue Going Towards Single Parent Beneficiaries: -2,112,798,301.0\n",
      "Total ACTC Benefits Claimed by Group: 5,286,004,821.0\n",
      "Total ACTC Benefits Claimed by Single Parents in Group: 3,563,513,640.0\n",
      "Total EITC Benefits Claimed by Group: 7,720,251,358.0\n",
      "Total EITC Benefits Claimed by Single Parents in Group: 4,513,941,468.0\n",
      "\n",
      "\n"
     ]
    }
   ],
   "source": [
    "# CHECK IF REFUND RECEIVING BENEFICIARIES ARE FOR CURRENT LAW, TCJA, or TCJA without CTC expansion\n",
    "pop0 = [([True] * len(calcdf)), 'All Tax Filers']\n",
    "pop1 = [(calcdf['iitax'] < 0), 'Refund-Receiving Beneficiaries']\n",
    "pop2 = [((calcdf['iitax'] < 0) & (calcdf['c00100'].between(5000, 10000))), 'Refund-Receiving Beneficiaries, AGI of 5-10 Thousand']\n",
    "pop3 = [((calcdf['iitax'] < 0) & (calcdf['c00100'].between(10000, 15000))), 'Refund-Receiving Beneficiaries, AGI of 10-15 Thousand']\n",
    "pop4 = [((calcdf['iitax'] < 0) & (calcdf['c00100'].between(15000, 20000))), 'Refund-Receiving Beneficiaries, AGI of 15-20 Thousand']\n",
    "pop5 = [((calcdf['iitax'] < 0) & (calcdf['c00100'].between(20000, 25000))), 'Refund-Receiving Beneficiaries, AGI of 20-25 Thousand']\n",
    "pop6 = [((calcdf['iitax'] < 0) & (calcdf['c00100'].between(25000, 30000))), 'Refund-Receiving Beneficiaries, AGI of 25-30 Thousand']\n",
    "\n",
    "for x in [pop0, pop1, pop2, pop3, pop4, pop5, pop6]:\n",
    "    print(x[1])\n",
    "    costdiff(calcdf, calcdf1, x[0])\n",
    "    print('\\n')"
   ]
  },
  {
   "cell_type": "code",
   "execution_count": 23,
   "metadata": {},
   "outputs": [
    {
     "data": {
      "text/plain": [
       "16276.218704446032"
      ]
     },
     "execution_count": 23,
     "metadata": {},
     "output_type": "execute_result"
    }
   ],
   "source": [
    "percentile(calcdf[pop1[0]], percentile=50, var = 'c00100')"
   ]
  }
 ],
 "metadata": {
  "kernelspec": {
   "display_name": "Python (taxcalc-dev)",
   "language": "python",
   "name": "taxcalc-dev"
  },
  "language_info": {
   "codemirror_mode": {
    "name": "ipython",
    "version": 3
   },
   "file_extension": ".py",
   "mimetype": "text/x-python",
   "name": "python",
   "nbconvert_exporter": "python",
   "pygments_lexer": "ipython3",
   "version": "3.5.4"
  }
 },
 "nbformat": 4,
 "nbformat_minor": 2
}
