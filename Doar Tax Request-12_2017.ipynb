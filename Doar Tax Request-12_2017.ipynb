{
 "cells": [
  {
   "cell_type": "code",
   "execution_count": 72,
   "metadata": {
    "collapsed": true
   },
   "outputs": [],
   "source": [
    "import taxcalc as tc\n",
    "import pandas as pd\n",
    "import numpy as np\n",
    "import copy"
   ]
  },
  {
   "cell_type": "code",
   "execution_count": 73,
   "metadata": {
    "collapsed": true
   },
   "outputs": [],
   "source": [
    "def taxdf(calc, namelist, varlist):\n",
    "    calcu=copy.deepcopy(calc)\n",
    "    tdf=pd.DataFrame()\n",
    "    for v in range (0, len(namelist)):\n",
    "        tdf[namelist[v]]=getattr(calcu.records,varlist[v])\n",
    "    return tdf"
   ]
  },
  {
   "cell_type": "code",
   "execution_count": 74,
   "metadata": {
    "scrolled": false
   },
   "outputs": [
    {
     "name": "stdout",
     "output_type": "stream",
     "text": [
      "You loaded data for 2009.\n",
      "Tax-Calculator startup automatically extrapolated your data to 2013.\n",
      "You loaded data for 2009.\n",
      "Tax-Calculator startup automatically extrapolated your data to 2013.\n"
     ]
    }
   ],
   "source": [
    "path_name = 'C:\\\\Users\\\\derrick.choe\\\\Tax-Calculator\\\\taxcalc\\\\reforms\\\\TCJA_Reconciliation.json'\n",
    "jfile = open(path_name, 'r')\n",
    "jtext = jfile.read()\n",
    "jfile.close()\n",
    "reform = tc.Calculator._read_json_policy_reform_text(jtext, {}, {})\n",
    "reform_noctc = tc.Calculator._read_json_policy_reform_text(jtext, {}, {})\n",
    "\n",
    "for y in range(2017,2027):\n",
    "    if y in reform_noctc.keys():\n",
    "        reform_noctc[y]['_CTC_c'] = [1000]\n",
    "        reform_noctc[y]['_DependentCredit_Child_c'] = [0]\n",
    "        reform_noctc[y]['_ACTC_Income_thd'] = [3000]\n",
    "        reform_noctc[y]['_CTC_ps'] = [[75000, 110000, 55000, 75000, 75000]]\n",
    "\n",
    "# breform = {2018:{'_BE_sub': [0.25], '_BE_subinc_wrt_earnings': [True]}}\n",
    "\n",
    "# Create calculator for TCJA Reconciliation plan, minus refundable child tax credit\n",
    "\n",
    "pol_noctc = tc.Policy()\n",
    "pol_noctc.implement_reform(reform_noctc)\n",
    "\n",
    "calc = tc.Calculator(policy = pol_noctc, records = tc.Records())\n",
    "calc.advance_to_year(2018)\n",
    "calc.calc_all()\n",
    "\n",
    "# Create calculator for TCJA Reconciliation plan\n",
    "\n",
    "pol = tc.Policy()\n",
    "pol.implement_reform(reform)\n",
    "\n",
    "calc1 = tc.Calculator(records = tc.Records(), policy = pol)\n",
    "calc1.advance_to_year(2018)\n",
    "calc1.calc_all()"
   ]
  },
  {
   "cell_type": "code",
   "execution_count": 76,
   "metadata": {
    "collapsed": true
   },
   "outputs": [],
   "source": [
    "nlist = ['agi','std_amt','itm_amt','iitax','combined','payroll', 's006','mars','n24','xtot']\n",
    "vlist = ['c00100', 'standard', 'c04470', 'iitax','combined','payrolltax','s006','MARS', 'n24', 'XTOT']\n",
    "calcdf = taxdf(calc=calc, namelist=nlist, varlist=vlist)\n",
    "calcdf1 = taxdf(calc=calc1, namelist = nlist, varlist = vlist)"
   ]
  },
  {
   "cell_type": "code",
   "execution_count": 93,
   "metadata": {},
   "outputs": [
    {
     "name": "stdout",
     "output_type": "stream",
     "text": [
      "Fraction of (Refund Receiving) Beneficiaries that are Single or Head of Household with Kids: 0.773047002617\n",
      "Number of (Refund Receiving) Beneficiaries that are Single or Head of Household with Kids: 24997568.0\n",
      "Number of (Refund Receiving) Beneficiaries: 32336414.0\n",
      "Amount of Revenue Going towards Taxpayers Already Receiving Refunds: 15345656793.0\n",
      "Amount of Revenue for Entire Reform: 66952583983.0\n",
      "Amount of Revenue Going Towards Single Parent Beneficiaries: 10008230773.0\n"
     ]
    },
    {
     "data": {
      "text/plain": [
       "-75529279665.266907"
      ]
     },
     "execution_count": 93,
     "metadata": {},
     "output_type": "execute_result"
    }
   ],
   "source": [
    "# GET TOTAL MONEY SPENT ON CHILD TAX REFUNDS\n",
    "calcdf['w_iitaxdiff']=(calcdf['iitax']-calcdf1['iitax'])*calcdf['s006']\n",
    "calcdf['w_iitax'] = calcdf1['iitax'] * calcdf1['s006']\n",
    "calcdf['w_combined']=(calcdf['combined']-calcdf1['combined'])*calcdf['s006']\n",
    "calcdf['iitaxdiff']=calcdf['iitax']-calcdf1['iitax']\n",
    "calcdf_sp=copy.deepcopy(calcdf[calcdf['iitax']<0])\n",
    "single_kids=calcdf_sp[( (calcdf_sp['mars']==4))]['s006'].sum()\n",
    "single_kids1=calcdf_sp[( (calcdf_sp['mars']==1) | (calcdf_sp['mars']==4))]['s006'].sum()\n",
    "total=calcdf_sp['s006'].sum()\n",
    "# print(\"Fraction of (Refund Receiving) Beneficiaries that are Head of Household with Kids: \" +str(single_kids/total))\n",
    "# print(\"Number of (Refund Receiving) Beneficiaries that are Head of Household with Kids: \" +str(round(single_kids)))\n",
    "print(\"Fraction of (Refund Receiving) Beneficiaries that are Single or Head of Household with Kids: \" +str(single_kids1/total))\n",
    "print(\"Number of (Refund Receiving) Beneficiaries that are Single or Head of Household with Kids: \" +str(round(single_kids1)))\n",
    "print(\"Number of (Refund Receiving) Beneficiaries: \" +str(round(total)))\n",
    "print(\"Amount of Revenue Going towards Taxpayers Already Receiving Refunds: \" + str(round(calcdf_sp['w_iitaxdiff'].sum())))\n",
    "print(\"Amount of Revenue for Entire Reform: \" + str(round(calcdf['w_combined'].sum())))\n",
    "print('Amount of Revenue Going Towards Single Parent Beneficiaries: ' + str(round(calcdf_sp[( (calcdf_sp['mars']==1) | (calcdf_sp['mars']==4)) ]['w_iitaxdiff'].sum()\n",
    ")))\n",
    "calcdf_sp[( (calcdf_sp['mars']==1) | (calcdf_sp['mars']==4))]['w_iitax'].sum()"
   ]
  }
 ],
 "metadata": {
  "kernelspec": {
   "display_name": "Python (taxcalc-dev)",
   "language": "python",
   "name": "taxcalc-dev"
  },
  "language_info": {
   "codemirror_mode": {
    "name": "ipython",
    "version": 3
   },
   "file_extension": ".py",
   "mimetype": "text/x-python",
   "name": "python",
   "nbconvert_exporter": "python",
   "pygments_lexer": "ipython3",
   "version": "3.5.4"
  }
 },
 "nbformat": 4,
 "nbformat_minor": 2
}
