{
 "cells": [
  {
   "cell_type": "code",
   "execution_count": 6,
   "metadata": {
    "collapsed": true
   },
   "outputs": [],
   "source": [
    "import taxcalc as tc\n",
    "import pandas as pd\n",
    "import numpy as np\n",
    "import copy"
   ]
  },
  {
   "cell_type": "code",
   "execution_count": 7,
   "metadata": {
    "collapsed": true
   },
   "outputs": [],
   "source": [
    "# Dep_credit: nonrefundable portion\n",
    "# c07220: refundable portion, not yet calculated as ACTC\n",
    "# c11070: portion actually refunded\n",
    "# TODO: Create a function that takes a subpopulation and spits out total change in revenue, money going to CTC, eitc, per person, etc.\n",
    "\n",
    "def taxdf(calc, namelist, varlist):\n",
    "    calcu=copy.deepcopy(calc)\n",
    "    tdf=pd.DataFrame()\n",
    "    for v in range (0, len(namelist)):\n",
    "        tdf[namelist[v]]=getattr(calcu.records,varlist[v])\n",
    "    return tdf"
   ]
  },
  {
   "cell_type": "code",
   "execution_count": 8,
   "metadata": {
    "collapsed": true
   },
   "outputs": [],
   "source": [
    "def percentile(df, percentile, var):\n",
    "    df = df.sort_values(var, axis = 0)\n",
    "    df['cumsum'] = np.cumsum(df['s006'])\n",
    "    return df[df['cumsum'] <= (percentile/100) * df['cumsum'].max()].iloc[-1][var]"
   ]
  },
  {
   "cell_type": "code",
   "execution_count": 9,
   "metadata": {
    "scrolled": false
   },
   "outputs": [
    {
     "name": "stdout",
     "output_type": "stream",
     "text": [
      "You loaded data for 2009.\n",
      "Tax-Calculator startup automatically extrapolated your data to 2013.\n",
      "You loaded data for 2009.\n",
      "Tax-Calculator startup automatically extrapolated your data to 2013.\n"
     ]
    }
   ],
   "source": [
    "path_name = 'C:\\\\Users\\\\derrick.choe\\\\Tax-Calculator\\\\taxcalc\\\\reforms\\\\TCJA_Reconciliation.json'\n",
    "jfile = open(path_name, 'r')\n",
    "jtext = jfile.read()\n",
    "jfile.close()\n",
    "reform = tc.Calculator._read_json_policy_reform_text(jtext, {}, {})\n",
    "reform_noctc = tc.Calculator._read_json_policy_reform_text(jtext, {}, {})\n",
    "\n",
    "for y in range(2017,2027):\n",
    "    if y in reform_noctc.keys():\n",
    "        reform_noctc[y]['_CTC_c'] = [1000]\n",
    "        reform_noctc[y]['_DependentCredit_Child_c'] = [0]\n",
    "        reform_noctc[y]['_ACTC_Income_thd'] = [3000]\n",
    "        reform_noctc[y]['_CTC_ps'] = [[75000, 110000, 55000, 75000, 75000]]\n",
    "\n",
    "# Create calculator for TCJA Reconciliation plan, minus refundable child tax credit\n",
    "\n",
    "pol_noctc = tc.Policy()\n",
    "pol_noctc.implement_reform(reform_noctc)\n",
    "\n",
    "calc = tc.Calculator(policy = pol_noctc, records = tc.Records())\n",
    "calc.advance_to_year(2018)\n",
    "calc.calc_all()\n",
    "\n",
    "# Create calculator for TCJA Reconciliation plan EXPANSION\n",
    "\n",
    "pol = tc.Policy()\n",
    "pol.implement_reform(reform)\n",
    "\n",
    "calc1 = tc.Calculator(records = tc.Records(), policy = pol)\n",
    "calc1.advance_to_year(2018)\n",
    "calc1.calc_all()"
   ]
  },
  {
   "cell_type": "code",
   "execution_count": 10,
   "metadata": {},
   "outputs": [
    {
     "ename": "AttributeError",
     "evalue": "'Calculator' object has no attribute 'records'",
     "output_type": "error",
     "traceback": [
      "\u001b[1;31m---------------------------------------------------------------------------\u001b[0m",
      "\u001b[1;31mAttributeError\u001b[0m                            Traceback (most recent call last)",
      "\u001b[1;32m<ipython-input-10-10b6f2c18bec>\u001b[0m in \u001b[0;36m<module>\u001b[1;34m()\u001b[0m\n\u001b[0;32m      1\u001b[0m \u001b[0mnlist\u001b[0m \u001b[1;33m=\u001b[0m \u001b[1;33m[\u001b[0m\u001b[1;34m'c00100'\u001b[0m\u001b[1;33m,\u001b[0m \u001b[1;34m'standard'\u001b[0m\u001b[1;33m,\u001b[0m \u001b[1;34m'c04470'\u001b[0m\u001b[1;33m,\u001b[0m \u001b[1;34m'iitax'\u001b[0m\u001b[1;33m,\u001b[0m\u001b[1;34m'combined'\u001b[0m\u001b[1;33m,\u001b[0m\u001b[1;34m'payrolltax'\u001b[0m\u001b[1;33m,\u001b[0m\u001b[1;34m's006'\u001b[0m\u001b[1;33m,\u001b[0m\u001b[1;34m'MARS'\u001b[0m\u001b[1;33m,\u001b[0m \u001b[1;34m'n24'\u001b[0m\u001b[1;33m,\u001b[0m \u001b[1;34m'XTOT'\u001b[0m\u001b[1;33m,\u001b[0m \u001b[1;34m'c11070'\u001b[0m\u001b[1;33m,\u001b[0m \u001b[1;34m'c09600'\u001b[0m\u001b[1;33m,\u001b[0m \u001b[1;34m'refund'\u001b[0m\u001b[1;33m]\u001b[0m\u001b[1;33m\u001b[0m\u001b[0m\n\u001b[0;32m      2\u001b[0m \u001b[0mvlist\u001b[0m \u001b[1;33m=\u001b[0m \u001b[1;33m[\u001b[0m\u001b[1;34m'c00100'\u001b[0m\u001b[1;33m,\u001b[0m \u001b[1;34m'standard'\u001b[0m\u001b[1;33m,\u001b[0m \u001b[1;34m'c04470'\u001b[0m\u001b[1;33m,\u001b[0m \u001b[1;34m'iitax'\u001b[0m\u001b[1;33m,\u001b[0m\u001b[1;34m'combined'\u001b[0m\u001b[1;33m,\u001b[0m\u001b[1;34m'payrolltax'\u001b[0m\u001b[1;33m,\u001b[0m\u001b[1;34m's006'\u001b[0m\u001b[1;33m,\u001b[0m\u001b[1;34m'MARS'\u001b[0m\u001b[1;33m,\u001b[0m \u001b[1;34m'n24'\u001b[0m\u001b[1;33m,\u001b[0m \u001b[1;34m'XTOT'\u001b[0m\u001b[1;33m,\u001b[0m \u001b[1;34m'c11070'\u001b[0m\u001b[1;33m,\u001b[0m \u001b[1;34m'c09600'\u001b[0m\u001b[1;33m,\u001b[0m \u001b[1;34m'refund'\u001b[0m\u001b[1;33m]\u001b[0m\u001b[1;33m\u001b[0m\u001b[0m\n\u001b[1;32m----> 3\u001b[1;33m \u001b[0mcalcdf\u001b[0m \u001b[1;33m=\u001b[0m \u001b[0mtaxdf\u001b[0m\u001b[1;33m(\u001b[0m\u001b[0mcalc\u001b[0m\u001b[1;33m=\u001b[0m\u001b[0mcalc\u001b[0m\u001b[1;33m,\u001b[0m \u001b[0mnamelist\u001b[0m \u001b[1;33m=\u001b[0m \u001b[0mnlist\u001b[0m\u001b[1;33m,\u001b[0m \u001b[0mvarlist\u001b[0m \u001b[1;33m=\u001b[0m \u001b[0mnlist\u001b[0m\u001b[1;33m)\u001b[0m\u001b[1;33m\u001b[0m\u001b[0m\n\u001b[0m\u001b[0;32m      4\u001b[0m \u001b[0mcalcdf1\u001b[0m \u001b[1;33m=\u001b[0m \u001b[0mtaxdf\u001b[0m\u001b[1;33m(\u001b[0m\u001b[0mcalc\u001b[0m\u001b[1;33m=\u001b[0m\u001b[0mcalc1\u001b[0m\u001b[1;33m,\u001b[0m \u001b[0mnamelist\u001b[0m \u001b[1;33m=\u001b[0m \u001b[0mnlist\u001b[0m\u001b[1;33m,\u001b[0m \u001b[0mvarlist\u001b[0m \u001b[1;33m=\u001b[0m \u001b[0mnlist\u001b[0m\u001b[1;33m)\u001b[0m\u001b[1;33m\u001b[0m\u001b[0m\n",
      "\u001b[1;32m<ipython-input-7-38bc72a31135>\u001b[0m in \u001b[0;36mtaxdf\u001b[1;34m(calc, namelist, varlist)\u001b[0m\n\u001b[0;32m      8\u001b[0m     \u001b[0mtdf\u001b[0m\u001b[1;33m=\u001b[0m\u001b[0mpd\u001b[0m\u001b[1;33m.\u001b[0m\u001b[0mDataFrame\u001b[0m\u001b[1;33m(\u001b[0m\u001b[1;33m)\u001b[0m\u001b[1;33m\u001b[0m\u001b[0m\n\u001b[0;32m      9\u001b[0m     \u001b[1;32mfor\u001b[0m \u001b[0mv\u001b[0m \u001b[1;32min\u001b[0m \u001b[0mrange\u001b[0m \u001b[1;33m(\u001b[0m\u001b[1;36m0\u001b[0m\u001b[1;33m,\u001b[0m \u001b[0mlen\u001b[0m\u001b[1;33m(\u001b[0m\u001b[0mnamelist\u001b[0m\u001b[1;33m)\u001b[0m\u001b[1;33m)\u001b[0m\u001b[1;33m:\u001b[0m\u001b[1;33m\u001b[0m\u001b[0m\n\u001b[1;32m---> 10\u001b[1;33m         \u001b[0mtdf\u001b[0m\u001b[1;33m[\u001b[0m\u001b[0mnamelist\u001b[0m\u001b[1;33m[\u001b[0m\u001b[0mv\u001b[0m\u001b[1;33m]\u001b[0m\u001b[1;33m]\u001b[0m\u001b[1;33m=\u001b[0m\u001b[0mgetattr\u001b[0m\u001b[1;33m(\u001b[0m\u001b[0mcalcu\u001b[0m\u001b[1;33m.\u001b[0m\u001b[0mrecords\u001b[0m\u001b[1;33m,\u001b[0m\u001b[0mvarlist\u001b[0m\u001b[1;33m[\u001b[0m\u001b[0mv\u001b[0m\u001b[1;33m]\u001b[0m\u001b[1;33m)\u001b[0m\u001b[1;33m\u001b[0m\u001b[0m\n\u001b[0m\u001b[0;32m     11\u001b[0m     \u001b[1;32mreturn\u001b[0m \u001b[0mtdf\u001b[0m\u001b[1;33m\u001b[0m\u001b[0m\n",
      "\u001b[1;31mAttributeError\u001b[0m: 'Calculator' object has no attribute 'records'"
     ]
    }
   ],
   "source": [
    "nlist = ['c00100', 'standard', 'c04470', 'iitax','combined','payrolltax','s006','MARS', 'n24', 'XTOT', 'c11070', 'c09600', 'refund']\n",
    "vlist = ['c00100', 'standard', 'c04470', 'iitax','combined','payrolltax','s006','MARS', 'n24', 'XTOT', 'c11070', 'c09600', 'refund']\n",
    "calcdf = taxdf(calc=calc, namelist = nlist, varlist = nlist)\n",
    "calcdf1 = taxdf(calc=calc1, namelist = nlist, varlist = nlist)"
   ]
  },
  {
   "cell_type": "code",
   "execution_count": null,
   "metadata": {
    "collapsed": true
   },
   "outputs": [],
   "source": [
    "# GET TOTAL MONEY SPENT ON CHILD TAX REFUNDS\n",
    "# MAKE SINGLE PARENT DUMMY ARRAY\n",
    "def costdiff(no_expansion, expansion, subpop):\n",
    "    expansion['w_iitaxdiff'] = (expansion['iitax'] - no_expansion['iitax'])*no_expansion['s006']\n",
    "    expansion['w_c11070'] = expansion['c11070'] * no_expansion['s006']\n",
    "    expansion_sp = copy.deepcopy(expansion[subpop])\n",
    "    singleparent = ((expansion_sp['MARS'] == 1) | (expansion_sp['MARS'] == 4)) & (expansion_sp['n24']  >  0)\n",
    "    num_single_parents = expansion_sp[singleparent]['s006'].sum()\n",
    "    total = expansion_sp['s006'].sum()\n",
    "    print(\"Number of Beneficiaries in Group that are Single or Head of Household with Kids: \" +\n",
    "          '{:,}'.format(round(num_single_parents)))\n",
    "    print(\"Number of Beneficiaries in Group: \" +\n",
    "          '{:,}'.format(round(total)))\n",
    "    print(\"Amount of Revenue Going towards Taxpayers in Group: \" + \n",
    "          '{:,}'.format(round(expansion_sp['w_iitaxdiff'].sum())))\n",
    "    print('Amount of Revenue Going Towards Single Parent Beneficiaries: ' +\n",
    "          '{:,}'.format(round(expansion_sp[singleparent]['w_iitaxdiff'].sum())))\n",
    "    print('Total ACTC Benefits Claimed by Group: ' +\n",
    "          '{:,}'.format(round(expansion[subpop]['w_c11070'].sum())))\n",
    "    print('Total ACTC Benefits Claimed by Single Parents in Group: ' +\n",
    "          '{:,}'.format(round(expansion_sp[singleparent]['w_c11070'].sum())))    "
   ]
  },
  {
   "cell_type": "code",
   "execution_count": null,
   "metadata": {},
   "outputs": [],
   "source": [
    "# CHECK IF REFUND RECEIVING BENEFICIARIES ARE FOR CURRENT LAW, TCJA, or TCJA without CTC expansion\n",
    "pop1 = [(calcdf['iitax'] < 0), 'Refund-Receiving Beneficiaries']\n",
    "pop2 = [((calcdf['iitax'] < 0) & (calcdf['c00100'].between(5000, 10000))), 'Refund-Receiving Beneficiaries, AGI of 5-10 Thousand']\n",
    "pop3 = [((calcdf['iitax'] < 0) & (calcdf['c00100'].between(10000, 15000))), 'Refund-Receiving Beneficiaries, AGI of 10-15 Thousand']\n",
    "pop4 = [((calcdf['iitax'] < 0) & (calcdf['c00100'].between(15000, 20000))), 'Refund-Receiving Beneficiaries, AGI of 15-20 Thousand']\n",
    "pop5 = [((calcdf['iitax'] < 0) & (calcdf['c00100'].between(20000, 25000))), 'Refund-Receiving Beneficiaries, AGI of 20-25 Thousand']\n",
    "pop6 = [((calcdf['iitax'] < 0) & (calcdf['c00100'].between(25000, 30000))), 'Refund-Receiving Beneficiaries, AGI of 25-30 Thousand']\n",
    "\n",
    "for x in [pop1, pop2, pop3, pop4, pop5, pop6]:\n",
    "    print(x[1])\n",
    "    costdiff(calcdf, calcdf1, x[0])\n",
    "    print('\\n')"
   ]
  },
  {
   "cell_type": "code",
   "execution_count": null,
   "metadata": {},
   "outputs": [],
   "source": [
    "percentile(calcdf[pop1], percentile=50, var = 'c00100')"
   ]
  }
 ],
 "metadata": {
  "kernelspec": {
   "display_name": "Python (taxcalc-dev)",
   "language": "python",
   "name": "taxcalc-dev"
  },
  "language_info": {
   "codemirror_mode": {
    "name": "ipython",
    "version": 3
   },
   "file_extension": ".py",
   "mimetype": "text/x-python",
   "name": "python",
   "nbconvert_exporter": "python",
   "pygments_lexer": "ipython3",
   "version": "3.5.4"
  }
 },
 "nbformat": 4,
 "nbformat_minor": 2
}
