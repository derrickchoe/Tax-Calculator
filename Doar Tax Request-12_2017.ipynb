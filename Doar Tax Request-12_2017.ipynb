{
 "cells": [
  {
   "cell_type": "code",
   "execution_count": 2,
   "metadata": {
    "collapsed": true
   },
   "outputs": [],
   "source": [
    "import taxcalc as tc\n",
    "import pandas as pd\n",
    "import numpy as np\n",
    "import copy"
   ]
  },
  {
   "cell_type": "code",
   "execution_count": 3,
   "metadata": {
    "collapsed": true
   },
   "outputs": [],
   "source": [
    "# Dep_credit: nonrefundable portion\n",
    "# c07220: refundable portion, not yet calculated as ACTC\n",
    "# c11070: portion actually refunded\n",
    "# TODO: Create a function that takes a subpopulation and spits out total change in revenue, money going to CTC, eitc, per person, etc.\n",
    "\n",
    "def taxdf(calc, namelist, varlist):\n",
    "    calcu=copy.deepcopy(calc)\n",
    "    tdf=pd.DataFrame()\n",
    "    for v in range (0, len(namelist)):\n",
    "        tdf[namelist[v]]=getattr(calcu.records,varlist[v])\n",
    "    return tdf"
   ]
  },
  {
   "cell_type": "code",
   "execution_count": 21,
   "metadata": {},
   "outputs": [],
   "source": [
    "def percentile(df, percentile, var):\n",
    "    df = df.sort_values(var, axis = 0)\n",
    "    df['cumsum'] = np.cumsum(df['s006'])\n",
    "    return df[df['cumsum'] <= (percentile/100) * df['cumsum'].max()].iloc[-1][var]"
   ]
  },
  {
   "cell_type": "code",
   "execution_count": 5,
   "metadata": {
    "scrolled": false
   },
   "outputs": [
    {
     "name": "stdout",
     "output_type": "stream",
     "text": [
      "You loaded data for 2009.\n",
      "Tax-Calculator startup automatically extrapolated your data to 2013.\n",
      "You loaded data for 2009.\n",
      "Tax-Calculator startup automatically extrapolated your data to 2013.\n"
     ]
    }
   ],
   "source": [
    "path_name = 'C:\\\\Users\\\\derrick.choe\\\\Tax-Calculator\\\\taxcalc\\\\reforms\\\\TCJA_Reconciliation.json'\n",
    "jfile = open(path_name, 'r')\n",
    "jtext = jfile.read()\n",
    "jfile.close()\n",
    "reform = tc.Calculator._read_json_policy_reform_text(jtext, {}, {})\n",
    "reform_noctc = tc.Calculator._read_json_policy_reform_text(jtext, {}, {})\n",
    "\n",
    "for y in range(2017,2027):\n",
    "    if y in reform_noctc.keys():\n",
    "        reform_noctc[y]['_CTC_c'] = [1000]\n",
    "        reform_noctc[y]['_DependentCredit_Child_c'] = [0]\n",
    "        reform_noctc[y]['_ACTC_Income_thd'] = [3000]\n",
    "        reform_noctc[y]['_CTC_ps'] = [[75000, 110000, 55000, 75000, 75000]]\n",
    "\n",
    "# Create calculator for TCJA Reconciliation plan, minus refundable child tax credit\n",
    "\n",
    "pol_noctc = tc.Policy()\n",
    "pol_noctc.implement_reform(reform_noctc)\n",
    "\n",
    "calc = tc.Calculator(policy = pol_noctc, records = tc.Records())\n",
    "calc.advance_to_year(2018)\n",
    "calc.calc_all()\n",
    "\n",
    "# Create calculator for TCJA Reconciliation plan EXPANSION\n",
    "\n",
    "pol = tc.Policy()\n",
    "pol.implement_reform(reform)\n",
    "\n",
    "calc1 = tc.Calculator(records = tc.Records(), policy = pol)\n",
    "calc1.advance_to_year(2018)\n",
    "calc1.calc_all()"
   ]
  },
  {
   "cell_type": "code",
   "execution_count": 6,
   "metadata": {
    "collapsed": true
   },
   "outputs": [],
   "source": [
    "nlist = ['c00100', 'standard', 'c04470', 'iitax','combined','payrolltax','s006','MARS', 'n24', 'XTOT', 'c11070', 'c09600', 'refund']\n",
    "vlist = ['c00100', 'standard', 'c04470', 'iitax','combined','payrolltax','s006','MARS', 'n24', 'XTOT', 'c11070', 'c09600', 'refund']\n",
    "calcdf = taxdf(calc=calc, namelist = nlist, varlist = nlist)\n",
    "calcdf1 = taxdf(calc=calc1, namelist = nlist, varlist = nlist)"
   ]
  },
  {
   "cell_type": "code",
   "execution_count": 7,
   "metadata": {
    "collapsed": true
   },
   "outputs": [],
   "source": [
    "# GET TOTAL MONEY SPENT ON CHILD TAX REFUNDS\n",
    "# MAKE SINGLE PARENT DUMMY ARRAY\n",
    "def costdiff(no_expansion, expansion, subpop):\n",
    "    expansion['w_iitaxdiff'] = (expansion['iitax'] - no_expansion['iitax'])*no_expansion['s006']\n",
    "    expansion['w_c11070'] = expansion['c11070'] * no_expansion['s006']\n",
    "    expansion_sp = copy.deepcopy(expansion[subpop])\n",
    "    singleparent = ((expansion_sp['MARS'] == 1) | (expansion_sp['MARS'] == 4)) & (expansion_sp['n24']  >  0)\n",
    "    num_single_parents = expansion_sp[singleparent]['s006'].sum()\n",
    "    total = expansion_sp['s006'].sum()\n",
    "    print(\"Number of Beneficiaries in Group that are Single or Head of Household with Kids: \" +\n",
    "          '{:,}'.format(round(num_single_parents)))\n",
    "    print(\"Number of Beneficiaries in Group: \" +\n",
    "          '{:,}'.format(round(total)))\n",
    "    print(\"Amount of Revenue Going towards Taxpayers in Group: \" + \n",
    "          '{:,}'.format(round(expansion_sp['w_iitaxdiff'].sum())))\n",
    "    print('Amount of Revenue Going Towards Single Parent Beneficiaries: ' +\n",
    "          '{:,}'.format(round(expansion_sp[singleparent]['w_iitaxdiff'].sum())))\n",
    "    print('Total ACTC Benefits Claimed by Group: ' +\n",
    "          '{:,}'.format(round(expansion[subpop]['w_c11070'].sum())))\n",
    "    print('Total ACTC Benefits Claimed by Single Parents in Group: ' +\n",
    "          '{:,}'.format(round(expansion_sp[singleparent]['w_c11070'].sum())))    "
   ]
  },
  {
   "cell_type": "code",
   "execution_count": 39,
   "metadata": {},
   "outputs": [
    {
     "name": "stdout",
     "output_type": "stream",
     "text": [
      "Refund-Receiving Beneficiaries\n",
      "Number of Beneficiaries in Group that are Single or Head of Household with Kids: 14,210,587.0\n",
      "Number of Beneficiaries in Group: 32,336,414.0\n",
      "Amount of Revenue Going towards Taxpayers in Group: -15,345,656,793.0\n",
      "Amount of Revenue Going Towards Single Parent Beneficiaries: -10,008,230,773.0\n",
      "Total ACTC Benefits Claimed by Group: 34,216,923,255.0\n",
      "Total ACTC Benefits Claimed by Single Parents in Group: 22,755,933,414.0\n",
      "\n",
      "\n",
      "Refund-Receiving Beneficiaries, AGI of 5-15 Thousand\n",
      "Number of Beneficiaries in Group that are Single or Head of Household with Kids: 3,702,256.0\n",
      "Number of Beneficiaries in Group: 10,295,002.0\n",
      "Amount of Revenue Going towards Taxpayers in Group: -809,779,893.0\n",
      "Amount of Revenue Going Towards Single Parent Beneficiaries: -671,929,033.0\n",
      "Total ACTC Benefits Claimed by Group: 4,956,762,216.0\n",
      "Total ACTC Benefits Claimed by Single Parents in Group: 4,081,693,009.0\n",
      "\n",
      "\n",
      "Refund-Receiving Beneficiaries, AGI of 15-25 Thousand\n",
      "Number of Beneficiaries in Group that are Single or Head of Household with Kids: 4,939,009.0\n",
      "Number of Beneficiaries in Group: 7,979,997.0\n",
      "Amount of Revenue Going towards Taxpayers in Group: -3,014,409,265.0\n",
      "Amount of Revenue Going Towards Single Parent Beneficiaries: -2,579,057,284.0\n",
      "Total ACTC Benefits Claimed by Group: 11,716,034,620.0\n",
      "Total ACTC Benefits Claimed by Single Parents in Group: 9,238,887,867.0\n",
      "\n",
      "\n",
      "Refund-Receiving Beneficiaries, AGI of 19-21 Thousand\n",
      "Number of Beneficiaries in Group that are Single or Head of Household with Kids: 1,068,172.0\n",
      "Number of Beneficiaries in Group: 1,725,261.0\n",
      "Amount of Revenue Going towards Taxpayers in Group: -717,733,962.0\n",
      "Amount of Revenue Going Towards Single Parent Beneficiaries: -620,910,027.0\n",
      "Total ACTC Benefits Claimed by Group: 2,619,400,323.0\n",
      "Total ACTC Benefits Claimed by Single Parents in Group: 2,091,169,138.0\n",
      "\n",
      "\n"
     ]
    }
   ],
   "source": [
    "# CHECK IF REFUND RECEIVING BENEFICIARIES ARE FOR CURRENT LAW, TCJA, or TCJA without CTC expansion\n",
    "pop1 = [(calcdf['iitax'] < 0), 'Refund-Receiving Beneficiaries']\n",
    "pop2 = [((calcdf['iitax'] < 0) & (calcdf['c00100'].between(5000, 15000))), 'Refund-Receiving Beneficiaries, AGI of 5-15 Thousand']\n",
    "pop3 = [((calcdf['iitax'] < 0) & (calcdf['c00100'].between(15000, 25000))), 'Refund-Receiving Beneficiaries, AGI of 15-25 Thousand']\n",
    "pop4 = [((calcdf['iitax'] < 0) & (calcdf['c00100'].between(19000, 21000))), 'Refund-Receiving Beneficiaries, AGI of 19-21 Thousand']\n",
    "\n",
    "for x in [pop1, pop2, pop3, pop4]:\n",
    "    print(x[1])\n",
    "    costdiff(calcdf, calcdf1, x[0])\n",
    "    print('\\n')"
   ]
  },
  {
   "cell_type": "code",
   "execution_count": 25,
   "metadata": {},
   "outputs": [
    {
     "data": {
      "text/plain": [
       "16274.535721311191"
      ]
     },
     "execution_count": 25,
     "metadata": {},
     "output_type": "execute_result"
    }
   ],
   "source": [
    "percentile(calcdf[pop1], percentile=50, var = 'c00100')"
   ]
  },
  {
   "cell_type": "code",
   "execution_count": 37,
   "metadata": {},
   "outputs": [
    {
     "data": {
      "text/plain": [
       "1957.7082511056271"
      ]
     },
     "execution_count": 37,
     "metadata": {},
     "output_type": "execute_result"
    }
   ],
   "source": [
    "2091169138.0/1068172.0"
   ]
  }
 ],
 "metadata": {
  "kernelspec": {
   "display_name": "Python (taxcalc-dev)",
   "language": "python",
   "name": "taxcalc-dev"
  },
  "language_info": {
   "codemirror_mode": {
    "name": "ipython",
    "version": 3
   },
   "file_extension": ".py",
   "mimetype": "text/x-python",
   "name": "python",
   "nbconvert_exporter": "python",
   "pygments_lexer": "ipython3",
   "version": "3.5.4"
  }
 },
 "nbformat": 4,
 "nbformat_minor": 2
}
