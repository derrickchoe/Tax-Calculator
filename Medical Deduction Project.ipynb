{
 "cells": [
  {
   "cell_type": "code",
   "execution_count": 9,
   "metadata": {
    "hideCode": false,
    "hidePrompt": false
   },
   "outputs": [],
   "source": [
    "import taxcalc as tc\n",
    "import pandas as pd\n",
    "import numpy as np\n",
    "import copy\n",
    "from bokeh.plotting import figure, output_file, show, save\n",
    "from bokeh.io import output_notebook, export_png, export_svgs"
   ]
  },
  {
   "cell_type": "code",
   "execution_count": null,
   "metadata": {},
   "outputs": [],
   "source": []
  },
  {
   "cell_type": "code",
   "execution_count": 10,
   "metadata": {},
   "outputs": [
    {
     "name": "stdout",
     "output_type": "stream",
     "text": [
      "You loaded data for 2009.\n",
      "Tax-Calculator startup automatically extrapolated your data to 2013.\n"
     ]
    },
    {
     "data": {
      "text/plain": [
       "7607134.8599999994"
      ]
     },
     "execution_count": 10,
     "metadata": {},
     "output_type": "execute_result"
    }
   ],
   "source": [
    "calc = tc.Calculator(records = tc.Records(), policy = tc.Policy())\n",
    "calc.advance_to_year(2013)\n",
    "calc.calc_all()\n",
    "np.where((calc.records.c17000 > 0) & (calc.records.c04470 > 0), calc.records.s006, 0).sum() "
   ]
  },
  {
   "cell_type": "code",
   "execution_count": null,
   "metadata": {},
   "outputs": [],
   "source": []
  },
  {
   "cell_type": "code",
   "execution_count": null,
   "metadata": {},
   "outputs": [],
   "source": []
  },
  {
   "cell_type": "code",
   "execution_count": null,
   "metadata": {},
   "outputs": [],
   "source": []
  },
  {
   "cell_type": "code",
   "execution_count": 514,
   "metadata": {
    "hideCode": false,
    "hidePrompt": false
   },
   "outputs": [],
   "source": [
    "# Maybe change groupfig to handle different functions-- create w_sum to get total number of people, etc. This might not be necessary\n",
    "# maybe include a last appended stat to the end of each groupfig output-- average for the entire population\n",
    "# Figure out how to handle negative agis"
   ]
  },
  {
   "cell_type": "code",
   "execution_count": 515,
   "metadata": {
    "hideCode": false,
    "hidePrompt": false
   },
   "outputs": [
    {
     "data": {
      "text/html": [
       "\n",
       "    <div class=\"bk-root\">\n",
       "        <a href=\"https://bokeh.pydata.org\" target=\"_blank\" class=\"bk-logo bk-logo-small bk-logo-notebook\"></a>\n",
       "        <span id=\"ff40c67f-04ff-4d5e-ad0d-dc4da903f49c\">Loading BokehJS ...</span>\n",
       "    </div>"
      ]
     },
     "metadata": {},
     "output_type": "display_data"
    },
    {
     "data": {
      "application/javascript": [
       "\n",
       "(function(root) {\n",
       "  function now() {\n",
       "    return new Date();\n",
       "  }\n",
       "\n",
       "  var force = true;\n",
       "\n",
       "  if (typeof (root._bokeh_onload_callbacks) === \"undefined\" || force === true) {\n",
       "    root._bokeh_onload_callbacks = [];\n",
       "    root._bokeh_is_loading = undefined;\n",
       "  }\n",
       "\n",
       "\n",
       "  \n",
       "  if (typeof (root._bokeh_timeout) === \"undefined\" || force === true) {\n",
       "    root._bokeh_timeout = Date.now() + 5000;\n",
       "    root._bokeh_failed_load = false;\n",
       "  }\n",
       "\n",
       "  var NB_LOAD_WARNING = {'data': {'text/html':\n",
       "     \"<div style='background-color: #fdd'>\\n\"+\n",
       "     \"<p>\\n\"+\n",
       "     \"BokehJS does not appear to have successfully loaded. If loading BokehJS from CDN, this \\n\"+\n",
       "     \"may be due to a slow or bad network connection. Possible fixes:\\n\"+\n",
       "     \"</p>\\n\"+\n",
       "     \"<ul>\\n\"+\n",
       "     \"<li>re-rerun `output_notebook()` to attempt to load from CDN again, or</li>\\n\"+\n",
       "     \"<li>use INLINE resources instead, as so:</li>\\n\"+\n",
       "     \"</ul>\\n\"+\n",
       "     \"<code>\\n\"+\n",
       "     \"from bokeh.resources import INLINE\\n\"+\n",
       "     \"output_notebook(resources=INLINE)\\n\"+\n",
       "     \"</code>\\n\"+\n",
       "     \"</div>\"}};\n",
       "\n",
       "  function display_loaded() {\n",
       "    if (root.Bokeh !== undefined) {\n",
       "      var el = document.getElementById(\"ff40c67f-04ff-4d5e-ad0d-dc4da903f49c\");\n",
       "      if (el != null) {\n",
       "        el.textContent = \"BokehJS \" + Bokeh.version + \" successfully loaded.\";\n",
       "      }\n",
       "    } else if (Date.now() < root._bokeh_timeout) {\n",
       "      setTimeout(display_loaded, 100)\n",
       "    }\n",
       "  }\n",
       "\n",
       "\n",
       "  function run_callbacks() {\n",
       "    try {\n",
       "      root._bokeh_onload_callbacks.forEach(function(callback) { callback() });\n",
       "    }\n",
       "    finally {\n",
       "      delete root._bokeh_onload_callbacks\n",
       "    }\n",
       "    console.info(\"Bokeh: all callbacks have finished\");\n",
       "  }\n",
       "\n",
       "  function load_libs(js_urls, callback) {\n",
       "    root._bokeh_onload_callbacks.push(callback);\n",
       "    if (root._bokeh_is_loading > 0) {\n",
       "      console.log(\"Bokeh: BokehJS is being loaded, scheduling callback at\", now());\n",
       "      return null;\n",
       "    }\n",
       "    if (js_urls == null || js_urls.length === 0) {\n",
       "      run_callbacks();\n",
       "      return null;\n",
       "    }\n",
       "    console.log(\"Bokeh: BokehJS not loaded, scheduling load and callback at\", now());\n",
       "    root._bokeh_is_loading = js_urls.length;\n",
       "    for (var i = 0; i < js_urls.length; i++) {\n",
       "      var url = js_urls[i];\n",
       "      var s = document.createElement('script');\n",
       "      s.src = url;\n",
       "      s.async = false;\n",
       "      s.onreadystatechange = s.onload = function() {\n",
       "        root._bokeh_is_loading--;\n",
       "        if (root._bokeh_is_loading === 0) {\n",
       "          console.log(\"Bokeh: all BokehJS libraries loaded\");\n",
       "          run_callbacks()\n",
       "        }\n",
       "      };\n",
       "      s.onerror = function() {\n",
       "        console.warn(\"failed to load library \" + url);\n",
       "      };\n",
       "      console.log(\"Bokeh: injecting script tag for BokehJS library: \", url);\n",
       "      document.getElementsByTagName(\"head\")[0].appendChild(s);\n",
       "    }\n",
       "  };var element = document.getElementById(\"ff40c67f-04ff-4d5e-ad0d-dc4da903f49c\");\n",
       "  if (element == null) {\n",
       "    console.log(\"Bokeh: ERROR: autoload.js configured with elementid 'ff40c67f-04ff-4d5e-ad0d-dc4da903f49c' but no matching script tag was found. \")\n",
       "    return false;\n",
       "  }\n",
       "\n",
       "  var js_urls = [\"https://cdn.pydata.org/bokeh/release/bokeh-0.12.7.min.js\", \"https://cdn.pydata.org/bokeh/release/bokeh-widgets-0.12.7.min.js\", \"https://cdn.pydata.org/bokeh/release/bokeh-tables-0.12.7.min.js\", \"https://cdn.pydata.org/bokeh/release/bokeh-gl-0.12.7.min.js\"];\n",
       "\n",
       "  var inline_js = [\n",
       "    function(Bokeh) {\n",
       "      Bokeh.set_log_level(\"info\");\n",
       "    },\n",
       "    \n",
       "    function(Bokeh) {\n",
       "      \n",
       "    },\n",
       "    \n",
       "    function(Bokeh) {\n",
       "      \n",
       "      document.getElementById(\"ff40c67f-04ff-4d5e-ad0d-dc4da903f49c\").textContent = \"BokehJS is loading...\";\n",
       "    },\n",
       "    function(Bokeh) {\n",
       "      console.log(\"Bokeh: injecting CSS: https://cdn.pydata.org/bokeh/release/bokeh-0.12.7.min.css\");\n",
       "      Bokeh.embed.inject_css(\"https://cdn.pydata.org/bokeh/release/bokeh-0.12.7.min.css\");\n",
       "      console.log(\"Bokeh: injecting CSS: https://cdn.pydata.org/bokeh/release/bokeh-widgets-0.12.7.min.css\");\n",
       "      Bokeh.embed.inject_css(\"https://cdn.pydata.org/bokeh/release/bokeh-widgets-0.12.7.min.css\");\n",
       "      console.log(\"Bokeh: injecting CSS: https://cdn.pydata.org/bokeh/release/bokeh-tables-0.12.7.min.css\");\n",
       "      Bokeh.embed.inject_css(\"https://cdn.pydata.org/bokeh/release/bokeh-tables-0.12.7.min.css\");\n",
       "    }\n",
       "  ];\n",
       "\n",
       "  function run_inline_js() {\n",
       "    \n",
       "    if ((root.Bokeh !== undefined) || (force === true)) {\n",
       "      for (var i = 0; i < inline_js.length; i++) {\n",
       "        inline_js[i].call(root, root.Bokeh);\n",
       "      }if (force === true) {\n",
       "        display_loaded();\n",
       "      }} else if (Date.now() < root._bokeh_timeout) {\n",
       "      setTimeout(run_inline_js, 100);\n",
       "    } else if (!root._bokeh_failed_load) {\n",
       "      console.log(\"Bokeh: BokehJS failed to load within specified timeout.\");\n",
       "      root._bokeh_failed_load = true;\n",
       "    } else if (force !== true) {\n",
       "      var cell = $(document.getElementById(\"ff40c67f-04ff-4d5e-ad0d-dc4da903f49c\")).parents('.cell').data().cell;\n",
       "      cell.output_area.append_execute_result(NB_LOAD_WARNING)\n",
       "    }\n",
       "\n",
       "  }\n",
       "\n",
       "  if (root._bokeh_is_loading === 0) {\n",
       "    console.log(\"Bokeh: BokehJS loaded, going straight to plotting\");\n",
       "    run_inline_js();\n",
       "  } else {\n",
       "    load_libs(js_urls, function() {\n",
       "      console.log(\"Bokeh: BokehJS plotting callback run at\", now());\n",
       "      run_inline_js();\n",
       "    });\n",
       "  }\n",
       "}(window));"
      ]
     },
     "metadata": {},
     "output_type": "display_data"
    },
    {
     "name": "stdout",
     "output_type": "stream",
     "text": [
      "pre_tcja_10perc\n"
     ]
    }
   ],
   "source": [
    "year = 2015\n",
    "law = 'pre_tcja_10perc'\n",
    "output_notebook()\n",
    "exceldf = pd.DataFrame()\n",
    "path = '..\\\\dropbox\\\\MedicalDeductions\\\\med_ded_output\\\\' + str(year) + '_'\n",
    "writer = pd.ExcelWriter(path + law + '.xlsx')\n",
    "print(law)"
   ]
  },
  {
   "cell_type": "code",
   "execution_count": 516,
   "metadata": {
    "hideCode": false,
    "hidePrompt": false
   },
   "outputs": [],
   "source": [
    "# Reform\n",
    "path_name = 'C:\\\\Users\\\\derrick.choe\\\\Tax-Calculator\\\\taxcalc\\\\reforms\\\\2017_law.json'\n",
    "jfile = open(path_name, 'r')\n",
    "jtext = jfile.read()\n",
    "jfile.close()\n",
    "if law == 'pre_tcja_7hperc':\n",
    "    reform = tc.Calculator._read_json_policy_reform_text(jtext, {}, {})\n",
    "    reform[year]['_ID_Medical_frt'] = [0.075]\n",
    "if law == 'tcja':\n",
    "    reform = {year: {}}\n",
    "if law == 'tcja_no_st':\n",
    "    reform = {year: {'_STD': [[6350.00, 12700.00, 6350.00, 9350.00, 12700.00]]}}\n",
    "if law == 'pre_tcja_10perc':\n",
    "    reform = tc.Calculator._read_json_policy_reform_text(jtext, {}, {})\n",
    "#     reform[year]['_ID_Medical_frt'] = [0.1]\n",
    "\n",
    "\n",
    "\n",
    "pol = tc.Policy()\n",
    "pol.implement_reform(reform)"
   ]
  },
  {
   "cell_type": "code",
   "execution_count": 517,
   "metadata": {
    "hideCode": false,
    "hidePrompt": false
   },
   "outputs": [],
   "source": [
    "def taxdf(calc, namelist, varlist):\n",
    "    calcu=copy.deepcopy(calc)\n",
    "    tdf=pd.DataFrame()\n",
    "    for v in range (0, len(namelist)):\n",
    "        tdf[namelist[v]]=getattr(calcu.records,varlist[v])\n",
    "    return tdf"
   ]
  },
  {
   "cell_type": "code",
   "execution_count": 518,
   "metadata": {
    "hideCode": false,
    "hidePrompt": false
   },
   "outputs": [],
   "source": [
    "def createcalc(year, records=tc.Records(), policy=tc.Policy()):\n",
    "        calc=tc.Calculator(records=records, policy=policy)\n",
    "        calc.advance_to_year(year)\n",
    "        calc.calc_all()\n",
    "        return calc"
   ]
  },
  {
   "cell_type": "code",
   "execution_count": 519,
   "metadata": {
    "hideCode": false,
    "hidePrompt": false
   },
   "outputs": [],
   "source": [
    "def w_avg(df, var, wtvar = 's006'):\n",
    "    return (df[var] * df[wtvar]).sum() / df[wtvar].sum()"
   ]
  },
  {
   "cell_type": "code",
   "execution_count": 520,
   "metadata": {
    "hideCode": false,
    "hidePrompt": false
   },
   "outputs": [],
   "source": [
    "def bin_means(df, var, wtvar = 's006'):\n",
    "    graphlist = []\n",
    "    declist = []\n",
    "    for b in range(1, 11):\n",
    "        subpop = copy.deepcopy(df[df['bins'] == b])\n",
    "        graphlist.append( w_avg(subpop, var, wtvar))\n",
    "        declist.append(\"Decile \"+ str(b))\n",
    "    return [graphlist, declist]"
   ]
  },
  {
   "cell_type": "code",
   "execution_count": 521,
   "metadata": {
    "hideCode": false,
    "hidePrompt": false
   },
   "outputs": [],
   "source": [
    "def groupfig(df, var, title = \"\", wtvar = 's006'):\n",
    "    graphlist = bin_means(df, var, wtvar)[0]\n",
    "    declist = bin_means(df, var, wtvar)[1]\n",
    "    f = figure(title = title)\n",
    "    f.xaxis.axis_label = 'AGI Bins: ' + str(1) + \" through \" + str(10)\n",
    "    f.line(range(1, 11), graphlist)\n",
    "#     show(f)\n",
    "    exceldf[title] = graphlist\n",
    "    return list(zip(declist, graphlist))"
   ]
  },
  {
   "cell_type": "code",
   "execution_count": 522,
   "metadata": {
    "hideCode": false,
    "hidePrompt": false
   },
   "outputs": [],
   "source": [
    "def groupfig_med(df, var, title = \"\", wtvar = 's006'):\n",
    "    graphlist = []\n",
    "    declist = []\n",
    "    for b in range(1, 11):\n",
    "        subpop = copy.deepcopy(df[df['bins'] == b].sort_values(var))\n",
    "        subpop['csum'] = np.cumsum(subpop[wtvar])\n",
    "        graphlist.append(subpop[subpop['csum'] < subpop['csum'].max() / 2].iloc[-1][var])\n",
    "        declist.append(\"Decile \"+ str(b))\n",
    "    f = figure(title = title)\n",
    "    f.xaxis.axis_label = 'AGI Bins: ' + str(1) + \" through \" + str(10)\n",
    "    f.line(range(1,11), graphlist)\n",
    "#     show(f)\n",
    "    exceldf[title] = graphlist\n",
    "    return list(zip(declist, graphlist))"
   ]
  },
  {
   "cell_type": "code",
   "execution_count": 523,
   "metadata": {
    "hideCode": false,
    "hidePrompt": false
   },
   "outputs": [],
   "source": [
    "vlist=['c00100', 'standard', 'c04470', 'iitax','c19700', 'c17000','e17500', 'e19800','e19200', 'c19200','e20100','combined','MARS','c18300','mtr_inctax','s006']"
   ]
  },
  {
   "cell_type": "code",
   "execution_count": 524,
   "metadata": {
    "hideCode": false,
    "hidePrompt": false
   },
   "outputs": [
    {
     "name": "stdout",
     "output_type": "stream",
     "text": [
      "You loaded data for 2009.\n",
      "Tax-Calculator startup automatically extrapolated your data to 2013.\n",
      "loaded\n"
     ]
    }
   ],
   "source": [
    "# Baseline calculator for bins\n",
    "calc = createcalc(year = year, records = tc.Records(), policy = tc.Policy())\n",
    "calcdf = taxdf(calc, vlist, vlist)\n",
    "calcdf_pos = copy.deepcopy(calcdf[calcdf['c00100'] > 5000])\n",
    "tc.add_quantile_bins(calcdf_pos, income_measure = 'c00100', num_bins = 10)\n",
    "print(\"loaded\")"
   ]
  },
  {
   "cell_type": "code",
   "execution_count": 525,
   "metadata": {
    "hideCode": false,
    "hidePrompt": false
   },
   "outputs": [
    {
     "name": "stdout",
     "output_type": "stream",
     "text": [
      "You loaded data for 2009.\n",
      "Tax-Calculator startup automatically extrapolated your data to 2013.\n"
     ]
    }
   ],
   "source": [
    "#Baseline Calculator\n",
    "calc_base=createcalc(year = year, records = tc.Records(), policy = pol)\n",
    "\n",
    "tdf_og = taxdf(calc_base, vlist, vlist)\n",
    "# Calculate MTR for original calc\n",
    "tdf_og['mtr'] = calc_base.mtr()[1]\n",
    "\n",
    "mydf = copy.deepcopy(tdf_og)\n",
    "mydf['bins'] = calcdf_pos['bins'].map(int)\n",
    "\n",
    "# Create weight variable for population taking medical deduction\n",
    "mydf['mdwt'] = np.where((mydf['c17000'] > 0) & (mydf['c04470'] > 0) , mydf['s006'], 0)"
   ]
  },
  {
   "cell_type": "code",
   "execution_count": 526,
   "metadata": {
    "hideCode": false,
    "hidePrompt": false
   },
   "outputs": [
    {
     "name": "stdout",
     "output_type": "stream",
     "text": [
      "You loaded data for 2009.\n",
      "Tax-Calculator startup automatically extrapolated your data to 2013.\n"
     ]
    }
   ],
   "source": [
    "# Reform without Medical Expense Deduction\n",
    "reform_m = copy.deepcopy(reform)\n",
    "# reform_m[year][\"_ID_Medical_hc\"] = [1]\n",
    "pol_m = tc.Policy()\n",
    "pol_m.implement_reform(reform_m)\n",
    "\n",
    "# Calc without Medical Expense Deduction\n",
    "calc_nomed = createcalc(year = year, records = tc.Records(), policy = pol_m)\n",
    "\n",
    "# DF without Medical Expense Deduction\n",
    "mydf_ref = taxdf(calc_nomed, vlist, vlist)"
   ]
  },
  {
   "cell_type": "code",
   "execution_count": 527,
   "metadata": {
    "hideCode": false,
    "hidePrompt": false
   },
   "outputs": [],
   "source": [
    "# # 2017 Reform with 7.5% rate\n",
    "# reform2017s = copy.deepcopy(reform)\n",
    "# reform2017s[year]['_ID_Medical_frt'] = [0.075]\n",
    "# pol2017s = tc.Policy()\n",
    "# pol2017s.implement_reform(reform2017s)\n",
    "\n",
    "# # Calc\n",
    "# calc_2017s = createcalc(year = year, records = tc.Records(), policy = pol2017s)\n",
    "\n",
    "# # DF\n",
    "# tempdf = taxdf(calc_2017s, vlist, vlist)\n",
    "# mydf_ref_s = copy.deepcopy(tempdf[tempdf['c00100'] > 0])\n",
    "\n",
    "# # ADD BINS\n",
    "# mydf_ref_s['bins'] = mydf['bins']\n",
    "# mydf_ref_s['mdwt'] = np.where((mydf_ref_s['c17000'] > 0) & (mydf_ref_s['c04470'] > 0) , mydf_ref_s['s006'], 0)"
   ]
  },
  {
   "cell_type": "code",
   "execution_count": 528,
   "metadata": {
    "hideCode": false,
    "hidePrompt": false
   },
   "outputs": [],
   "source": [
    "# Create difference in income tax liability var\n",
    "mydf['diff'] = mydf_ref['iitax'] - mydf['iitax']\n",
    "mydf['w_diff'] = mydf['diff'] * mydf['s006']\n",
    "mydf['w_diffck'] = np.where(mydf['mdwt'] > 0, mydf['w_diff'], 0)"
   ]
  },
  {
   "cell_type": "code",
   "execution_count": 529,
   "metadata": {
    "hideCode": false,
    "hidePrompt": false
   },
   "outputs": [],
   "source": [
    "basic = {}\n",
    "subdf = copy.deepcopy(mydf[mydf['c00100'] > 5000])\n",
    "basic['# Itemizers'] = subdf[subdf['c04470'] > 0]['s006'].sum()\n",
    "basic['# Taking Med Deduction'] = subdf['mdwt'].sum()\n",
    "basic['Total Tax Break'] = subdf['w_diff'].sum()\n",
    "# basic['Total Tax Break Check'] = subdf['w_diffck'].sum()\n",
    "bdf = pd.DataFrame([basic])\n",
    "bdf.to_excel(writer, sheet_name= 'General Stats')"
   ]
  },
  {
   "cell_type": "markdown",
   "metadata": {
    "hideCode": false,
    "hidePrompt": false
   },
   "source": [
    "# 2: Taxpayer Deciles: Plots"
   ]
  },
  {
   "cell_type": "code",
   "execution_count": 530,
   "metadata": {
    "hideCode": false,
    "hidePrompt": false
   },
   "outputs": [],
   "source": [
    "# mydf['deduct_medical'] = np.where((mydf['c17000'] > 0) & (mydf['c04470'] > 0), 1, 0)\n",
    "# mydf_ref_s['deduct_medical'] = np.where((mydf_ref_s['c17000'] > 0) & (mydf_ref_s['c04470'] > 0), 1, 0)\n",
    "\n",
    "# l10 = bin_means(mydf, 'deduct_medical')[0]\n",
    "# l7h = bin_means(mydf_ref_s, 'deduct_medical')[0]\n",
    "\n",
    "# f = figure(x_range = list(map(str,range(1,11))), title = 'Fraction Who Deduct Medical Expenses', x_axis_label = 'AGI Decile')\n",
    "# f.vbar(x = np.linspace(0.35, 9.35, 10), top = l10, width = 0.25, legend = 'Rate = 10%')\n",
    "# f.vbar(x = np.linspace(0.65, 9.65, 10), top = l7h, width = 0.25, color = 'grey', legend = 'Rate = 7.5%')\n",
    "# f.legend.location = 'top_left'\n",
    "\n",
    "# show(f)"
   ]
  },
  {
   "cell_type": "code",
   "execution_count": 531,
   "metadata": {
    "hideCode": false,
    "hidePrompt": false,
    "scrolled": false
   },
   "outputs": [
    {
     "data": {
      "text/html": [
       "\n",
       "\n",
       "    <div class=\"bk-root\">\n",
       "        <div class=\"bk-plotdiv\" id=\"f4c1b363-3679-4659-841a-a6f577eb1dc6\"></div>\n",
       "    </div>\n",
       "<script type=\"text/javascript\">\n",
       "  \n",
       "  (function(root) {\n",
       "    function now() {\n",
       "      return new Date();\n",
       "    }\n",
       "  \n",
       "    var force = false;\n",
       "  \n",
       "    if (typeof (root._bokeh_onload_callbacks) === \"undefined\" || force === true) {\n",
       "      root._bokeh_onload_callbacks = [];\n",
       "      root._bokeh_is_loading = undefined;\n",
       "    }\n",
       "  \n",
       "  \n",
       "    \n",
       "    if (typeof (root._bokeh_timeout) === \"undefined\" || force === true) {\n",
       "      root._bokeh_timeout = Date.now() + 0;\n",
       "      root._bokeh_failed_load = false;\n",
       "    }\n",
       "  \n",
       "    var NB_LOAD_WARNING = {'data': {'text/html':\n",
       "       \"<div style='background-color: #fdd'>\\n\"+\n",
       "       \"<p>\\n\"+\n",
       "       \"BokehJS does not appear to have successfully loaded. If loading BokehJS from CDN, this \\n\"+\n",
       "       \"may be due to a slow or bad network connection. Possible fixes:\\n\"+\n",
       "       \"</p>\\n\"+\n",
       "       \"<ul>\\n\"+\n",
       "       \"<li>re-rerun `output_notebook()` to attempt to load from CDN again, or</li>\\n\"+\n",
       "       \"<li>use INLINE resources instead, as so:</li>\\n\"+\n",
       "       \"</ul>\\n\"+\n",
       "       \"<code>\\n\"+\n",
       "       \"from bokeh.resources import INLINE\\n\"+\n",
       "       \"output_notebook(resources=INLINE)\\n\"+\n",
       "       \"</code>\\n\"+\n",
       "       \"</div>\"}};\n",
       "  \n",
       "    function display_loaded() {\n",
       "      if (root.Bokeh !== undefined) {\n",
       "        var el = document.getElementById(\"f4c1b363-3679-4659-841a-a6f577eb1dc6\");\n",
       "        if (el != null) {\n",
       "          el.textContent = \"BokehJS \" + Bokeh.version + \" successfully loaded.\";\n",
       "        }\n",
       "      } else if (Date.now() < root._bokeh_timeout) {\n",
       "        setTimeout(display_loaded, 100)\n",
       "      }\n",
       "    }\n",
       "  \n",
       "  \n",
       "    function run_callbacks() {\n",
       "      try {\n",
       "        root._bokeh_onload_callbacks.forEach(function(callback) { callback() });\n",
       "      }\n",
       "      finally {\n",
       "        delete root._bokeh_onload_callbacks\n",
       "      }\n",
       "      console.info(\"Bokeh: all callbacks have finished\");\n",
       "    }\n",
       "  \n",
       "    function load_libs(js_urls, callback) {\n",
       "      root._bokeh_onload_callbacks.push(callback);\n",
       "      if (root._bokeh_is_loading > 0) {\n",
       "        console.log(\"Bokeh: BokehJS is being loaded, scheduling callback at\", now());\n",
       "        return null;\n",
       "      }\n",
       "      if (js_urls == null || js_urls.length === 0) {\n",
       "        run_callbacks();\n",
       "        return null;\n",
       "      }\n",
       "      console.log(\"Bokeh: BokehJS not loaded, scheduling load and callback at\", now());\n",
       "      root._bokeh_is_loading = js_urls.length;\n",
       "      for (var i = 0; i < js_urls.length; i++) {\n",
       "        var url = js_urls[i];\n",
       "        var s = document.createElement('script');\n",
       "        s.src = url;\n",
       "        s.async = false;\n",
       "        s.onreadystatechange = s.onload = function() {\n",
       "          root._bokeh_is_loading--;\n",
       "          if (root._bokeh_is_loading === 0) {\n",
       "            console.log(\"Bokeh: all BokehJS libraries loaded\");\n",
       "            run_callbacks()\n",
       "          }\n",
       "        };\n",
       "        s.onerror = function() {\n",
       "          console.warn(\"failed to load library \" + url);\n",
       "        };\n",
       "        console.log(\"Bokeh: injecting script tag for BokehJS library: \", url);\n",
       "        document.getElementsByTagName(\"head\")[0].appendChild(s);\n",
       "      }\n",
       "    };var element = document.getElementById(\"f4c1b363-3679-4659-841a-a6f577eb1dc6\");\n",
       "    if (element == null) {\n",
       "      console.log(\"Bokeh: ERROR: autoload.js configured with elementid 'f4c1b363-3679-4659-841a-a6f577eb1dc6' but no matching script tag was found. \")\n",
       "      return false;\n",
       "    }\n",
       "  \n",
       "    var js_urls = [];\n",
       "  \n",
       "    var inline_js = [\n",
       "      function(Bokeh) {\n",
       "        (function() {\n",
       "          var fn = function() {\n",
       "            var docs_json = {\"7640f8e1-69d3-4030-a29f-8b9d577917f3\":{\"roots\":{\"references\":[{\"attributes\":{\"fill_color\":{\"value\":\"#1f77b4\"},\"line_color\":{\"value\":\"#1f77b4\"},\"top\":{\"field\":\"top\"},\"width\":{\"value\":0.01},\"x\":{\"field\":\"x\"}},\"id\":\"a48fe728-944b-403e-8193-357eb0471240\",\"type\":\"VBar\"},{\"attributes\":{},\"id\":\"3f9fe758-cb55-4243-8042-350c446a70a4\",\"type\":\"BasicTickFormatter\"},{\"attributes\":{},\"id\":\"7e2d4c3a-ebb1-445f-a864-748e5cf9f471\",\"type\":\"HelpTool\"},{\"attributes\":{},\"id\":\"f6dacbf1-2a06-459e-9dc2-a2ef525e4459\",\"type\":\"BasicTicker\"},{\"attributes\":{},\"id\":\"04dcaaae-2476-437e-8f55-f0feccc67ff0\",\"type\":\"WheelZoomTool\"},{\"attributes\":{\"plot\":{\"id\":\"3b7f9f32-a8e8-4b52-8d2a-36f5f760d50d\",\"subtype\":\"Figure\",\"type\":\"Plot\"},\"ticker\":{\"id\":\"a3fc060b-d10a-4f3e-9e3c-e9207797a564\",\"type\":\"BasicTicker\"}},\"id\":\"37ed33f6-ad15-4556-9e46-42b46e681d08\",\"type\":\"Grid\"},{\"attributes\":{},\"id\":\"a3fc060b-d10a-4f3e-9e3c-e9207797a564\",\"type\":\"BasicTicker\"},{\"attributes\":{\"plot\":null,\"text\":\"Fraction of Deduction Takers with Med Expenses Between X Percent AGI: 2% Bins\"},\"id\":\"171f6815-e654-4857-8054-6bdf587bf7a9\",\"type\":\"Title\"},{\"attributes\":{\"overlay\":{\"id\":\"61198235-1297-4990-8a46-5168e15de873\",\"type\":\"BoxAnnotation\"}},\"id\":\"22db6fec-c0c6-4a29-b0ff-c95dfd01a282\",\"type\":\"BoxZoomTool\"},{\"attributes\":{\"below\":[{\"id\":\"360f4019-178a-4b07-b66d-60c54d5f68bc\",\"type\":\"LinearAxis\"}],\"left\":[{\"id\":\"de4e16ba-f91b-4362-80e0-0f64c3b37d35\",\"type\":\"LinearAxis\"}],\"renderers\":[{\"id\":\"360f4019-178a-4b07-b66d-60c54d5f68bc\",\"type\":\"LinearAxis\"},{\"id\":\"37ed33f6-ad15-4556-9e46-42b46e681d08\",\"type\":\"Grid\"},{\"id\":\"de4e16ba-f91b-4362-80e0-0f64c3b37d35\",\"type\":\"LinearAxis\"},{\"id\":\"ca222f4c-a560-4735-bc45-a144e5f98b57\",\"type\":\"Grid\"},{\"id\":\"61198235-1297-4990-8a46-5168e15de873\",\"type\":\"BoxAnnotation\"},{\"id\":\"7272d51c-9b1d-4759-b533-477b98087c86\",\"type\":\"GlyphRenderer\"}],\"title\":{\"id\":\"171f6815-e654-4857-8054-6bdf587bf7a9\",\"type\":\"Title\"},\"toolbar\":{\"id\":\"3c02ebc1-9568-44af-a23c-6b296feaf65a\",\"type\":\"Toolbar\"},\"x_range\":{\"id\":\"3966a325-4abc-4821-90d9-f05332e1bd8f\",\"type\":\"DataRange1d\"},\"x_scale\":{\"id\":\"be474dcb-e36d-415e-ab8a-dcd51320162d\",\"type\":\"LinearScale\"},\"y_range\":{\"id\":\"f7c8dee9-7fb8-49d1-a991-7cc044d5d826\",\"type\":\"DataRange1d\"},\"y_scale\":{\"id\":\"2cce259b-2fcc-4112-a896-a2e8bdac29bb\",\"type\":\"LinearScale\"}},\"id\":\"3b7f9f32-a8e8-4b52-8d2a-36f5f760d50d\",\"subtype\":\"Figure\",\"type\":\"Plot\"},{\"attributes\":{},\"id\":\"f35dc906-d23f-420f-8584-fb247e007226\",\"type\":\"SaveTool\"},{\"attributes\":{},\"id\":\"7711ed50-20da-4d5d-be73-e3168647e06d\",\"type\":\"PanTool\"},{\"attributes\":{\"callback\":null,\"column_names\":[\"x\",\"top\"],\"data\":{\"top\":[0.0,0.0,0.0,0.0,0.05686658534970647,0.11154493489072724,0.11221635639408249,0.09710853417953882,0.08505191889225452,0.06328165843503943,0.052002973484641356,0.05378532314986628,0.04008279835558593,0.03347651964522623,0.032343963274136474,0.024799335027686036,0.02062088616889794,0.020167534949671564,0.01609701405803935,0.012142520918806049,0.014627497707733618,0.011327343546788356,0.011014971206579537,0.006974986059658215,0.008156638326410342,0.005726952041941722,0.007824866053526945,0.006481325317723096,0.005178614964270513,0.004078638781622171,0.004332052317108948,0.002826547907919965,0.005606464951106065,0.0037868264705644417,0.003665622153215685,0.0030086301331656083,0.0019100313039569767,0.0035874695313995284,0.003433040218083988,0.0011563501865775644,0.002258904206654523,0.0012552828798536864,0.0024835506919384286,0.001519741703642119,0.0010037174212268623,0.0018317199174369505,0.002182229210722624,0.001433577034971919,0.000798699266963447,0.001494970231819962,0.037441374270396274],\"x\":[-0.005,0.015,0.035,0.055,0.075,0.095,0.11499999999999999,0.135,0.155,0.175,0.195,0.215,0.235,0.255,0.275,0.295,0.315,0.335,0.355,0.375,0.395,0.415,0.435,0.455,0.475,0.495,0.515,0.535,0.555,0.575,0.595,0.615,0.635,0.655,0.675,0.6950000000000001,0.715,0.735,0.755,0.775,0.795,0.8150000000000001,0.835,0.855,0.875,0.895,0.915,0.935,0.955,0.975,0.995]}},\"id\":\"1711f534-ace3-4d5b-8279-a18b5af161ac\",\"type\":\"ColumnDataSource\"},{\"attributes\":{\"formatter\":{\"id\":\"df7e2acd-6d31-45f1-9e44-16acafeae293\",\"type\":\"BasicTickFormatter\"},\"plot\":{\"id\":\"3b7f9f32-a8e8-4b52-8d2a-36f5f760d50d\",\"subtype\":\"Figure\",\"type\":\"Plot\"},\"ticker\":{\"id\":\"f6dacbf1-2a06-459e-9dc2-a2ef525e4459\",\"type\":\"BasicTicker\"}},\"id\":\"de4e16ba-f91b-4362-80e0-0f64c3b37d35\",\"type\":\"LinearAxis\"},{\"attributes\":{\"bottom_units\":\"screen\",\"fill_alpha\":{\"value\":0.5},\"fill_color\":{\"value\":\"lightgrey\"},\"left_units\":\"screen\",\"level\":\"overlay\",\"line_alpha\":{\"value\":1.0},\"line_color\":{\"value\":\"black\"},\"line_dash\":[4,4],\"line_width\":{\"value\":2},\"plot\":null,\"render_mode\":\"css\",\"right_units\":\"screen\",\"top_units\":\"screen\"},\"id\":\"61198235-1297-4990-8a46-5168e15de873\",\"type\":\"BoxAnnotation\"},{\"attributes\":{\"data_source\":{\"id\":\"1711f534-ace3-4d5b-8279-a18b5af161ac\",\"type\":\"ColumnDataSource\"},\"glyph\":{\"id\":\"a48fe728-944b-403e-8193-357eb0471240\",\"type\":\"VBar\"},\"hover_glyph\":null,\"muted_glyph\":null,\"nonselection_glyph\":{\"id\":\"3b438ba9-955d-4cb8-9cba-4a3bdd83cd36\",\"type\":\"VBar\"},\"selection_glyph\":null,\"view\":{\"id\":\"0e324c1c-43d2-4833-ae77-72986a3de44a\",\"type\":\"CDSView\"}},\"id\":\"7272d51c-9b1d-4759-b533-477b98087c86\",\"type\":\"GlyphRenderer\"},{\"attributes\":{\"source\":{\"id\":\"1711f534-ace3-4d5b-8279-a18b5af161ac\",\"type\":\"ColumnDataSource\"}},\"id\":\"0e324c1c-43d2-4833-ae77-72986a3de44a\",\"type\":\"CDSView\"},{\"attributes\":{\"axis_label\":\"Fraction of AGI\",\"formatter\":{\"id\":\"3f9fe758-cb55-4243-8042-350c446a70a4\",\"type\":\"BasicTickFormatter\"},\"plot\":{\"id\":\"3b7f9f32-a8e8-4b52-8d2a-36f5f760d50d\",\"subtype\":\"Figure\",\"type\":\"Plot\"},\"ticker\":{\"id\":\"a3fc060b-d10a-4f3e-9e3c-e9207797a564\",\"type\":\"BasicTicker\"}},\"id\":\"360f4019-178a-4b07-b66d-60c54d5f68bc\",\"type\":\"LinearAxis\"},{\"attributes\":{},\"id\":\"2c23dc2a-8607-427a-a06c-ee60c0d8d36b\",\"type\":\"ResetTool\"},{\"attributes\":{},\"id\":\"2cce259b-2fcc-4112-a896-a2e8bdac29bb\",\"type\":\"LinearScale\"},{\"attributes\":{\"active_drag\":\"auto\",\"active_inspect\":\"auto\",\"active_scroll\":\"auto\",\"active_tap\":\"auto\",\"tools\":[{\"id\":\"7711ed50-20da-4d5d-be73-e3168647e06d\",\"type\":\"PanTool\"},{\"id\":\"04dcaaae-2476-437e-8f55-f0feccc67ff0\",\"type\":\"WheelZoomTool\"},{\"id\":\"22db6fec-c0c6-4a29-b0ff-c95dfd01a282\",\"type\":\"BoxZoomTool\"},{\"id\":\"f35dc906-d23f-420f-8584-fb247e007226\",\"type\":\"SaveTool\"},{\"id\":\"2c23dc2a-8607-427a-a06c-ee60c0d8d36b\",\"type\":\"ResetTool\"},{\"id\":\"7e2d4c3a-ebb1-445f-a864-748e5cf9f471\",\"type\":\"HelpTool\"}]},\"id\":\"3c02ebc1-9568-44af-a23c-6b296feaf65a\",\"type\":\"Toolbar\"},{\"attributes\":{\"callback\":null},\"id\":\"3966a325-4abc-4821-90d9-f05332e1bd8f\",\"type\":\"DataRange1d\"},{\"attributes\":{\"dimension\":1,\"plot\":{\"id\":\"3b7f9f32-a8e8-4b52-8d2a-36f5f760d50d\",\"subtype\":\"Figure\",\"type\":\"Plot\"},\"ticker\":{\"id\":\"f6dacbf1-2a06-459e-9dc2-a2ef525e4459\",\"type\":\"BasicTicker\"}},\"id\":\"ca222f4c-a560-4735-bc45-a144e5f98b57\",\"type\":\"Grid\"},{\"attributes\":{},\"id\":\"df7e2acd-6d31-45f1-9e44-16acafeae293\",\"type\":\"BasicTickFormatter\"},{\"attributes\":{\"callback\":null},\"id\":\"f7c8dee9-7fb8-49d1-a991-7cc044d5d826\",\"type\":\"DataRange1d\"},{\"attributes\":{\"fill_alpha\":{\"value\":0.1},\"fill_color\":{\"value\":\"#1f77b4\"},\"line_alpha\":{\"value\":0.1},\"line_color\":{\"value\":\"#1f77b4\"},\"top\":{\"field\":\"top\"},\"width\":{\"value\":0.01},\"x\":{\"field\":\"x\"}},\"id\":\"3b438ba9-955d-4cb8-9cba-4a3bdd83cd36\",\"type\":\"VBar\"},{\"attributes\":{},\"id\":\"be474dcb-e36d-415e-ab8a-dcd51320162d\",\"type\":\"LinearScale\"}],\"root_ids\":[\"3b7f9f32-a8e8-4b52-8d2a-36f5f760d50d\"]},\"title\":\"Bokeh Application\",\"version\":\"0.12.7\"}};\n",
       "            var render_items = [{\"docid\":\"7640f8e1-69d3-4030-a29f-8b9d577917f3\",\"elementid\":\"f4c1b363-3679-4659-841a-a6f577eb1dc6\",\"modelid\":\"3b7f9f32-a8e8-4b52-8d2a-36f5f760d50d\"}];\n",
       "            \n",
       "            Bokeh.embed.embed_items(docs_json, render_items);\n",
       "          };\n",
       "          if (document.readyState != \"loading\") fn();\n",
       "          else document.addEventListener(\"DOMContentLoaded\", fn);\n",
       "        })();\n",
       "      },\n",
       "      function(Bokeh) {\n",
       "      }\n",
       "    ];\n",
       "  \n",
       "    function run_inline_js() {\n",
       "      \n",
       "      if ((root.Bokeh !== undefined) || (force === true)) {\n",
       "        for (var i = 0; i < inline_js.length; i++) {\n",
       "          inline_js[i].call(root, root.Bokeh);\n",
       "        }if (force === true) {\n",
       "          display_loaded();\n",
       "        }} else if (Date.now() < root._bokeh_timeout) {\n",
       "        setTimeout(run_inline_js, 100);\n",
       "      } else if (!root._bokeh_failed_load) {\n",
       "        console.log(\"Bokeh: BokehJS failed to load within specified timeout.\");\n",
       "        root._bokeh_failed_load = true;\n",
       "      } else if (force !== true) {\n",
       "        var cell = $(document.getElementById(\"f4c1b363-3679-4659-841a-a6f577eb1dc6\")).parents('.cell').data().cell;\n",
       "        cell.output_area.append_execute_result(NB_LOAD_WARNING)\n",
       "      }\n",
       "  \n",
       "    }\n",
       "  \n",
       "    if (root._bokeh_is_loading === 0) {\n",
       "      console.log(\"Bokeh: BokehJS loaded, going straight to plotting\");\n",
       "      run_inline_js();\n",
       "    } else {\n",
       "      load_libs(js_urls, function() {\n",
       "        console.log(\"Bokeh: BokehJS plotting callback run at\", now());\n",
       "        run_inline_js();\n",
       "      });\n",
       "    }\n",
       "  }(window));\n",
       "</script>"
      ]
     },
     "metadata": {},
     "output_type": "display_data"
    }
   ],
   "source": [
    "rlist = list(np.linspace(-.005, 0.995, 51)) + [9e99]\n",
    "glist = []\n",
    "for i in range(0, len(rlist) - 1):\n",
    "    mydf['temp'] = np.where(((rlist[i] * mydf['c00100']) < mydf['e17500']) & (mydf['e17500'] <= (rlist[i + 1] * mydf['c00100'])) & \n",
    "                            (mydf['c04470'] > 0), 1, 0)\n",
    "    glist.append(w_avg(mydf, 'temp','mdwt'))\n",
    "f = figure(title = 'Fraction of Deduction Takers with Med Expenses Between X Percent AGI: 2% Bins', \n",
    "          x_axis_label = 'Fraction of AGI')\n",
    "f.vbar([x + (rlist[-2] - rlist[0] - 1) / ((len(rlist) - 1) * 2) for x in rlist[:-1]], width = 0.01, top = glist)\n",
    "show(f)\n",
    "# export_png(f, filename = 'med_ded_output\\\\Fraction of Tax Filers with Med Expenses Between X Percent AGI: 1% Bins.png')\n",
    "histdf = pd.DataFrame()\n",
    "histdf['Fraction of Deduction Takers with Med Expenses Between X Percent AGI: 1% Bins'] = glist\n",
    "histdf['Percent Floor'] = rlist[:-1]\n",
    "histdf.to_excel(writer, sheet_name='Hist Stats')\n"
   ]
  },
  {
   "cell_type": "code",
   "execution_count": 532,
   "metadata": {
    "hideCode": false,
    "hidePrompt": false,
    "scrolled": false
   },
   "outputs": [
    {
     "data": {
      "text/plain": [
       "[('Decile 1', 0.00080885568582033567),\n",
       " ('Decile 2', 0.021373306797246892),\n",
       " ('Decile 3', 0.035887298645846825),\n",
       " ('Decile 4', 0.051004684931648489),\n",
       " ('Decile 5', 0.063391179656916666),\n",
       " ('Decile 6', 0.086452742185254394),\n",
       " ('Decile 7', 0.095119014214202657),\n",
       " ('Decile 8', 0.090536216251749374),\n",
       " ('Decile 9', 0.063705873039101094),\n",
       " ('Decile 10', 0.027305822908338384)]"
      ]
     },
     "execution_count": 532,
     "metadata": {},
     "output_type": "execute_result"
    }
   ],
   "source": [
    "mydf['deduct_medical'] = np.where((mydf['c17000'] > 0) & (mydf['c04470'] > 0), 1, 0)\n",
    "groupfig(mydf, 'deduct_medical', 'Fraction Who Take Medical Deduction')"
   ]
  },
  {
   "cell_type": "code",
   "execution_count": 533,
   "metadata": {
    "hideCode": false,
    "hidePrompt": false,
    "scrolled": false
   },
   "outputs": [
    {
     "data": {
      "text/plain": [
       "[('Decile 1', 0.5406049914754657),\n",
       " ('Decile 2', 0.58144644280928992),\n",
       " ('Decile 3', 0.61854846282932729),\n",
       " ('Decile 4', 0.42012541887516081),\n",
       " ('Decile 5', 0.36922223805320492),\n",
       " ('Decile 6', 0.27188104374306965),\n",
       " ('Decile 7', 0.2301732801323054),\n",
       " ('Decile 8', 0.19295440081983345),\n",
       " ('Decile 9', 0.16629698699884907),\n",
       " ('Decile 10', 0.17017086582074534)]"
      ]
     },
     "execution_count": 533,
     "metadata": {},
     "output_type": "execute_result"
    }
   ],
   "source": [
    "mydf['frac_med'] = mydf['e17500'] / mydf['c00100']\n",
    "groupfig(mydf, 'frac_med', 'Medical Expenses as Fraction of AGI: Population Taking Medical Deduction', 'mdwt')"
   ]
  },
  {
   "cell_type": "code",
   "execution_count": 534,
   "metadata": {
    "hideCode": false,
    "hidePrompt": false,
    "scrolled": false
   },
   "outputs": [
    {
     "data": {
      "text/plain": [
       "[('Decile 1', 0.0),\n",
       " ('Decile 2', 0.0),\n",
       " ('Decile 3', 0.0),\n",
       " ('Decile 4', 0.0),\n",
       " ('Decile 5', 0.0),\n",
       " ('Decile 6', 0.0),\n",
       " ('Decile 7', 0.0),\n",
       " ('Decile 8', 0.0),\n",
       " ('Decile 9', 0.0),\n",
       " ('Decile 10', 0.0)]"
      ]
     },
     "execution_count": 534,
     "metadata": {},
     "output_type": "execute_result"
    }
   ],
   "source": [
    "# Create groupby dataframe for sum of total tax breaks\n",
    "mygb = pd.DataFrame(mydf.groupby('bins').sum())['w_diff'].reset_index()\n",
    "mygb['s006'] = [1] * len(mygb)\n",
    "groupfig(mygb, 'w_diff', 'Total Tax Breaks through Medical Expense Deduction: By Decile')"
   ]
  },
  {
   "cell_type": "code",
   "execution_count": 535,
   "metadata": {
    "hideCode": false,
    "hidePrompt": false,
    "scrolled": false
   },
   "outputs": [
    {
     "data": {
      "text/plain": [
       "[('Decile 1', 0.0),\n",
       " ('Decile 2', 0.0),\n",
       " ('Decile 3', 0.0),\n",
       " ('Decile 4', 0.0),\n",
       " ('Decile 5', 0.0),\n",
       " ('Decile 6', 0.0),\n",
       " ('Decile 7', 0.0),\n",
       " ('Decile 8', 0.0),\n",
       " ('Decile 9', 0.0),\n",
       " ('Decile 10', 0.0)]"
      ]
     },
     "execution_count": 535,
     "metadata": {},
     "output_type": "execute_result"
    }
   ],
   "source": [
    "groupfig(mydf, 'diff', 'Average Tax Break through Medical Expense Deduction (for those taking)', 'mdwt')"
   ]
  },
  {
   "cell_type": "code",
   "execution_count": 536,
   "metadata": {
    "hideCode": false,
    "hidePrompt": false
   },
   "outputs": [
    {
     "data": {
      "text/plain": [
       "[('Decile 1', 0.0),\n",
       " ('Decile 2', 0.0),\n",
       " ('Decile 3', 0.0),\n",
       " ('Decile 4', 0.0),\n",
       " ('Decile 5', 0.0),\n",
       " ('Decile 6', 0.0),\n",
       " ('Decile 7', 0.0),\n",
       " ('Decile 8', 0.0),\n",
       " ('Decile 9', 0.0),\n",
       " ('Decile 10', 0.0)]"
      ]
     },
     "execution_count": 536,
     "metadata": {},
     "output_type": "execute_result"
    }
   ],
   "source": [
    "groupfig_med(mydf, 'diff', 'Median Tax Break through Medical Expense Deduction (for those taking)', 'mdwt')"
   ]
  },
  {
   "cell_type": "markdown",
   "metadata": {
    "hideCode": false,
    "hidePrompt": false
   },
   "source": [
    "# 3: Medical Expense Deduction and Interest Deduction"
   ]
  },
  {
   "cell_type": "code",
   "execution_count": 537,
   "metadata": {
    "hideCode": false,
    "hidePrompt": false,
    "scrolled": false
   },
   "outputs": [
    {
     "data": {
      "text/plain": [
       "[('Decile 1', 0.00035096384479300018),\n",
       " ('Decile 2', 0.017066349753192052),\n",
       " ('Decile 3', 0.033441839669365266),\n",
       " ('Decile 4', 0.066186494231649101),\n",
       " ('Decile 5', 0.12013966568682125),\n",
       " ('Decile 6', 0.20847921694069468),\n",
       " ('Decile 7', 0.30924093587810036),\n",
       " ('Decile 8', 0.43627111585806189),\n",
       " ('Decile 9', 0.62084732533630482),\n",
       " ('Decile 10', 0.78508218382357631)]"
      ]
     },
     "execution_count": 537,
     "metadata": {},
     "output_type": "execute_result"
    }
   ],
   "source": [
    "mydf['deduct_interest'] = np.where((mydf['c19200'] > 0) & (mydf['c04470'] > 0), 1, 0)\n",
    "groupfig(mydf, 'deduct_interest', 'Fraction Who Take Interest Deduction')"
   ]
  },
  {
   "cell_type": "code",
   "execution_count": 538,
   "metadata": {
    "hideCode": false,
    "hidePrompt": false,
    "scrolled": false
   },
   "outputs": [
    {
     "data": {
      "text/plain": [
       "[('Decile 1', 0.14350519270713133),\n",
       " ('Decile 2', 0.42146833859088678),\n",
       " ('Decile 3', 0.40276058371976409),\n",
       " ('Decile 4', 0.48355660287053948),\n",
       " ('Decile 5', 0.52084081659802517),\n",
       " ('Decile 6', 0.56512411768357418),\n",
       " ('Decile 7', 0.58319048358636927),\n",
       " ('Decile 8', 0.66550542952823755),\n",
       " ('Decile 9', 0.65730480753180098),\n",
       " ('Decile 10', 0.73288666630175625)]"
      ]
     },
     "execution_count": 538,
     "metadata": {},
     "output_type": "execute_result"
    }
   ],
   "source": [
    "groupfig(mydf, 'deduct_interest', 'Fraction Who Take Interest Deduction: Population Taking Medical Deduction', 'mdwt')"
   ]
  },
  {
   "cell_type": "markdown",
   "metadata": {
    "hideCode": false,
    "hidePrompt": false
   },
   "source": [
    "# 4: Tax Savings Analysis"
   ]
  },
  {
   "cell_type": "code",
   "execution_count": 539,
   "metadata": {
    "hideCode": false,
    "hidePrompt": false
   },
   "outputs": [
    {
     "data": {
      "text/plain": [
       "[('Decile 1', 0.0),\n",
       " ('Decile 2', 0.0),\n",
       " ('Decile 3', 0.0),\n",
       " ('Decile 4', 0.0),\n",
       " ('Decile 5', 0.0),\n",
       " ('Decile 6', 0.0),\n",
       " ('Decile 7', 0.0),\n",
       " ('Decile 8', 0.0),\n",
       " ('Decile 9', 0.0),\n",
       " ('Decile 10', 0.0)]"
      ]
     },
     "execution_count": 539,
     "metadata": {},
     "output_type": "execute_result"
    }
   ],
   "source": [
    "mydf['diff_frac'] = mydf['diff'] / mydf['e17500']\n",
    "groupfig(mydf, 'diff_frac', 'Federal Cost Sharing (Tax Break div. Total Medical Expenses): Population taking Med. Ded', 'mdwt')"
   ]
  },
  {
   "cell_type": "code",
   "execution_count": 540,
   "metadata": {
    "hideCode": false,
    "hidePrompt": false
   },
   "outputs": [
    {
     "data": {
      "text/plain": [
       "[('Decile 1', 0.0),\n",
       " ('Decile 2', 0.0),\n",
       " ('Decile 3', 0.0),\n",
       " ('Decile 4', 0.0),\n",
       " ('Decile 5', 0.0),\n",
       " ('Decile 6', 0.0),\n",
       " ('Decile 7', 0.0),\n",
       " ('Decile 8', 0.0),\n",
       " ('Decile 9', 0.0),\n",
       " ('Decile 10', 0.0)]"
      ]
     },
     "execution_count": 540,
     "metadata": {},
     "output_type": "execute_result"
    }
   ],
   "source": [
    "groupfig_med(mydf, 'diff_frac', 'Median Federal Cost Sharing: Population taking Med. Ded.', 'mdwt')"
   ]
  },
  {
   "cell_type": "code",
   "execution_count": 541,
   "metadata": {
    "hideCode": false,
    "hidePrompt": false
   },
   "outputs": [
    {
     "data": {
      "text/plain": [
       "[('Decile 1', 7.7219769988016349),\n",
       " ('Decile 2', 3.5166882177707),\n",
       " ('Decile 3', 7.8579071740013076),\n",
       " ('Decile 4', 12.261123768371375),\n",
       " ('Decile 5', 15.475505620801613),\n",
       " ('Decile 6', 17.613499792673991),\n",
       " ('Decile 7', 19.237230579553),\n",
       " ('Decile 8', 18.005129068250366),\n",
       " ('Decile 9', 22.483623337708877),\n",
       " ('Decile 10', 27.918515485862493)]"
      ]
     },
     "execution_count": 541,
     "metadata": {},
     "output_type": "execute_result"
    }
   ],
   "source": [
    "mydf['mtrx100'] = 100 * mydf['mtr']\n",
    "groupfig(mydf, 'mtrx100', 'MTR (Avg Tax savings from add. $100 Income): Population Taking Medical Deduction', 'mdwt')"
   ]
  },
  {
   "cell_type": "code",
   "execution_count": 542,
   "metadata": {
    "hideCode": false,
    "hidePrompt": false
   },
   "outputs": [],
   "source": [
    "# Check 10th decile\n",
    "# why is dollar value so high given relatively low number of people\n",
    "# get medians as well\n",
    "# what other types of interest paid\n",
    "# Do for 7.5% cutoff\n",
    "# email Brill"
   ]
  },
  {
   "cell_type": "code",
   "execution_count": 543,
   "metadata": {
    "hideCode": false,
    "hidePrompt": false
   },
   "outputs": [
    {
     "data": {
      "text/html": [
       "<div>\n",
       "<style scoped>\n",
       "    .dataframe tbody tr th:only-of-type {\n",
       "        vertical-align: middle;\n",
       "    }\n",
       "\n",
       "    .dataframe tbody tr th {\n",
       "        vertical-align: top;\n",
       "    }\n",
       "\n",
       "    .dataframe thead th {\n",
       "        text-align: right;\n",
       "    }\n",
       "</style>\n",
       "<table border=\"1\" class=\"dataframe\">\n",
       "  <thead>\n",
       "    <tr style=\"text-align: right;\">\n",
       "      <th></th>\n",
       "      <th>Fraction Who Take Medical Deduction</th>\n",
       "      <th>Medical Expenses as Fraction of AGI: Population Taking Medical Deduction</th>\n",
       "      <th>Total Tax Breaks through Medical Expense Deduction: By Decile</th>\n",
       "      <th>Average Tax Break through Medical Expense Deduction (for those taking)</th>\n",
       "      <th>Median Tax Break through Medical Expense Deduction (for those taking)</th>\n",
       "      <th>Fraction Who Take Interest Deduction</th>\n",
       "      <th>Fraction Who Take Interest Deduction: Population Taking Medical Deduction</th>\n",
       "      <th>Federal Cost Sharing (Tax Break div. Total Medical Expenses): Population taking Med. Ded</th>\n",
       "      <th>Median Federal Cost Sharing: Population taking Med. Ded.</th>\n",
       "      <th>MTR (Avg Tax savings from add. $100 Income): Population Taking Medical Deduction</th>\n",
       "      <th>Bin AGI Floor</th>\n",
       "      <th>Bin Population</th>\n",
       "      <th>Number Taking Med Deduction</th>\n",
       "    </tr>\n",
       "  </thead>\n",
       "  <tbody>\n",
       "    <tr>\n",
       "      <th>0</th>\n",
       "      <td>0.000809</td>\n",
       "      <td>0.540605</td>\n",
       "      <td>0.0</td>\n",
       "      <td>0.0</td>\n",
       "      <td>0.0</td>\n",
       "      <td>0.000351</td>\n",
       "      <td>0.143505</td>\n",
       "      <td>0.0</td>\n",
       "      <td>0.0</td>\n",
       "      <td>7.721977</td>\n",
       "      <td>5000.198373</td>\n",
       "      <td>13392376.65</td>\n",
       "      <td>10832.50</td>\n",
       "    </tr>\n",
       "    <tr>\n",
       "      <th>1</th>\n",
       "      <td>0.021373</td>\n",
       "      <td>0.581446</td>\n",
       "      <td>0.0</td>\n",
       "      <td>0.0</td>\n",
       "      <td>0.0</td>\n",
       "      <td>0.017066</td>\n",
       "      <td>0.421468</td>\n",
       "      <td>0.0</td>\n",
       "      <td>0.0</td>\n",
       "      <td>3.516688</td>\n",
       "      <td>10240.174162</td>\n",
       "      <td>13394730.76</td>\n",
       "      <td>286289.69</td>\n",
       "    </tr>\n",
       "    <tr>\n",
       "      <th>2</th>\n",
       "      <td>0.035887</td>\n",
       "      <td>0.618548</td>\n",
       "      <td>0.0</td>\n",
       "      <td>0.0</td>\n",
       "      <td>0.0</td>\n",
       "      <td>0.033442</td>\n",
       "      <td>0.402761</td>\n",
       "      <td>0.0</td>\n",
       "      <td>0.0</td>\n",
       "      <td>7.857907</td>\n",
       "      <td>15796.111989</td>\n",
       "      <td>13395088.74</td>\n",
       "      <td>480713.55</td>\n",
       "    </tr>\n",
       "    <tr>\n",
       "      <th>3</th>\n",
       "      <td>0.051005</td>\n",
       "      <td>0.420125</td>\n",
       "      <td>0.0</td>\n",
       "      <td>0.0</td>\n",
       "      <td>0.0</td>\n",
       "      <td>0.066186</td>\n",
       "      <td>0.483557</td>\n",
       "      <td>0.0</td>\n",
       "      <td>0.0</td>\n",
       "      <td>12.261124</td>\n",
       "      <td>22623.596399</td>\n",
       "      <td>13393245.56</td>\n",
       "      <td>683118.27</td>\n",
       "    </tr>\n",
       "    <tr>\n",
       "      <th>4</th>\n",
       "      <td>0.063391</td>\n",
       "      <td>0.369222</td>\n",
       "      <td>0.0</td>\n",
       "      <td>0.0</td>\n",
       "      <td>0.0</td>\n",
       "      <td>0.120140</td>\n",
       "      <td>0.520841</td>\n",
       "      <td>0.0</td>\n",
       "      <td>0.0</td>\n",
       "      <td>15.475506</td>\n",
       "      <td>30558.591897</td>\n",
       "      <td>13394874.88</td>\n",
       "      <td>849116.92</td>\n",
       "    </tr>\n",
       "    <tr>\n",
       "      <th>5</th>\n",
       "      <td>0.086453</td>\n",
       "      <td>0.271881</td>\n",
       "      <td>0.0</td>\n",
       "      <td>0.0</td>\n",
       "      <td>0.0</td>\n",
       "      <td>0.208479</td>\n",
       "      <td>0.565124</td>\n",
       "      <td>0.0</td>\n",
       "      <td>0.0</td>\n",
       "      <td>17.613500</td>\n",
       "      <td>41106.921628</td>\n",
       "      <td>13393848.37</td>\n",
       "      <td>1157934.92</td>\n",
       "    </tr>\n",
       "    <tr>\n",
       "      <th>6</th>\n",
       "      <td>0.095119</td>\n",
       "      <td>0.230173</td>\n",
       "      <td>0.0</td>\n",
       "      <td>0.0</td>\n",
       "      <td>0.0</td>\n",
       "      <td>0.309241</td>\n",
       "      <td>0.583190</td>\n",
       "      <td>0.0</td>\n",
       "      <td>0.0</td>\n",
       "      <td>19.237231</td>\n",
       "      <td>54645.473251</td>\n",
       "      <td>13393765.70</td>\n",
       "      <td>1274001.79</td>\n",
       "    </tr>\n",
       "    <tr>\n",
       "      <th>7</th>\n",
       "      <td>0.090536</td>\n",
       "      <td>0.192954</td>\n",
       "      <td>0.0</td>\n",
       "      <td>0.0</td>\n",
       "      <td>0.0</td>\n",
       "      <td>0.436271</td>\n",
       "      <td>0.665505</td>\n",
       "      <td>0.0</td>\n",
       "      <td>0.0</td>\n",
       "      <td>18.005129</td>\n",
       "      <td>72018.714433</td>\n",
       "      <td>13394713.19</td>\n",
       "      <td>1212706.65</td>\n",
       "    </tr>\n",
       "    <tr>\n",
       "      <th>8</th>\n",
       "      <td>0.063706</td>\n",
       "      <td>0.166297</td>\n",
       "      <td>0.0</td>\n",
       "      <td>0.0</td>\n",
       "      <td>0.0</td>\n",
       "      <td>0.620847</td>\n",
       "      <td>0.657305</td>\n",
       "      <td>0.0</td>\n",
       "      <td>0.0</td>\n",
       "      <td>22.483623</td>\n",
       "      <td>99668.430960</td>\n",
       "      <td>13393540.49</td>\n",
       "      <td>853247.19</td>\n",
       "    </tr>\n",
       "    <tr>\n",
       "      <th>9</th>\n",
       "      <td>0.027306</td>\n",
       "      <td>0.170171</td>\n",
       "      <td>0.0</td>\n",
       "      <td>0.0</td>\n",
       "      <td>0.0</td>\n",
       "      <td>0.785082</td>\n",
       "      <td>0.732887</td>\n",
       "      <td>0.0</td>\n",
       "      <td>0.0</td>\n",
       "      <td>27.918515</td>\n",
       "      <td>148143.519963</td>\n",
       "      <td>13394649.97</td>\n",
       "      <td>365751.94</td>\n",
       "    </tr>\n",
       "  </tbody>\n",
       "</table>\n",
       "</div>"
      ],
      "text/plain": [
       "   Fraction Who Take Medical Deduction  \\\n",
       "0                             0.000809   \n",
       "1                             0.021373   \n",
       "2                             0.035887   \n",
       "3                             0.051005   \n",
       "4                             0.063391   \n",
       "5                             0.086453   \n",
       "6                             0.095119   \n",
       "7                             0.090536   \n",
       "8                             0.063706   \n",
       "9                             0.027306   \n",
       "\n",
       "   Medical Expenses as Fraction of AGI: Population Taking Medical Deduction  \\\n",
       "0                                           0.540605                          \n",
       "1                                           0.581446                          \n",
       "2                                           0.618548                          \n",
       "3                                           0.420125                          \n",
       "4                                           0.369222                          \n",
       "5                                           0.271881                          \n",
       "6                                           0.230173                          \n",
       "7                                           0.192954                          \n",
       "8                                           0.166297                          \n",
       "9                                           0.170171                          \n",
       "\n",
       "   Total Tax Breaks through Medical Expense Deduction: By Decile  \\\n",
       "0                                                0.0               \n",
       "1                                                0.0               \n",
       "2                                                0.0               \n",
       "3                                                0.0               \n",
       "4                                                0.0               \n",
       "5                                                0.0               \n",
       "6                                                0.0               \n",
       "7                                                0.0               \n",
       "8                                                0.0               \n",
       "9                                                0.0               \n",
       "\n",
       "   Average Tax Break through Medical Expense Deduction (for those taking)  \\\n",
       "0                                                0.0                        \n",
       "1                                                0.0                        \n",
       "2                                                0.0                        \n",
       "3                                                0.0                        \n",
       "4                                                0.0                        \n",
       "5                                                0.0                        \n",
       "6                                                0.0                        \n",
       "7                                                0.0                        \n",
       "8                                                0.0                        \n",
       "9                                                0.0                        \n",
       "\n",
       "   Median Tax Break through Medical Expense Deduction (for those taking)  \\\n",
       "0                                                0.0                       \n",
       "1                                                0.0                       \n",
       "2                                                0.0                       \n",
       "3                                                0.0                       \n",
       "4                                                0.0                       \n",
       "5                                                0.0                       \n",
       "6                                                0.0                       \n",
       "7                                                0.0                       \n",
       "8                                                0.0                       \n",
       "9                                                0.0                       \n",
       "\n",
       "   Fraction Who Take Interest Deduction  \\\n",
       "0                              0.000351   \n",
       "1                              0.017066   \n",
       "2                              0.033442   \n",
       "3                              0.066186   \n",
       "4                              0.120140   \n",
       "5                              0.208479   \n",
       "6                              0.309241   \n",
       "7                              0.436271   \n",
       "8                              0.620847   \n",
       "9                              0.785082   \n",
       "\n",
       "   Fraction Who Take Interest Deduction: Population Taking Medical Deduction  \\\n",
       "0                                           0.143505                           \n",
       "1                                           0.421468                           \n",
       "2                                           0.402761                           \n",
       "3                                           0.483557                           \n",
       "4                                           0.520841                           \n",
       "5                                           0.565124                           \n",
       "6                                           0.583190                           \n",
       "7                                           0.665505                           \n",
       "8                                           0.657305                           \n",
       "9                                           0.732887                           \n",
       "\n",
       "   Federal Cost Sharing (Tax Break div. Total Medical Expenses): Population taking Med. Ded  \\\n",
       "0                                                0.0                                          \n",
       "1                                                0.0                                          \n",
       "2                                                0.0                                          \n",
       "3                                                0.0                                          \n",
       "4                                                0.0                                          \n",
       "5                                                0.0                                          \n",
       "6                                                0.0                                          \n",
       "7                                                0.0                                          \n",
       "8                                                0.0                                          \n",
       "9                                                0.0                                          \n",
       "\n",
       "   Median Federal Cost Sharing: Population taking Med. Ded.  \\\n",
       "0                                                0.0          \n",
       "1                                                0.0          \n",
       "2                                                0.0          \n",
       "3                                                0.0          \n",
       "4                                                0.0          \n",
       "5                                                0.0          \n",
       "6                                                0.0          \n",
       "7                                                0.0          \n",
       "8                                                0.0          \n",
       "9                                                0.0          \n",
       "\n",
       "   MTR (Avg Tax savings from add. $100 Income): Population Taking Medical Deduction  \\\n",
       "0                                           7.721977                                  \n",
       "1                                           3.516688                                  \n",
       "2                                           7.857907                                  \n",
       "3                                          12.261124                                  \n",
       "4                                          15.475506                                  \n",
       "5                                          17.613500                                  \n",
       "6                                          19.237231                                  \n",
       "7                                          18.005129                                  \n",
       "8                                          22.483623                                  \n",
       "9                                          27.918515                                  \n",
       "\n",
       "   Bin AGI Floor  Bin Population  Number Taking Med Deduction  \n",
       "0    5000.198373     13392376.65                     10832.50  \n",
       "1   10240.174162     13394730.76                    286289.69  \n",
       "2   15796.111989     13395088.74                    480713.55  \n",
       "3   22623.596399     13393245.56                    683118.27  \n",
       "4   30558.591897     13394874.88                    849116.92  \n",
       "5   41106.921628     13393848.37                   1157934.92  \n",
       "6   54645.473251     13393765.70                   1274001.79  \n",
       "7   72018.714433     13394713.19                   1212706.65  \n",
       "8   99668.430960     13393540.49                    853247.19  \n",
       "9  148143.519963     13394649.97                    365751.94  "
      ]
     },
     "execution_count": 543,
     "metadata": {},
     "output_type": "execute_result"
    }
   ],
   "source": [
    "blist = []\n",
    "poplist = []\n",
    "medlist = []\n",
    "for b in range(1, 11):\n",
    "    blist.append(mydf[mydf['bins'] == b]['c00100'].min())\n",
    "    poplist.append(mydf[mydf['bins'] == b]['s006'].sum())\n",
    "    medlist.append(mydf[mydf['bins'] == b]['mdwt'].sum())\n",
    "\n",
    "exceldf['Bin AGI Floor'] = blist\n",
    "exceldf['Bin Population'] = poplist\n",
    "exceldf['Number Taking Med Deduction'] = medlist\n",
    "exceldf"
   ]
  },
  {
   "cell_type": "code",
   "execution_count": 544,
   "metadata": {
    "hideCode": false,
    "hidePrompt": false
   },
   "outputs": [],
   "source": [
    "exceldf.to_excel(writer, sheet_name='Decile Stats')\n",
    "writer.save()"
   ]
  }
 ],
 "metadata": {
  "hide_code_all_hidden": false,
  "kernelspec": {
   "display_name": "Python 3",
   "language": "python",
   "name": "python3"
  },
  "language_info": {
   "codemirror_mode": {
    "name": "ipython",
    "version": 3
   },
   "file_extension": ".py",
   "mimetype": "text/x-python",
   "name": "python",
   "nbconvert_exporter": "python",
   "pygments_lexer": "ipython3",
   "version": "3.6.1"
  }
 },
 "nbformat": 4,
 "nbformat_minor": 2
}
