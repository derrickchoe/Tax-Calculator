{
 "cells": [
  {
   "cell_type": "code",
   "execution_count": 68,
   "metadata": {},
   "outputs": [],
   "source": [
    "import taxcalc as tc\n",
    "import pandas as pd\n",
    "import numpy as np\n",
    "import copy\n",
    "pd.options.display.float_format = '{:,.2f}'.format"
   ]
  },
  {
   "cell_type": "code",
   "execution_count": 69,
   "metadata": {},
   "outputs": [
    {
     "name": "stdout",
     "output_type": "stream",
     "text": [
      "You loaded data for 2011.\n",
      "Tax-Calculator startup automatically extrapolated your data to 2013.\n"
     ]
    }
   ],
   "source": [
    "# 2017 Reform\n",
    "path_name = 'C:\\\\Users\\\\derrick.choe\\\\Tax-Calculator\\\\taxcalc\\\\reforms\\\\2017_law.json'\n",
    "jfile = open(path_name, 'r')\n",
    "jtext = jfile.read()\n",
    "jfile.close()\n",
    "reform_old = tc.Calculator._read_json_policy_reform_text(jtext, {}, {})\n",
    "\n",
    "pol_old = tc.Policy()\n",
    "pol_old.implement_reform(reform_old)\n",
    "\n",
    "#Baseline Calculator\n",
    "calc_old=tc.Calculator(records = tc.Records(), policy = pol_old)\n",
    "calc_old.advance_to_year(2018)\n",
    "calc_old.calc_all()"
   ]
  },
  {
   "cell_type": "code",
   "execution_count": 70,
   "metadata": {},
   "outputs": [
    {
     "name": "stdout",
     "output_type": "stream",
     "text": [
      "You loaded data for 2011.\n",
      "Tax-Calculator startup automatically extrapolated your data to 2013.\n"
     ]
    }
   ],
   "source": [
    "calc_new = tc.Calculator(records = tc.Records(), policy = tc.Policy())\n",
    "calc_new.advance_to_year(2018)\n",
    "calc_new.calc_all()"
   ]
  },
  {
   "cell_type": "code",
   "execution_count": 71,
   "metadata": {},
   "outputs": [],
   "source": [
    "vlist = ['c00100', 'iitax', 'standard', 'c04470', 'c19200', 'c19700', 'n24', 'c07220', 'c11070', 's006']"
   ]
  },
  {
   "cell_type": "code",
   "execution_count": 72,
   "metadata": {},
   "outputs": [],
   "source": [
    "odf_full = calc_old.dataframe(vlist)\n",
    "ndf_full = calc_new.dataframe(vlist)"
   ]
  },
  {
   "cell_type": "code",
   "execution_count": 73,
   "metadata": {},
   "outputs": [],
   "source": [
    "def getstat(df, title, var = 's006'):\n",
    "    print(title + \": \" + \"{:,.0f}\".format((df[var].sum())))"
   ]
  },
  {
   "cell_type": "code",
   "execution_count": 74,
   "metadata": {},
   "outputs": [],
   "source": [
    "def w_avg(df, var):\n",
    "    return (df[var] * df['s006']).sum() / df['s006'].sum()"
   ]
  },
  {
   "cell_type": "markdown",
   "metadata": {},
   "source": [
    "# Section 1: Number of Filers"
   ]
  },
  {
   "cell_type": "markdown",
   "metadata": {},
   "source": [
    "## 1a. Number of Tax Filers with Tax Liability > \\$0"
   ]
  },
  {
   "cell_type": "code",
   "execution_count": 75,
   "metadata": {},
   "outputs": [
    {
     "name": "stdout",
     "output_type": "stream",
     "text": [
      "Pre-TCJA: 103,354,373\n",
      "TCJA: 97,069,932\n"
     ]
    }
   ],
   "source": [
    "getstat(odf_full[odf_full['iitax'] > 0], 'Pre-TCJA')\n",
    "getstat(ndf_full[ndf_full['iitax'] > 0], 'TCJA')"
   ]
  },
  {
   "cell_type": "markdown",
   "metadata": {},
   "source": [
    "## 1b. Number of Tax Filers Claiming Standard, Itemized Deduction"
   ]
  },
  {
   "cell_type": "code",
   "execution_count": 76,
   "metadata": {},
   "outputs": [
    {
     "name": "stdout",
     "output_type": "stream",
     "text": [
      "Pre-TCJA, Standard Deduction, Positive Income Tax Liability: 60,869,564\n",
      "Pre-TCJA, Itemized Deduction, Positive Income Tax Liability: 42,466,657\n",
      "Pre-TCJA, Standard Deduction, All Tax Filers: 127,618,535\n",
      "Pre-TCJA, Itemized Deduction, All Tax Filers: 45,164,447\n",
      "TCJA, Standard Deduction, Positive Income Tax Liability: 78,528,593\n",
      "TCJA, Itemized Deduction, Positive Income Tax Liability: 18,517,343\n",
      "TCJA, Standard Deduction, All Tax Filers: 153,399,973\n",
      "TCJA, Itemized Deduction, All Tax Filers: 19,396,400\n"
     ]
    }
   ],
   "source": [
    "for df in [(odf_full, 'Pre-TCJA'), (ndf_full, 'TCJA')]:\n",
    "    getstat(df[0][(df[0]['iitax'] > 0) & (df[0]['standard'] > 0)], df[1] + ', Standard Deduction, Positive Income Tax Liability')\n",
    "    getstat(df[0][(df[0]['iitax'] > 0) & (df[0]['c04470'] > 0)], df[1] + ', Itemized Deduction, Positive Income Tax Liability')\n",
    "    getstat(df[0][df[0]['standard'] > 0], df[1] + ', Standard Deduction, All Tax Filers')\n",
    "    getstat(df[0][df[0]['c04470'] > 0], df[1] + ', Itemized Deduction, All Tax Filers')"
   ]
  },
  {
   "cell_type": "code",
   "execution_count": 77,
   "metadata": {},
   "outputs": [],
   "source": [
    "odf_posagi = copy.deepcopy(odf_full[odf_full['c00100'] > 0])\n",
    "ndf_posagi = copy.deepcopy(ndf_full[ndf_full['c00100'] > 0])"
   ]
  },
  {
   "cell_type": "markdown",
   "metadata": {},
   "source": [
    "## 1c. Number Claiming Standard, Itemized Deductions by AGI Decile"
   ]
  },
  {
   "cell_type": "code",
   "execution_count": 78,
   "metadata": {},
   "outputs": [
    {
     "data": {
      "text/html": [
       "<div>\n",
       "<style>\n",
       "    .dataframe thead tr:only-child th {\n",
       "        text-align: right;\n",
       "    }\n",
       "\n",
       "    .dataframe thead th {\n",
       "        text-align: left;\n",
       "    }\n",
       "\n",
       "    .dataframe tbody tr th {\n",
       "        vertical-align: top;\n",
       "    }\n",
       "</style>\n",
       "<table border=\"1\" class=\"dataframe\">\n",
       "  <thead>\n",
       "    <tr style=\"text-align: right;\">\n",
       "      <th></th>\n",
       "      <th>Pre-TCJA, Itemized Deduction</th>\n",
       "      <th>Pre-TCJA, Standard Deduction</th>\n",
       "      <th>TCJA, Itemized Deduction</th>\n",
       "      <th>TCJA, Standard Deduction</th>\n",
       "    </tr>\n",
       "  </thead>\n",
       "  <tbody>\n",
       "    <tr>\n",
       "      <th>1</th>\n",
       "      <td>3,814.55</td>\n",
       "      <td>16,095,339.48</td>\n",
       "      <td>19,641.76</td>\n",
       "      <td>16,095,306.26</td>\n",
       "    </tr>\n",
       "    <tr>\n",
       "      <th>2</th>\n",
       "      <td>21,155.82</td>\n",
       "      <td>16,093,592.51</td>\n",
       "      <td>13,961.97</td>\n",
       "      <td>16,102,539.71</td>\n",
       "    </tr>\n",
       "    <tr>\n",
       "      <th>3</th>\n",
       "      <td>532,534.22</td>\n",
       "      <td>15,587,796.42</td>\n",
       "      <td>155,843.65</td>\n",
       "      <td>15,966,403.39</td>\n",
       "    </tr>\n",
       "    <tr>\n",
       "      <th>4</th>\n",
       "      <td>1,075,383.14</td>\n",
       "      <td>15,044,814.98</td>\n",
       "      <td>371,552.69</td>\n",
       "      <td>15,746,564.44</td>\n",
       "    </tr>\n",
       "    <tr>\n",
       "      <th>5</th>\n",
       "      <td>2,007,518.29</td>\n",
       "      <td>14,111,940.89</td>\n",
       "      <td>608,521.93</td>\n",
       "      <td>15,509,551.40</td>\n",
       "    </tr>\n",
       "    <tr>\n",
       "      <th>6</th>\n",
       "      <td>3,373,580.96</td>\n",
       "      <td>12,745,360.58</td>\n",
       "      <td>1,008,938.03</td>\n",
       "      <td>15,110,474.73</td>\n",
       "    </tr>\n",
       "    <tr>\n",
       "      <th>7</th>\n",
       "      <td>5,356,757.03</td>\n",
       "      <td>10,756,904.12</td>\n",
       "      <td>1,867,818.57</td>\n",
       "      <td>14,248,962.30</td>\n",
       "    </tr>\n",
       "    <tr>\n",
       "      <th>8</th>\n",
       "      <td>7,699,349.45</td>\n",
       "      <td>8,419,487.16</td>\n",
       "      <td>2,928,573.30</td>\n",
       "      <td>13,190,149.43</td>\n",
       "    </tr>\n",
       "    <tr>\n",
       "      <th>9</th>\n",
       "      <td>10,814,196.70</td>\n",
       "      <td>5,306,380.43</td>\n",
       "      <td>4,163,794.59</td>\n",
       "      <td>11,958,004.78</td>\n",
       "    </tr>\n",
       "    <tr>\n",
       "      <th>10</th>\n",
       "      <td>14,280,078.72</td>\n",
       "      <td>1,839,691.77</td>\n",
       "      <td>8,257,742.70</td>\n",
       "      <td>7,862,109.64</td>\n",
       "    </tr>\n",
       "    <tr>\n",
       "      <th>Total</th>\n",
       "      <td>45,164,368.88</td>\n",
       "      <td>116,001,308.34</td>\n",
       "      <td>19,396,389.19</td>\n",
       "      <td>141,790,066.08</td>\n",
       "    </tr>\n",
       "  </tbody>\n",
       "</table>\n",
       "</div>"
      ],
      "text/plain": [
       "       Pre-TCJA, Itemized Deduction  Pre-TCJA, Standard Deduction  \\\n",
       "1                          3,814.55                 16,095,339.48   \n",
       "2                         21,155.82                 16,093,592.51   \n",
       "3                        532,534.22                 15,587,796.42   \n",
       "4                      1,075,383.14                 15,044,814.98   \n",
       "5                      2,007,518.29                 14,111,940.89   \n",
       "6                      3,373,580.96                 12,745,360.58   \n",
       "7                      5,356,757.03                 10,756,904.12   \n",
       "8                      7,699,349.45                  8,419,487.16   \n",
       "9                     10,814,196.70                  5,306,380.43   \n",
       "10                    14,280,078.72                  1,839,691.77   \n",
       "Total                 45,164,368.88                116,001,308.34   \n",
       "\n",
       "       TCJA, Itemized Deduction  TCJA, Standard Deduction  \n",
       "1                     19,641.76             16,095,306.26  \n",
       "2                     13,961.97             16,102,539.71  \n",
       "3                    155,843.65             15,966,403.39  \n",
       "4                    371,552.69             15,746,564.44  \n",
       "5                    608,521.93             15,509,551.40  \n",
       "6                  1,008,938.03             15,110,474.73  \n",
       "7                  1,867,818.57             14,248,962.30  \n",
       "8                  2,928,573.30             13,190,149.43  \n",
       "9                  4,163,794.59             11,958,004.78  \n",
       "10                 8,257,742.70              7,862,109.64  \n",
       "Total             19,396,389.19            141,790,066.08  "
      ]
     },
     "execution_count": 78,
     "metadata": {},
     "output_type": "execute_result"
    }
   ],
   "source": [
    "numbin = 10\n",
    "tc.add_quantile_bins(odf_posagi, income_measure = 'c00100', num_bins = numbin)\n",
    "tc.add_quantile_bins(ndf_posagi, income_measure = 'c00100', num_bins = numbin)\n",
    "decile_dict = {}\n",
    "for df in [(odf_posagi, 'Pre-TCJA'), (ndf_posagi, 'TCJA')]:\n",
    "    for i in range(1, numbin + 1):\n",
    "        bindf = df[0][df[0]['bins'] == i]\n",
    "        decile_dict.setdefault(df[1] + ', Standard Deduction', [])\n",
    "        decile_dict[df[1] + ', Standard Deduction'].append(bindf[bindf['standard'] > 0]['s006'].sum())\n",
    "        decile_dict.setdefault(df[1] + ', Itemized Deduction', [])\n",
    "        decile_dict[df[1] + ', Itemized Deduction'].append(bindf[bindf['c04470'] > 0]['s006'].sum())\n",
    "decile_df = pd.DataFrame(decile_dict)\n",
    "decile_df = decile_df.append(decile_df.sum(numeric_only=True), ignore_index=True)\n",
    "\n",
    "decile_df.index = list(range(1,11)) + ['Total']\n",
    "decile_df"
   ]
  },
  {
   "cell_type": "markdown",
   "metadata": {},
   "source": [
    "## 1d. Number Claiming Interest Deduction"
   ]
  },
  {
   "cell_type": "code",
   "execution_count": 79,
   "metadata": {},
   "outputs": [
    {
     "data": {
      "text/html": [
       "<div>\n",
       "<style>\n",
       "    .dataframe thead tr:only-child th {\n",
       "        text-align: right;\n",
       "    }\n",
       "\n",
       "    .dataframe thead th {\n",
       "        text-align: left;\n",
       "    }\n",
       "\n",
       "    .dataframe tbody tr th {\n",
       "        vertical-align: top;\n",
       "    }\n",
       "</style>\n",
       "<table border=\"1\" class=\"dataframe\">\n",
       "  <thead>\n",
       "    <tr style=\"text-align: right;\">\n",
       "      <th></th>\n",
       "      <th>Pre-TCJA, Interest Deduction</th>\n",
       "      <th>TCJA, Interest Deduction</th>\n",
       "    </tr>\n",
       "  </thead>\n",
       "  <tbody>\n",
       "    <tr>\n",
       "      <th>1</th>\n",
       "      <td>0.00</td>\n",
       "      <td>4,345.93</td>\n",
       "    </tr>\n",
       "    <tr>\n",
       "      <th>2</th>\n",
       "      <td>13,339.02</td>\n",
       "      <td>10,140.00</td>\n",
       "    </tr>\n",
       "    <tr>\n",
       "      <th>3</th>\n",
       "      <td>290,814.17</td>\n",
       "      <td>90,823.67</td>\n",
       "    </tr>\n",
       "    <tr>\n",
       "      <th>4</th>\n",
       "      <td>611,190.42</td>\n",
       "      <td>204,894.94</td>\n",
       "    </tr>\n",
       "    <tr>\n",
       "      <th>5</th>\n",
       "      <td>1,256,671.79</td>\n",
       "      <td>396,932.69</td>\n",
       "    </tr>\n",
       "    <tr>\n",
       "      <th>6</th>\n",
       "      <td>2,293,844.22</td>\n",
       "      <td>731,014.40</td>\n",
       "    </tr>\n",
       "    <tr>\n",
       "      <th>7</th>\n",
       "      <td>4,001,049.69</td>\n",
       "      <td>1,531,990.05</td>\n",
       "    </tr>\n",
       "    <tr>\n",
       "      <th>8</th>\n",
       "      <td>6,115,719.36</td>\n",
       "      <td>2,475,697.12</td>\n",
       "    </tr>\n",
       "    <tr>\n",
       "      <th>9</th>\n",
       "      <td>9,133,761.45</td>\n",
       "      <td>3,678,619.78</td>\n",
       "    </tr>\n",
       "    <tr>\n",
       "      <th>10</th>\n",
       "      <td>12,170,547.80</td>\n",
       "      <td>7,550,666.81</td>\n",
       "    </tr>\n",
       "    <tr>\n",
       "      <th>Total</th>\n",
       "      <td>35,886,937.92</td>\n",
       "      <td>16,675,125.39</td>\n",
       "    </tr>\n",
       "  </tbody>\n",
       "</table>\n",
       "</div>"
      ],
      "text/plain": [
       "       Pre-TCJA, Interest Deduction  TCJA, Interest Deduction\n",
       "1                              0.00                  4,345.93\n",
       "2                         13,339.02                 10,140.00\n",
       "3                        290,814.17                 90,823.67\n",
       "4                        611,190.42                204,894.94\n",
       "5                      1,256,671.79                396,932.69\n",
       "6                      2,293,844.22                731,014.40\n",
       "7                      4,001,049.69              1,531,990.05\n",
       "8                      6,115,719.36              2,475,697.12\n",
       "9                      9,133,761.45              3,678,619.78\n",
       "10                    12,170,547.80              7,550,666.81\n",
       "Total                 35,886,937.92             16,675,125.39"
      ]
     },
     "execution_count": 79,
     "metadata": {},
     "output_type": "execute_result"
    }
   ],
   "source": [
    "decile_dict = {}\n",
    "for df in [(odf_posagi, 'Pre-TCJA'), (ndf_posagi, 'TCJA')]:\n",
    "    for i in range(1, numbin + 1):\n",
    "        bindf = df[0][df[0]['bins'] == i]\n",
    "        decile_dict.setdefault(df[1] + ', Interest Deduction', [])\n",
    "        decile_dict[df[1] + ', Interest Deduction'].append(bindf[(bindf['c19200'] > 0) & (bindf['c04470'] > 0)]['s006'].sum())\n",
    "decile_df = pd.DataFrame(decile_dict)\n",
    "decile_df = decile_df.append(decile_df.sum(numeric_only=True), ignore_index=True)\n",
    "decile_df.index  = list(range(1,11)) + ['Total']\n",
    "decile_df"
   ]
  },
  {
   "cell_type": "markdown",
   "metadata": {},
   "source": [
    "## 1e. Number Claiming Charitable Deduction"
   ]
  },
  {
   "cell_type": "code",
   "execution_count": 80,
   "metadata": {},
   "outputs": [
    {
     "data": {
      "text/html": [
       "<div>\n",
       "<style>\n",
       "    .dataframe thead tr:only-child th {\n",
       "        text-align: right;\n",
       "    }\n",
       "\n",
       "    .dataframe thead th {\n",
       "        text-align: left;\n",
       "    }\n",
       "\n",
       "    .dataframe tbody tr th {\n",
       "        vertical-align: top;\n",
       "    }\n",
       "</style>\n",
       "<table border=\"1\" class=\"dataframe\">\n",
       "  <thead>\n",
       "    <tr style=\"text-align: right;\">\n",
       "      <th></th>\n",
       "      <th>Pre-TCJA, Charity Deduction</th>\n",
       "      <th>TCJA, Charity Deduction</th>\n",
       "    </tr>\n",
       "  </thead>\n",
       "  <tbody>\n",
       "    <tr>\n",
       "      <th>1</th>\n",
       "      <td>0.00</td>\n",
       "      <td>7,026.73</td>\n",
       "    </tr>\n",
       "    <tr>\n",
       "      <th>2</th>\n",
       "      <td>10,754.33</td>\n",
       "      <td>6,770.70</td>\n",
       "    </tr>\n",
       "    <tr>\n",
       "      <th>3</th>\n",
       "      <td>321,271.86</td>\n",
       "      <td>85,225.67</td>\n",
       "    </tr>\n",
       "    <tr>\n",
       "      <th>4</th>\n",
       "      <td>685,968.27</td>\n",
       "      <td>214,625.86</td>\n",
       "    </tr>\n",
       "    <tr>\n",
       "      <th>5</th>\n",
       "      <td>1,430,103.42</td>\n",
       "      <td>450,599.88</td>\n",
       "    </tr>\n",
       "    <tr>\n",
       "      <th>6</th>\n",
       "      <td>2,457,727.73</td>\n",
       "      <td>789,208.82</td>\n",
       "    </tr>\n",
       "    <tr>\n",
       "      <th>7</th>\n",
       "      <td>4,082,518.79</td>\n",
       "      <td>1,458,130.42</td>\n",
       "    </tr>\n",
       "    <tr>\n",
       "      <th>8</th>\n",
       "      <td>6,309,127.95</td>\n",
       "      <td>2,491,392.71</td>\n",
       "    </tr>\n",
       "    <tr>\n",
       "      <th>9</th>\n",
       "      <td>9,259,098.23</td>\n",
       "      <td>3,676,412.75</td>\n",
       "    </tr>\n",
       "    <tr>\n",
       "      <th>10</th>\n",
       "      <td>13,086,027.57</td>\n",
       "      <td>7,755,702.15</td>\n",
       "    </tr>\n",
       "    <tr>\n",
       "      <th>Total</th>\n",
       "      <td>37,642,598.15</td>\n",
       "      <td>16,935,095.69</td>\n",
       "    </tr>\n",
       "  </tbody>\n",
       "</table>\n",
       "</div>"
      ],
      "text/plain": [
       "       Pre-TCJA, Charity Deduction  TCJA, Charity Deduction\n",
       "1                             0.00                 7,026.73\n",
       "2                        10,754.33                 6,770.70\n",
       "3                       321,271.86                85,225.67\n",
       "4                       685,968.27               214,625.86\n",
       "5                     1,430,103.42               450,599.88\n",
       "6                     2,457,727.73               789,208.82\n",
       "7                     4,082,518.79             1,458,130.42\n",
       "8                     6,309,127.95             2,491,392.71\n",
       "9                     9,259,098.23             3,676,412.75\n",
       "10                   13,086,027.57             7,755,702.15\n",
       "Total                37,642,598.15            16,935,095.69"
      ]
     },
     "execution_count": 80,
     "metadata": {},
     "output_type": "execute_result"
    }
   ],
   "source": [
    "decile_dict = {}\n",
    "for df in [(odf_posagi, 'Pre-TCJA'), (ndf_posagi, 'TCJA')]:\n",
    "    for i in range(1, numbin + 1):\n",
    "        bindf = df[0][df[0]['bins'] == i]\n",
    "        decile_dict.setdefault(df[1] + ', Charity Deduction', [])\n",
    "        decile_dict[df[1] + ', Charity Deduction'].append(bindf[(bindf['c19700'] > 0) & (bindf['c04470'] > 0)]['s006'].sum())\n",
    "decile_df = pd.DataFrame(decile_dict)\n",
    "decile_df = decile_df.append(decile_df.sum(numeric_only=True), ignore_index=True)\n",
    "decile_df.index  = list(range(1,11)) + ['Total']\n",
    "decile_df"
   ]
  },
  {
   "cell_type": "markdown",
   "metadata": {},
   "source": [
    "# Section 2: Marginal Tax Rates on Labor"
   ]
  },
  {
   "cell_type": "markdown",
   "metadata": {},
   "source": [
    "## 2a. Effective Marginal Tax Rate on Labor"
   ]
  },
  {
   "cell_type": "code",
   "execution_count": 81,
   "metadata": {},
   "outputs": [],
   "source": [
    "odf_full['mtr'] = calc_old.mtr()[1]\n",
    "ndf_full['mtr'] = calc_new.mtr()[1]"
   ]
  },
  {
   "cell_type": "code",
   "execution_count": 82,
   "metadata": {},
   "outputs": [
    {
     "name": "stdout",
     "output_type": "stream",
     "text": [
      "Pre-TCJA, Average EMTR: 0.11580142502096552\n",
      "TCJA, Average EMTR: 0.09189758044937907\n"
     ]
    }
   ],
   "source": [
    "print('Pre-TCJA, Average EMTR: ' + str(w_avg(odf_full, 'mtr')))\n",
    "print('TCJA, Average EMTR: ' + str(w_avg(ndf_full, 'mtr')))"
   ]
  },
  {
   "cell_type": "markdown",
   "metadata": {},
   "source": [
    "# Section 3: The Child Tax Credit"
   ]
  },
  {
   "cell_type": "markdown",
   "metadata": {},
   "source": [
    "## 3a./3b. Number of Taxpayers Claiming CTC (Pre-TCJA)"
   ]
  },
  {
   "cell_type": "code",
   "execution_count": 83,
   "metadata": {},
   "outputs": [
    {
     "name": "stdout",
     "output_type": "stream",
     "text": [
      "Pre-TCJA: Positive Tax Liability: 14,103,647\n",
      "Pre-TCJA: 0/Negative Tax Liability: 20,169,227\n",
      "Pre-TCJA: All Tax Filers: 34,272,874\n"
     ]
    }
   ],
   "source": [
    "getstat(odf_full[(odf_full['iitax'] > 0) & ((odf_full['c07220'] > 0) | (odf_full['c11070'] > 0))], 'Pre-TCJA: Positive Tax Liability')\n",
    "getstat(odf_full[(odf_full['iitax'] <= 0) & ((odf_full['c07220'] > 0) | (odf_full['c11070'] > 0))], 'Pre-TCJA: 0/Negative Tax Liability')\n",
    "getstat(odf_full[(odf_full['c07220'] > 0) | (odf_full['c11070'] > 0)], 'Pre-TCJA: All Tax Filers')"
   ]
  },
  {
   "cell_type": "markdown",
   "metadata": {},
   "source": [
    "## 3c./3d. Number of Taxpayers Claiming CTC (TCJA)"
   ]
  },
  {
   "cell_type": "code",
   "execution_count": 84,
   "metadata": {},
   "outputs": [
    {
     "name": "stdout",
     "output_type": "stream",
     "text": [
      "TCJA: Positive Tax Liability: 18,016,594\n",
      "TCJA: 0/Negative Tax Liability: 22,485,246\n",
      "TCJA: All Tax Filers: 40,501,840\n"
     ]
    }
   ],
   "source": [
    "getstat(ndf_full[(ndf_full['iitax'] > 0) & ((ndf_full['c07220'] > 0) | (ndf_full['c11070'] > 0))], 'TCJA: Positive Tax Liability')\n",
    "getstat(ndf_full[(ndf_full['iitax'] <= 0) & ((ndf_full['c07220'] > 0) | (ndf_full['c11070'] > 0))], 'TCJA: 0/Negative Tax Liability')\n",
    "getstat(ndf_full[(ndf_full['c07220'] > 0) | (ndf_full['c11070'] > 0)], 'TCJA: All Tax Filers')"
   ]
  },
  {
   "cell_type": "markdown",
   "metadata": {},
   "source": [
    "## 3e. Average Tax Burden by Family Size, AGI < \\$250,000"
   ]
  },
  {
   "cell_type": "code",
   "execution_count": 85,
   "metadata": {},
   "outputs": [
    {
     "data": {
      "text/html": [
       "<div>\n",
       "<style>\n",
       "    .dataframe thead tr:only-child th {\n",
       "        text-align: right;\n",
       "    }\n",
       "\n",
       "    .dataframe thead th {\n",
       "        text-align: left;\n",
       "    }\n",
       "\n",
       "    .dataframe tbody tr th {\n",
       "        vertical-align: top;\n",
       "    }\n",
       "</style>\n",
       "<table border=\"1\" class=\"dataframe\">\n",
       "  <thead>\n",
       "    <tr style=\"text-align: right;\">\n",
       "      <th></th>\n",
       "      <th>Pre-TCJA, Average Income Tax</th>\n",
       "      <th>Pre-TCJA, Average Tax Rate</th>\n",
       "      <th>TCJA, Average Income Tax</th>\n",
       "      <th>TCJA, Average Tax Rate</th>\n",
       "    </tr>\n",
       "  </thead>\n",
       "  <tbody>\n",
       "    <tr>\n",
       "      <th>0</th>\n",
       "      <td>4,621.28</td>\n",
       "      <td>0.11</td>\n",
       "      <td>4,071.30</td>\n",
       "      <td>0.09</td>\n",
       "    </tr>\n",
       "    <tr>\n",
       "      <th>1</th>\n",
       "      <td>3,406.54</td>\n",
       "      <td>0.06</td>\n",
       "      <td>2,258.38</td>\n",
       "      <td>0.04</td>\n",
       "    </tr>\n",
       "    <tr>\n",
       "      <th>2</th>\n",
       "      <td>2,858.19</td>\n",
       "      <td>0.04</td>\n",
       "      <td>1,297.19</td>\n",
       "      <td>0.02</td>\n",
       "    </tr>\n",
       "    <tr>\n",
       "      <th>3</th>\n",
       "      <td>1,411.65</td>\n",
       "      <td>0.02</td>\n",
       "      <td>-397.14</td>\n",
       "      <td>-0.01</td>\n",
       "    </tr>\n",
       "  </tbody>\n",
       "</table>\n",
       "</div>"
      ],
      "text/plain": [
       "   Pre-TCJA, Average Income Tax  Pre-TCJA, Average Tax Rate  \\\n",
       "0                      4,621.28                        0.11   \n",
       "1                      3,406.54                        0.06   \n",
       "2                      2,858.19                        0.04   \n",
       "3                      1,411.65                        0.02   \n",
       "\n",
       "   TCJA, Average Income Tax  TCJA, Average Tax Rate  \n",
       "0                  4,071.30                    0.09  \n",
       "1                  2,258.38                    0.04  \n",
       "2                  1,297.19                    0.02  \n",
       "3                   -397.14                   -0.01  "
      ]
     },
     "execution_count": 85,
     "metadata": {},
     "output_type": "execute_result"
    }
   ],
   "source": [
    "ch_dict = {}\n",
    "for df in [(odf_full[(odf_full['c00100'] < 250000)], 'Pre-TCJA'), (ndf_full[(ndf_full['c00100'] < 250000)], 'TCJA')]:\n",
    "    for i in range(0, 4):\n",
    "        bindf = df[0][df[0]['n24'] == i]\n",
    "        taxsum = (bindf['iitax'] * bindf['s006']).sum()\n",
    "        incsum = (bindf['c00100'] * bindf['s006']).sum()\n",
    "        ch_dict.setdefault(df[1] + ', Average Income Tax', [])\n",
    "        ch_dict[df[1] + ', Average Income Tax'].append(taxsum / bindf['s006'].sum())\n",
    "        ch_dict.setdefault(df[1] + ', Average Tax Rate', [])\n",
    "        ch_dict[df[1] + ', Average Tax Rate'].append(taxsum / incsum)\n",
    "decile_df = pd.DataFrame(ch_dict)\n",
    "decile_df"
   ]
  },
  {
   "cell_type": "markdown",
   "metadata": {},
   "source": [
    "# Section 4: Charitable Giving"
   ]
  },
  {
   "cell_type": "markdown",
   "metadata": {},
   "source": [
    "## 4a. Number of Taxpayers Claiming Charitable Deduction"
   ]
  },
  {
   "cell_type": "code",
   "execution_count": 86,
   "metadata": {},
   "outputs": [
    {
     "name": "stdout",
     "output_type": "stream",
     "text": [
      "Pre-TCJA, All Filers, Number Taking Charitable Deduction: 37,642,598\n",
      "Pre-TCJA, Positive Tax Liability, Number Taking Medical Deduction: 35,796,801\n",
      "TCJA, All Filers, Number Taking Charitable Deduction: 16,935,096\n",
      "TCJA, Positive Tax Liability, Number Taking Medical Deduction: 16,358,026\n"
     ]
    }
   ],
   "source": [
    "getstat(odf_full[(odf_full['c19700'] > 0) & (odf_full['c04470'] > 0)], 'Pre-TCJA, All Filers, Number Taking Charitable Deduction')\n",
    "getstat(odf_full[(odf_full['iitax'] > 0) & (odf_full['c19700'] > 0) & (odf_full['c04470'] > 0)], 'Pre-TCJA, Positive Tax Liability, Number Taking Medical Deduction')\n",
    "\n",
    "getstat(ndf_full[(ndf_full['c19700'] > 0) & (ndf_full['c04470'] > 0)], 'TCJA, All Filers, Number Taking Charitable Deduction')\n",
    "getstat(ndf_full[(ndf_full['iitax'] > 0) & (ndf_full['c19700'] > 0) & (ndf_full['c04470'] > 0)], 'TCJA, Positive Tax Liability, Number Taking Medical Deduction')\n"
   ]
  },
  {
   "cell_type": "code",
   "execution_count": null,
   "metadata": {},
   "outputs": [],
   "source": []
  }
 ],
 "metadata": {
  "kernelspec": {
   "display_name": "Python 3",
   "language": "python",
   "name": "python3"
  },
  "language_info": {
   "codemirror_mode": {
    "name": "ipython",
    "version": 3
   },
   "file_extension": ".py",
   "mimetype": "text/x-python",
   "name": "python",
   "nbconvert_exporter": "python",
   "pygments_lexer": "ipython3",
   "version": "3.6.3"
  }
 },
 "nbformat": 4,
 "nbformat_minor": 2
}
