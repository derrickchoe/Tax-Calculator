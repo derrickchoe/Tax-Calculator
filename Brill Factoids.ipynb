{
 "cells": [
  {
   "cell_type": "code",
   "execution_count": 1,
   "metadata": {
    "hideCode": true,
    "hidePrompt": true
   },
   "outputs": [
    {
     "data": {
      "text/html": [
       "\n",
       "    <div class=\"bk-root\">\n",
       "        <a href=\"https://bokeh.pydata.org\" target=\"_blank\" class=\"bk-logo bk-logo-small bk-logo-notebook\"></a>\n",
       "        <span id=\"c9d6490b-42f7-4ea5-99ae-195da9abc8de\">Loading BokehJS ...</span>\n",
       "    </div>"
      ]
     },
     "metadata": {},
     "output_type": "display_data"
    },
    {
     "data": {
      "application/javascript": [
       "\n",
       "(function(root) {\n",
       "  function now() {\n",
       "    return new Date();\n",
       "  }\n",
       "\n",
       "  var force = true;\n",
       "\n",
       "  if (typeof (root._bokeh_onload_callbacks) === \"undefined\" || force === true) {\n",
       "    root._bokeh_onload_callbacks = [];\n",
       "    root._bokeh_is_loading = undefined;\n",
       "  }\n",
       "\n",
       "  var JS_MIME_TYPE = 'application/javascript';\n",
       "  var HTML_MIME_TYPE = 'text/html';\n",
       "  var EXEC_MIME_TYPE = 'application/vnd.bokehjs_exec.v0+json';\n",
       "  var CLASS_NAME = 'output_bokeh rendered_html';\n",
       "\n",
       "  /**\n",
       "   * Render data to the DOM node\n",
       "   */\n",
       "  function render(props, node) {\n",
       "    var script = document.createElement(\"script\");\n",
       "    node.appendChild(script);\n",
       "  }\n",
       "\n",
       "  /**\n",
       "   * Handle when an output is cleared or removed\n",
       "   */\n",
       "  function handleClearOutput(event, handle) {\n",
       "    var cell = handle.cell;\n",
       "\n",
       "    var id = cell.output_area._bokeh_element_id;\n",
       "    var server_id = cell.output_area._bokeh_server_id;\n",
       "    // Clean up Bokeh references\n",
       "    if (id !== undefined) {\n",
       "      Bokeh.index[id].model.document.clear();\n",
       "      delete Bokeh.index[id];\n",
       "    }\n",
       "\n",
       "    if (server_id !== undefined) {\n",
       "      // Clean up Bokeh references\n",
       "      var cmd = \"from bokeh.io.state import curstate; print(curstate().uuid_to_server['\" + server_id + \"'].get_sessions()[0].document.roots[0]._id)\";\n",
       "      cell.notebook.kernel.execute(cmd, {\n",
       "        iopub: {\n",
       "          output: function(msg) {\n",
       "            var element_id = msg.content.text.trim();\n",
       "            Bokeh.index[element_id].model.document.clear();\n",
       "            delete Bokeh.index[element_id];\n",
       "          }\n",
       "        }\n",
       "      });\n",
       "      // Destroy server and session\n",
       "      var cmd = \"import bokeh.io.notebook as ion; ion.destroy_server('\" + server_id + \"')\";\n",
       "      cell.notebook.kernel.execute(cmd);\n",
       "    }\n",
       "  }\n",
       "\n",
       "  /**\n",
       "   * Handle when a new output is added\n",
       "   */\n",
       "  function handleAddOutput(event, handle) {\n",
       "    var output_area = handle.output_area;\n",
       "    var output = handle.output;\n",
       "\n",
       "    // limit handleAddOutput to display_data with EXEC_MIME_TYPE content only\n",
       "    if ((output.output_type != \"display_data\") || (!output.data.hasOwnProperty(EXEC_MIME_TYPE))) {\n",
       "      return\n",
       "    }\n",
       "\n",
       "    var toinsert = output_area.element.find(`.${CLASS_NAME.split(' ')[0]}`);\n",
       "\n",
       "    if (output.metadata[EXEC_MIME_TYPE][\"id\"] !== undefined) {\n",
       "      toinsert[0].firstChild.textContent = output.data[JS_MIME_TYPE];\n",
       "      // store reference to embed id on output_area\n",
       "      output_area._bokeh_element_id = output.metadata[EXEC_MIME_TYPE][\"id\"];\n",
       "    }\n",
       "    if (output.metadata[EXEC_MIME_TYPE][\"server_id\"] !== undefined) {\n",
       "      var bk_div = document.createElement(\"div\");\n",
       "      bk_div.innerHTML = output.data[HTML_MIME_TYPE];\n",
       "      var script_attrs = bk_div.children[0].attributes;\n",
       "      for (var i = 0; i < script_attrs.length; i++) {\n",
       "        toinsert[0].firstChild.setAttribute(script_attrs[i].name, script_attrs[i].value);\n",
       "      }\n",
       "      // store reference to server id on output_area\n",
       "      output_area._bokeh_server_id = output.metadata[EXEC_MIME_TYPE][\"server_id\"];\n",
       "    }\n",
       "  }\n",
       "\n",
       "  function register_renderer(events, OutputArea) {\n",
       "\n",
       "    function append_mime(data, metadata, element) {\n",
       "      // create a DOM node to render to\n",
       "      var toinsert = this.create_output_subarea(\n",
       "        metadata,\n",
       "        CLASS_NAME,\n",
       "        EXEC_MIME_TYPE\n",
       "      );\n",
       "      this.keyboard_manager.register_events(toinsert);\n",
       "      // Render to node\n",
       "      var props = {data: data, metadata: metadata[EXEC_MIME_TYPE]};\n",
       "      render(props, toinsert[0]);\n",
       "      element.append(toinsert);\n",
       "      return toinsert\n",
       "    }\n",
       "\n",
       "    /* Handle when an output is cleared or removed */\n",
       "    events.on('clear_output.CodeCell', handleClearOutput);\n",
       "    events.on('delete.Cell', handleClearOutput);\n",
       "\n",
       "    /* Handle when a new output is added */\n",
       "    events.on('output_added.OutputArea', handleAddOutput);\n",
       "\n",
       "    /**\n",
       "     * Register the mime type and append_mime function with output_area\n",
       "     */\n",
       "    OutputArea.prototype.register_mime_type(EXEC_MIME_TYPE, append_mime, {\n",
       "      /* Is output safe? */\n",
       "      safe: true,\n",
       "      /* Index of renderer in `output_area.display_order` */\n",
       "      index: 0\n",
       "    });\n",
       "  }\n",
       "\n",
       "  // register the mime type if in Jupyter Notebook environment and previously unregistered\n",
       "  if (root.Jupyter !== undefined) {\n",
       "    var events = require('base/js/events');\n",
       "    var OutputArea = require('notebook/js/outputarea').OutputArea;\n",
       "\n",
       "    if (OutputArea.prototype.mime_types().indexOf(EXEC_MIME_TYPE) == -1) {\n",
       "      register_renderer(events, OutputArea);\n",
       "    }\n",
       "  }\n",
       "\n",
       "  \n",
       "  if (typeof (root._bokeh_timeout) === \"undefined\" || force === true) {\n",
       "    root._bokeh_timeout = Date.now() + 5000;\n",
       "    root._bokeh_failed_load = false;\n",
       "  }\n",
       "\n",
       "  var NB_LOAD_WARNING = {'data': {'text/html':\n",
       "     \"<div style='background-color: #fdd'>\\n\"+\n",
       "     \"<p>\\n\"+\n",
       "     \"BokehJS does not appear to have successfully loaded. If loading BokehJS from CDN, this \\n\"+\n",
       "     \"may be due to a slow or bad network connection. Possible fixes:\\n\"+\n",
       "     \"</p>\\n\"+\n",
       "     \"<ul>\\n\"+\n",
       "     \"<li>re-rerun `output_notebook()` to attempt to load from CDN again, or</li>\\n\"+\n",
       "     \"<li>use INLINE resources instead, as so:</li>\\n\"+\n",
       "     \"</ul>\\n\"+\n",
       "     \"<code>\\n\"+\n",
       "     \"from bokeh.resources import INLINE\\n\"+\n",
       "     \"output_notebook(resources=INLINE)\\n\"+\n",
       "     \"</code>\\n\"+\n",
       "     \"</div>\"}};\n",
       "\n",
       "  function display_loaded() {\n",
       "    var el = document.getElementById(\"c9d6490b-42f7-4ea5-99ae-195da9abc8de\");\n",
       "    if (el != null) {\n",
       "      el.textContent = \"BokehJS is loading...\";\n",
       "    }\n",
       "    if (root.Bokeh !== undefined) {\n",
       "      if (el != null) {\n",
       "        el.textContent = \"BokehJS \" + root.Bokeh.version + \" successfully loaded.\";\n",
       "      }\n",
       "    } else if (Date.now() < root._bokeh_timeout) {\n",
       "      setTimeout(display_loaded, 100)\n",
       "    }\n",
       "  }\n",
       "\n",
       "\n",
       "  function run_callbacks() {\n",
       "    try {\n",
       "      root._bokeh_onload_callbacks.forEach(function(callback) { callback() });\n",
       "    }\n",
       "    finally {\n",
       "      delete root._bokeh_onload_callbacks\n",
       "    }\n",
       "    console.info(\"Bokeh: all callbacks have finished\");\n",
       "  }\n",
       "\n",
       "  function load_libs(js_urls, callback) {\n",
       "    root._bokeh_onload_callbacks.push(callback);\n",
       "    if (root._bokeh_is_loading > 0) {\n",
       "      console.log(\"Bokeh: BokehJS is being loaded, scheduling callback at\", now());\n",
       "      return null;\n",
       "    }\n",
       "    if (js_urls == null || js_urls.length === 0) {\n",
       "      run_callbacks();\n",
       "      return null;\n",
       "    }\n",
       "    console.log(\"Bokeh: BokehJS not loaded, scheduling load and callback at\", now());\n",
       "    root._bokeh_is_loading = js_urls.length;\n",
       "    for (var i = 0; i < js_urls.length; i++) {\n",
       "      var url = js_urls[i];\n",
       "      var s = document.createElement('script');\n",
       "      s.src = url;\n",
       "      s.async = false;\n",
       "      s.onreadystatechange = s.onload = function() {\n",
       "        root._bokeh_is_loading--;\n",
       "        if (root._bokeh_is_loading === 0) {\n",
       "          console.log(\"Bokeh: all BokehJS libraries loaded\");\n",
       "          run_callbacks()\n",
       "        }\n",
       "      };\n",
       "      s.onerror = function() {\n",
       "        console.warn(\"failed to load library \" + url);\n",
       "      };\n",
       "      console.log(\"Bokeh: injecting script tag for BokehJS library: \", url);\n",
       "      document.getElementsByTagName(\"head\")[0].appendChild(s);\n",
       "    }\n",
       "  };var element = document.getElementById(\"c9d6490b-42f7-4ea5-99ae-195da9abc8de\");\n",
       "  if (element == null) {\n",
       "    console.log(\"Bokeh: ERROR: autoload.js configured with elementid 'c9d6490b-42f7-4ea5-99ae-195da9abc8de' but no matching script tag was found. \")\n",
       "    return false;\n",
       "  }\n",
       "\n",
       "  var js_urls = [\"https://cdn.pydata.org/bokeh/release/bokeh-0.12.10.min.js\", \"https://cdn.pydata.org/bokeh/release/bokeh-widgets-0.12.10.min.js\", \"https://cdn.pydata.org/bokeh/release/bokeh-tables-0.12.10.min.js\", \"https://cdn.pydata.org/bokeh/release/bokeh-gl-0.12.10.min.js\"];\n",
       "\n",
       "  var inline_js = [\n",
       "    function(Bokeh) {\n",
       "      Bokeh.set_log_level(\"info\");\n",
       "    },\n",
       "    \n",
       "    function(Bokeh) {\n",
       "      \n",
       "    },\n",
       "    function(Bokeh) {\n",
       "      console.log(\"Bokeh: injecting CSS: https://cdn.pydata.org/bokeh/release/bokeh-0.12.10.min.css\");\n",
       "      Bokeh.embed.inject_css(\"https://cdn.pydata.org/bokeh/release/bokeh-0.12.10.min.css\");\n",
       "      console.log(\"Bokeh: injecting CSS: https://cdn.pydata.org/bokeh/release/bokeh-widgets-0.12.10.min.css\");\n",
       "      Bokeh.embed.inject_css(\"https://cdn.pydata.org/bokeh/release/bokeh-widgets-0.12.10.min.css\");\n",
       "      console.log(\"Bokeh: injecting CSS: https://cdn.pydata.org/bokeh/release/bokeh-tables-0.12.10.min.css\");\n",
       "      Bokeh.embed.inject_css(\"https://cdn.pydata.org/bokeh/release/bokeh-tables-0.12.10.min.css\");\n",
       "    }\n",
       "  ];\n",
       "\n",
       "  function run_inline_js() {\n",
       "    \n",
       "    if ((root.Bokeh !== undefined) || (force === true)) {\n",
       "      for (var i = 0; i < inline_js.length; i++) {\n",
       "        inline_js[i].call(root, root.Bokeh);\n",
       "      }if (force === true) {\n",
       "        display_loaded();\n",
       "      }} else if (Date.now() < root._bokeh_timeout) {\n",
       "      setTimeout(run_inline_js, 100);\n",
       "    } else if (!root._bokeh_failed_load) {\n",
       "      console.log(\"Bokeh: BokehJS failed to load within specified timeout.\");\n",
       "      root._bokeh_failed_load = true;\n",
       "    } else if (force !== true) {\n",
       "      var cell = $(document.getElementById(\"c9d6490b-42f7-4ea5-99ae-195da9abc8de\")).parents('.cell').data().cell;\n",
       "      cell.output_area.append_execute_result(NB_LOAD_WARNING)\n",
       "    }\n",
       "\n",
       "  }\n",
       "\n",
       "  if (root._bokeh_is_loading === 0) {\n",
       "    console.log(\"Bokeh: BokehJS loaded, going straight to plotting\");\n",
       "    run_inline_js();\n",
       "  } else {\n",
       "    load_libs(js_urls, function() {\n",
       "      console.log(\"Bokeh: BokehJS plotting callback run at\", now());\n",
       "      run_inline_js();\n",
       "    });\n",
       "  }\n",
       "}(window));"
      ],
      "application/vnd.bokehjs_load.v0+json": "\n(function(root) {\n  function now() {\n    return new Date();\n  }\n\n  var force = true;\n\n  if (typeof (root._bokeh_onload_callbacks) === \"undefined\" || force === true) {\n    root._bokeh_onload_callbacks = [];\n    root._bokeh_is_loading = undefined;\n  }\n\n  \n\n  \n  if (typeof (root._bokeh_timeout) === \"undefined\" || force === true) {\n    root._bokeh_timeout = Date.now() + 5000;\n    root._bokeh_failed_load = false;\n  }\n\n  var NB_LOAD_WARNING = {'data': {'text/html':\n     \"<div style='background-color: #fdd'>\\n\"+\n     \"<p>\\n\"+\n     \"BokehJS does not appear to have successfully loaded. If loading BokehJS from CDN, this \\n\"+\n     \"may be due to a slow or bad network connection. Possible fixes:\\n\"+\n     \"</p>\\n\"+\n     \"<ul>\\n\"+\n     \"<li>re-rerun `output_notebook()` to attempt to load from CDN again, or</li>\\n\"+\n     \"<li>use INLINE resources instead, as so:</li>\\n\"+\n     \"</ul>\\n\"+\n     \"<code>\\n\"+\n     \"from bokeh.resources import INLINE\\n\"+\n     \"output_notebook(resources=INLINE)\\n\"+\n     \"</code>\\n\"+\n     \"</div>\"}};\n\n  function display_loaded() {\n    var el = document.getElementById(\"c9d6490b-42f7-4ea5-99ae-195da9abc8de\");\n    if (el != null) {\n      el.textContent = \"BokehJS is loading...\";\n    }\n    if (root.Bokeh !== undefined) {\n      if (el != null) {\n        el.textContent = \"BokehJS \" + root.Bokeh.version + \" successfully loaded.\";\n      }\n    } else if (Date.now() < root._bokeh_timeout) {\n      setTimeout(display_loaded, 100)\n    }\n  }\n\n\n  function run_callbacks() {\n    try {\n      root._bokeh_onload_callbacks.forEach(function(callback) { callback() });\n    }\n    finally {\n      delete root._bokeh_onload_callbacks\n    }\n    console.info(\"Bokeh: all callbacks have finished\");\n  }\n\n  function load_libs(js_urls, callback) {\n    root._bokeh_onload_callbacks.push(callback);\n    if (root._bokeh_is_loading > 0) {\n      console.log(\"Bokeh: BokehJS is being loaded, scheduling callback at\", now());\n      return null;\n    }\n    if (js_urls == null || js_urls.length === 0) {\n      run_callbacks();\n      return null;\n    }\n    console.log(\"Bokeh: BokehJS not loaded, scheduling load and callback at\", now());\n    root._bokeh_is_loading = js_urls.length;\n    for (var i = 0; i < js_urls.length; i++) {\n      var url = js_urls[i];\n      var s = document.createElement('script');\n      s.src = url;\n      s.async = false;\n      s.onreadystatechange = s.onload = function() {\n        root._bokeh_is_loading--;\n        if (root._bokeh_is_loading === 0) {\n          console.log(\"Bokeh: all BokehJS libraries loaded\");\n          run_callbacks()\n        }\n      };\n      s.onerror = function() {\n        console.warn(\"failed to load library \" + url);\n      };\n      console.log(\"Bokeh: injecting script tag for BokehJS library: \", url);\n      document.getElementsByTagName(\"head\")[0].appendChild(s);\n    }\n  };var element = document.getElementById(\"c9d6490b-42f7-4ea5-99ae-195da9abc8de\");\n  if (element == null) {\n    console.log(\"Bokeh: ERROR: autoload.js configured with elementid 'c9d6490b-42f7-4ea5-99ae-195da9abc8de' but no matching script tag was found. \")\n    return false;\n  }\n\n  var js_urls = [\"https://cdn.pydata.org/bokeh/release/bokeh-0.12.10.min.js\", \"https://cdn.pydata.org/bokeh/release/bokeh-widgets-0.12.10.min.js\", \"https://cdn.pydata.org/bokeh/release/bokeh-tables-0.12.10.min.js\", \"https://cdn.pydata.org/bokeh/release/bokeh-gl-0.12.10.min.js\"];\n\n  var inline_js = [\n    function(Bokeh) {\n      Bokeh.set_log_level(\"info\");\n    },\n    \n    function(Bokeh) {\n      \n    },\n    function(Bokeh) {\n      console.log(\"Bokeh: injecting CSS: https://cdn.pydata.org/bokeh/release/bokeh-0.12.10.min.css\");\n      Bokeh.embed.inject_css(\"https://cdn.pydata.org/bokeh/release/bokeh-0.12.10.min.css\");\n      console.log(\"Bokeh: injecting CSS: https://cdn.pydata.org/bokeh/release/bokeh-widgets-0.12.10.min.css\");\n      Bokeh.embed.inject_css(\"https://cdn.pydata.org/bokeh/release/bokeh-widgets-0.12.10.min.css\");\n      console.log(\"Bokeh: injecting CSS: https://cdn.pydata.org/bokeh/release/bokeh-tables-0.12.10.min.css\");\n      Bokeh.embed.inject_css(\"https://cdn.pydata.org/bokeh/release/bokeh-tables-0.12.10.min.css\");\n    }\n  ];\n\n  function run_inline_js() {\n    \n    if ((root.Bokeh !== undefined) || (force === true)) {\n      for (var i = 0; i < inline_js.length; i++) {\n        inline_js[i].call(root, root.Bokeh);\n      }if (force === true) {\n        display_loaded();\n      }} else if (Date.now() < root._bokeh_timeout) {\n      setTimeout(run_inline_js, 100);\n    } else if (!root._bokeh_failed_load) {\n      console.log(\"Bokeh: BokehJS failed to load within specified timeout.\");\n      root._bokeh_failed_load = true;\n    } else if (force !== true) {\n      var cell = $(document.getElementById(\"c9d6490b-42f7-4ea5-99ae-195da9abc8de\")).parents('.cell').data().cell;\n      cell.output_area.append_execute_result(NB_LOAD_WARNING)\n    }\n\n  }\n\n  if (root._bokeh_is_loading === 0) {\n    console.log(\"Bokeh: BokehJS loaded, going straight to plotting\");\n    run_inline_js();\n  } else {\n    load_libs(js_urls, function() {\n      console.log(\"Bokeh: BokehJS plotting callback run at\", now());\n      run_inline_js();\n    });\n  }\n}(window));"
     },
     "metadata": {},
     "output_type": "display_data"
    }
   ],
   "source": [
    "import taxcalc as tc\n",
    "import pandas as pd\n",
    "import numpy as np\n",
    "import copy\n",
    "from bokeh.plotting import figure, output_file, show, save\n",
    "from bokeh.io import output_notebook\n",
    "pd.options.display.float_format = '{:,.2f}'.format\n",
    "output_notebook()"
   ]
  },
  {
   "cell_type": "code",
   "execution_count": 2,
   "metadata": {
    "hideCode": true,
    "hidePrompt": true
   },
   "outputs": [],
   "source": [
    "# 2017 Reform\n",
    "path_name = 'C:\\\\Users\\\\derrick.choe\\\\Tax-Calculator\\\\taxcalc\\\\reforms\\\\2017_law.json'\n",
    "jfile = open(path_name, 'r')\n",
    "jtext = jfile.read()\n",
    "jfile.close()\n",
    "reform_old = tc.Calculator._read_json_policy_reform_text(jtext, {}, {})\n",
    "\n",
    "pol_old = tc.Policy()\n",
    "pol_old.implement_reform(reform_old)\n",
    "\n",
    "#Baseline Calculator\n",
    "calc_old=tc.Calculator(records = tc.Records(), policy = pol_old, verbose = False)\n",
    "calc_old.advance_to_year(2018)\n",
    "calc_old.calc_all()"
   ]
  },
  {
   "cell_type": "code",
   "execution_count": 3,
   "metadata": {
    "hideCode": true,
    "hidePrompt": true
   },
   "outputs": [],
   "source": [
    "# 2017 Reform, no charitable deduction\n",
    "reform_old_nochar = copy.deepcopy(reform_old)\n",
    "reform_old_nochar[2018]['_ID_Charity_hc'] = [1]\n",
    "\n",
    "pol_old_nochar = tc.Policy()\n",
    "pol_old_nochar.implement_reform(reform_old_nochar)\n",
    "\n",
    "calc_old_nochar = tc.Calculator(records = tc.Records(), policy = pol_old_nochar, verbose = False)\n",
    "calc_old_nochar.advance_to_year(2018)\n",
    "calc_old_nochar.calc_all()"
   ]
  },
  {
   "cell_type": "code",
   "execution_count": 4,
   "metadata": {
    "hideCode": true,
    "hidePrompt": true
   },
   "outputs": [],
   "source": [
    "calc_new = tc.Calculator(records = tc.Records(), policy = tc.Policy(), verbose = False)\n",
    "calc_new.advance_to_year(2018)\n",
    "calc_new.calc_all()"
   ]
  },
  {
   "cell_type": "code",
   "execution_count": 5,
   "metadata": {
    "hideCode": true,
    "hidePrompt": true
   },
   "outputs": [],
   "source": [
    "# TCJA, no charitable deduction\n",
    "reform_new_nochar = {2018 : {}}\n",
    "reform_new_nochar[2018]['_ID_Charity_hc'] = [1]\n",
    "\n",
    "pol_new_nochar = tc.Policy()\n",
    "pol_new_nochar.implement_reform(reform_new_nochar)\n",
    "\n",
    "calc_new_nochar = tc.Calculator(records = tc.Records(), policy = pol_new_nochar, verbose = False)\n",
    "calc_new_nochar.advance_to_year(2018)\n",
    "calc_new_nochar.calc_all()"
   ]
  },
  {
   "cell_type": "code",
   "execution_count": 6,
   "metadata": {
    "hideCode": true,
    "hidePrompt": true
   },
   "outputs": [],
   "source": [
    "vlist = ['c00100', 'iitax', 'standard', 'c04470', 'c19200', 'c19700', 'n24', 'c07220', 'c11070', 's006']"
   ]
  },
  {
   "cell_type": "code",
   "execution_count": 7,
   "metadata": {
    "hideCode": true,
    "hidePrompt": true
   },
   "outputs": [],
   "source": [
    "odf_full = calc_old.dataframe(vlist)\n",
    "ndf_full = calc_new.dataframe(vlist)"
   ]
  },
  {
   "cell_type": "code",
   "execution_count": 8,
   "metadata": {
    "hideCode": true,
    "hidePrompt": true
   },
   "outputs": [],
   "source": [
    "def getstat(df, title, var = 's006'):\n",
    "    print(title + \": \" + \"{:,.0f}\".format((df[var].sum())))"
   ]
  },
  {
   "cell_type": "code",
   "execution_count": 9,
   "metadata": {
    "hideCode": true,
    "hidePrompt": true
   },
   "outputs": [],
   "source": [
    "def w_avg(df, var):\n",
    "    return (df[var] * df['s006']).sum() / df['s006'].sum()"
   ]
  },
  {
   "cell_type": "markdown",
   "metadata": {
    "hideCode": true,
    "hidePrompt": true
   },
   "source": [
    "# Section 1: Number of Filers"
   ]
  },
  {
   "cell_type": "markdown",
   "metadata": {
    "hideCode": true,
    "hidePrompt": true
   },
   "source": [
    "## 1a. Number of Tax Filers with Tax Liability > \\$0"
   ]
  },
  {
   "cell_type": "code",
   "execution_count": 10,
   "metadata": {
    "hideCode": true,
    "hidePrompt": true
   },
   "outputs": [
    {
     "name": "stdout",
     "output_type": "stream",
     "text": [
      "Pre-TCJA: 103,354,373\n",
      "TCJA: 97,069,932\n"
     ]
    }
   ],
   "source": [
    "getstat(odf_full[odf_full['iitax'] > 0], 'Pre-TCJA')\n",
    "getstat(ndf_full[ndf_full['iitax'] > 0], 'TCJA')"
   ]
  },
  {
   "cell_type": "markdown",
   "metadata": {
    "hideCode": true,
    "hidePrompt": true
   },
   "source": [
    "## 1b. Number of Tax Filers Claiming Standard, Itemized Deduction"
   ]
  },
  {
   "cell_type": "code",
   "execution_count": 11,
   "metadata": {
    "hideCode": true,
    "hidePrompt": true
   },
   "outputs": [
    {
     "name": "stdout",
     "output_type": "stream",
     "text": [
      "Pre-TCJA, Standard Deduction, Positive Income Tax Liability: 60,869,564\n",
      "Pre-TCJA, Itemized Deduction, Positive Income Tax Liability: 42,466,657\n",
      "Pre-TCJA, Standard Deduction, All Tax Filers: 127,618,535\n",
      "Pre-TCJA, Itemized Deduction, All Tax Filers: 45,164,447\n",
      "TCJA, Standard Deduction, Positive Income Tax Liability: 78,528,593\n",
      "TCJA, Itemized Deduction, Positive Income Tax Liability: 18,517,343\n",
      "TCJA, Standard Deduction, All Tax Filers: 153,399,973\n",
      "TCJA, Itemized Deduction, All Tax Filers: 19,396,400\n"
     ]
    }
   ],
   "source": [
    "for df in [(odf_full, 'Pre-TCJA'), (ndf_full, 'TCJA')]:\n",
    "    getstat(df[0][(df[0]['iitax'] > 0) & (df[0]['standard'] > 0)], df[1] + ', Standard Deduction, Positive Income Tax Liability')\n",
    "    getstat(df[0][(df[0]['iitax'] > 0) & (df[0]['c04470'] > 0)], df[1] + ', Itemized Deduction, Positive Income Tax Liability')\n",
    "    getstat(df[0][df[0]['standard'] > 0], df[1] + ', Standard Deduction, All Tax Filers')\n",
    "    getstat(df[0][df[0]['c04470'] > 0], df[1] + ', Itemized Deduction, All Tax Filers')"
   ]
  },
  {
   "cell_type": "code",
   "execution_count": 12,
   "metadata": {
    "hideCode": true,
    "hidePrompt": true
   },
   "outputs": [],
   "source": [
    "odf_posagi = copy.deepcopy(odf_full[odf_full['c00100'] > 0])\n",
    "ndf_posagi = copy.deepcopy(ndf_full[odf_full['c00100'] > 0])"
   ]
  },
  {
   "cell_type": "markdown",
   "metadata": {
    "hideCode": true,
    "hidePrompt": true
   },
   "source": [
    "## 1c. Number Claiming Standard, Itemized Deductions by AGI Decile"
   ]
  },
  {
   "cell_type": "code",
   "execution_count": 13,
   "metadata": {
    "hideCode": true,
    "hidePrompt": true
   },
   "outputs": [
    {
     "data": {
      "text/html": [
       "<div>\n",
       "<style>\n",
       "    .dataframe thead tr:only-child th {\n",
       "        text-align: right;\n",
       "    }\n",
       "\n",
       "    .dataframe thead th {\n",
       "        text-align: left;\n",
       "    }\n",
       "\n",
       "    .dataframe tbody tr th {\n",
       "        vertical-align: top;\n",
       "    }\n",
       "</style>\n",
       "<table border=\"1\" class=\"dataframe\">\n",
       "  <thead>\n",
       "    <tr style=\"text-align: right;\">\n",
       "      <th></th>\n",
       "      <th>Pre-TCJA, Itemized Deduction</th>\n",
       "      <th>Pre-TCJA, Standard Deduction</th>\n",
       "      <th>TCJA, Itemized Deduction</th>\n",
       "      <th>TCJA, Standard Deduction</th>\n",
       "    </tr>\n",
       "  </thead>\n",
       "  <tbody>\n",
       "    <tr>\n",
       "      <th>(1, 0.496695789163, 4377.20002579)</th>\n",
       "      <td>3,814.55</td>\n",
       "      <td>16,095,339.48</td>\n",
       "      <td>19,652.40</td>\n",
       "      <td>16,095,328.84</td>\n",
       "    </tr>\n",
       "    <tr>\n",
       "      <th>(2, 4377.62818215, 10925.2370646)</th>\n",
       "      <td>21,155.82</td>\n",
       "      <td>16,093,592.51</td>\n",
       "      <td>13,961.97</td>\n",
       "      <td>16,101,340.02</td>\n",
       "    </tr>\n",
       "    <tr>\n",
       "      <th>(3, 10925.2370646, 17561.6869681)</th>\n",
       "      <td>532,534.22</td>\n",
       "      <td>15,587,796.42</td>\n",
       "      <td>156,362.51</td>\n",
       "      <td>15,964,277.37</td>\n",
       "    </tr>\n",
       "    <tr>\n",
       "      <th>(4, 17561.6869681, 26551.5962828)</th>\n",
       "      <td>1,075,383.14</td>\n",
       "      <td>15,044,814.98</td>\n",
       "      <td>369,218.00</td>\n",
       "      <td>15,749,017.25</td>\n",
       "    </tr>\n",
       "    <tr>\n",
       "      <th>(5, 26551.5986875, 37445.9949212)</th>\n",
       "      <td>2,007,518.29</td>\n",
       "      <td>14,111,940.89</td>\n",
       "      <td>611,336.68</td>\n",
       "      <td>15,505,921.83</td>\n",
       "    </tr>\n",
       "    <tr>\n",
       "      <th>(6, 37445.9949212, 51522.1260651)</th>\n",
       "      <td>3,373,580.96</td>\n",
       "      <td>12,745,360.58</td>\n",
       "      <td>1,008,296.28</td>\n",
       "      <td>15,109,029.61</td>\n",
       "    </tr>\n",
       "    <tr>\n",
       "      <th>(7, 51523.6124798, 69819.6364485)</th>\n",
       "      <td>5,356,757.03</td>\n",
       "      <td>10,756,904.12</td>\n",
       "      <td>1,866,314.53</td>\n",
       "      <td>14,248,946.23</td>\n",
       "    </tr>\n",
       "    <tr>\n",
       "      <th>(8, 69820.5672485, 98062.4259455)</th>\n",
       "      <td>7,699,349.45</td>\n",
       "      <td>8,419,487.16</td>\n",
       "      <td>2,927,089.89</td>\n",
       "      <td>13,192,530.53</td>\n",
       "    </tr>\n",
       "    <tr>\n",
       "      <th>(9, 98065.2950764, 148003.050189)</th>\n",
       "      <td>10,814,196.70</td>\n",
       "      <td>5,306,380.43</td>\n",
       "      <td>4,162,447.16</td>\n",
       "      <td>11,958,019.96</td>\n",
       "    </tr>\n",
       "    <tr>\n",
       "      <th>(10, 148003.050189, 197584873.031)</th>\n",
       "      <td>14,280,078.72</td>\n",
       "      <td>1,839,691.77</td>\n",
       "      <td>8,261,521.85</td>\n",
       "      <td>7,858,454.80</td>\n",
       "    </tr>\n",
       "    <tr>\n",
       "      <th>Total</th>\n",
       "      <td>45,164,368.88</td>\n",
       "      <td>116,001,308.34</td>\n",
       "      <td>19,396,201.27</td>\n",
       "      <td>141,782,866.44</td>\n",
       "    </tr>\n",
       "  </tbody>\n",
       "</table>\n",
       "</div>"
      ],
      "text/plain": [
       "                                    Pre-TCJA, Itemized Deduction  \\\n",
       "(1, 0.496695789163, 4377.20002579)                      3,814.55   \n",
       "(2, 4377.62818215, 10925.2370646)                      21,155.82   \n",
       "(3, 10925.2370646, 17561.6869681)                     532,534.22   \n",
       "(4, 17561.6869681, 26551.5962828)                   1,075,383.14   \n",
       "(5, 26551.5986875, 37445.9949212)                   2,007,518.29   \n",
       "(6, 37445.9949212, 51522.1260651)                   3,373,580.96   \n",
       "(7, 51523.6124798, 69819.6364485)                   5,356,757.03   \n",
       "(8, 69820.5672485, 98062.4259455)                   7,699,349.45   \n",
       "(9, 98065.2950764, 148003.050189)                  10,814,196.70   \n",
       "(10, 148003.050189, 197584873.031)                 14,280,078.72   \n",
       "Total                                              45,164,368.88   \n",
       "\n",
       "                                    Pre-TCJA, Standard Deduction  \\\n",
       "(1, 0.496695789163, 4377.20002579)                 16,095,339.48   \n",
       "(2, 4377.62818215, 10925.2370646)                  16,093,592.51   \n",
       "(3, 10925.2370646, 17561.6869681)                  15,587,796.42   \n",
       "(4, 17561.6869681, 26551.5962828)                  15,044,814.98   \n",
       "(5, 26551.5986875, 37445.9949212)                  14,111,940.89   \n",
       "(6, 37445.9949212, 51522.1260651)                  12,745,360.58   \n",
       "(7, 51523.6124798, 69819.6364485)                  10,756,904.12   \n",
       "(8, 69820.5672485, 98062.4259455)                   8,419,487.16   \n",
       "(9, 98065.2950764, 148003.050189)                   5,306,380.43   \n",
       "(10, 148003.050189, 197584873.031)                  1,839,691.77   \n",
       "Total                                             116,001,308.34   \n",
       "\n",
       "                                    TCJA, Itemized Deduction  \\\n",
       "(1, 0.496695789163, 4377.20002579)                 19,652.40   \n",
       "(2, 4377.62818215, 10925.2370646)                  13,961.97   \n",
       "(3, 10925.2370646, 17561.6869681)                 156,362.51   \n",
       "(4, 17561.6869681, 26551.5962828)                 369,218.00   \n",
       "(5, 26551.5986875, 37445.9949212)                 611,336.68   \n",
       "(6, 37445.9949212, 51522.1260651)               1,008,296.28   \n",
       "(7, 51523.6124798, 69819.6364485)               1,866,314.53   \n",
       "(8, 69820.5672485, 98062.4259455)               2,927,089.89   \n",
       "(9, 98065.2950764, 148003.050189)               4,162,447.16   \n",
       "(10, 148003.050189, 197584873.031)              8,261,521.85   \n",
       "Total                                          19,396,201.27   \n",
       "\n",
       "                                    TCJA, Standard Deduction  \n",
       "(1, 0.496695789163, 4377.20002579)             16,095,328.84  \n",
       "(2, 4377.62818215, 10925.2370646)              16,101,340.02  \n",
       "(3, 10925.2370646, 17561.6869681)              15,964,277.37  \n",
       "(4, 17561.6869681, 26551.5962828)              15,749,017.25  \n",
       "(5, 26551.5986875, 37445.9949212)              15,505,921.83  \n",
       "(6, 37445.9949212, 51522.1260651)              15,109,029.61  \n",
       "(7, 51523.6124798, 69819.6364485)              14,248,946.23  \n",
       "(8, 69820.5672485, 98062.4259455)              13,192,530.53  \n",
       "(9, 98065.2950764, 148003.050189)              11,958,019.96  \n",
       "(10, 148003.050189, 197584873.031)              7,858,454.80  \n",
       "Total                                         141,782,866.44  "
      ]
     },
     "execution_count": 13,
     "metadata": {},
     "output_type": "execute_result"
    }
   ],
   "source": [
    "numbin = 10\n",
    "tc.add_quantile_bins(odf_posagi, income_measure = 'c00100', num_bins = numbin)\n",
    "odf_posagi = odf_posagi.sort_index()\n",
    "ndf_posagi['bins'] = odf_posagi['bins']\n",
    "decile_dict = {}\n",
    "for df in [(odf_posagi, 'Pre-TCJA'), (ndf_posagi, 'TCJA')]:\n",
    "    for i in range(1, numbin + 1):\n",
    "        bindf = df[0][df[0]['bins'] == i]\n",
    "        decile_dict.setdefault(df[1] + ', Standard Deduction', [])\n",
    "        decile_dict[df[1] + ', Standard Deduction'].append(bindf[bindf['standard'] > 0]['s006'].sum())\n",
    "        decile_dict.setdefault(df[1] + ', Itemized Deduction', [])\n",
    "        decile_dict[df[1] + ', Itemized Deduction'].append(bindf[bindf['c04470'] > 0]['s006'].sum())\n",
    "decile_df = pd.DataFrame(decile_dict)\n",
    "decile_df = decile_df.append(decile_df.sum(numeric_only=True), ignore_index=True)\n",
    "\n",
    "decile_df.index = list(zip(range(1,11), \n",
    "                           odf_posagi.groupby('bins')['c00100'].min(), \n",
    "                           odf_posagi.groupby('bins')['c00100'].max())) + ['Total']\n",
    "\n",
    "decile_df"
   ]
  },
  {
   "cell_type": "markdown",
   "metadata": {
    "hideCode": true,
    "hidePrompt": true
   },
   "source": [
    "## 1d. Number Claiming Interest Deduction"
   ]
  },
  {
   "cell_type": "code",
   "execution_count": 14,
   "metadata": {
    "hideCode": true,
    "hidePrompt": true
   },
   "outputs": [
    {
     "data": {
      "text/html": [
       "<div>\n",
       "<style>\n",
       "    .dataframe thead tr:only-child th {\n",
       "        text-align: right;\n",
       "    }\n",
       "\n",
       "    .dataframe thead th {\n",
       "        text-align: left;\n",
       "    }\n",
       "\n",
       "    .dataframe tbody tr th {\n",
       "        vertical-align: top;\n",
       "    }\n",
       "</style>\n",
       "<table border=\"1\" class=\"dataframe\">\n",
       "  <thead>\n",
       "    <tr style=\"text-align: right;\">\n",
       "      <th></th>\n",
       "      <th>Pre-TCJA, Interest Deduction</th>\n",
       "      <th>TCJA, Interest Deduction</th>\n",
       "    </tr>\n",
       "  </thead>\n",
       "  <tbody>\n",
       "    <tr>\n",
       "      <th>(1, 0.496695789163, 4377.20002579)</th>\n",
       "      <td>0.00</td>\n",
       "      <td>4,345.93</td>\n",
       "    </tr>\n",
       "    <tr>\n",
       "      <th>(2, 4377.62818215, 10925.2370646)</th>\n",
       "      <td>13,339.02</td>\n",
       "      <td>10,140.00</td>\n",
       "    </tr>\n",
       "    <tr>\n",
       "      <th>(3, 10925.2370646, 17561.6869681)</th>\n",
       "      <td>290,814.17</td>\n",
       "      <td>91,171.79</td>\n",
       "    </tr>\n",
       "    <tr>\n",
       "      <th>(4, 17561.6869681, 26551.5962828)</th>\n",
       "      <td>611,190.42</td>\n",
       "      <td>204,622.95</td>\n",
       "    </tr>\n",
       "    <tr>\n",
       "      <th>(5, 26551.5986875, 37445.9949212)</th>\n",
       "      <td>1,256,671.79</td>\n",
       "      <td>398,574.26</td>\n",
       "    </tr>\n",
       "    <tr>\n",
       "      <th>(6, 37445.9949212, 51522.1260651)</th>\n",
       "      <td>2,293,844.22</td>\n",
       "      <td>729,460.96</td>\n",
       "    </tr>\n",
       "    <tr>\n",
       "      <th>(7, 51523.6124798, 69819.6364485)</th>\n",
       "      <td>4,001,049.69</td>\n",
       "      <td>1,530,141.46</td>\n",
       "    </tr>\n",
       "    <tr>\n",
       "      <th>(8, 69820.5672485, 98062.4259455)</th>\n",
       "      <td>6,115,719.36</td>\n",
       "      <td>2,474,398.55</td>\n",
       "    </tr>\n",
       "    <tr>\n",
       "      <th>(9, 98065.2950764, 148003.050189)</th>\n",
       "      <td>9,133,761.45</td>\n",
       "      <td>3,680,240.77</td>\n",
       "    </tr>\n",
       "    <tr>\n",
       "      <th>(10, 148003.050189, 197584873.031)</th>\n",
       "      <td>12,170,547.80</td>\n",
       "      <td>7,551,887.88</td>\n",
       "    </tr>\n",
       "    <tr>\n",
       "      <th>Total</th>\n",
       "      <td>35,886,937.92</td>\n",
       "      <td>16,674,984.55</td>\n",
       "    </tr>\n",
       "  </tbody>\n",
       "</table>\n",
       "</div>"
      ],
      "text/plain": [
       "                                    Pre-TCJA, Interest Deduction  \\\n",
       "(1, 0.496695789163, 4377.20002579)                          0.00   \n",
       "(2, 4377.62818215, 10925.2370646)                      13,339.02   \n",
       "(3, 10925.2370646, 17561.6869681)                     290,814.17   \n",
       "(4, 17561.6869681, 26551.5962828)                     611,190.42   \n",
       "(5, 26551.5986875, 37445.9949212)                   1,256,671.79   \n",
       "(6, 37445.9949212, 51522.1260651)                   2,293,844.22   \n",
       "(7, 51523.6124798, 69819.6364485)                   4,001,049.69   \n",
       "(8, 69820.5672485, 98062.4259455)                   6,115,719.36   \n",
       "(9, 98065.2950764, 148003.050189)                   9,133,761.45   \n",
       "(10, 148003.050189, 197584873.031)                 12,170,547.80   \n",
       "Total                                              35,886,937.92   \n",
       "\n",
       "                                    TCJA, Interest Deduction  \n",
       "(1, 0.496695789163, 4377.20002579)                  4,345.93  \n",
       "(2, 4377.62818215, 10925.2370646)                  10,140.00  \n",
       "(3, 10925.2370646, 17561.6869681)                  91,171.79  \n",
       "(4, 17561.6869681, 26551.5962828)                 204,622.95  \n",
       "(5, 26551.5986875, 37445.9949212)                 398,574.26  \n",
       "(6, 37445.9949212, 51522.1260651)                 729,460.96  \n",
       "(7, 51523.6124798, 69819.6364485)               1,530,141.46  \n",
       "(8, 69820.5672485, 98062.4259455)               2,474,398.55  \n",
       "(9, 98065.2950764, 148003.050189)               3,680,240.77  \n",
       "(10, 148003.050189, 197584873.031)              7,551,887.88  \n",
       "Total                                          16,674,984.55  "
      ]
     },
     "execution_count": 14,
     "metadata": {},
     "output_type": "execute_result"
    }
   ],
   "source": [
    "decile_dict = {}\n",
    "for df in [(odf_posagi, 'Pre-TCJA'), (ndf_posagi, 'TCJA')]:\n",
    "    for i in range(1, numbin + 1):\n",
    "        bindf = df[0][df[0]['bins'] == i]\n",
    "        decile_dict.setdefault(df[1] + ', Interest Deduction', [])\n",
    "        decile_dict[df[1] + ', Interest Deduction'].append(bindf[(bindf['c19200'] > 0) & (bindf['c04470'] > 0)]['s006'].sum())\n",
    "decile_df = pd.DataFrame(decile_dict)\n",
    "decile_df = decile_df.append(decile_df.sum(numeric_only=True), ignore_index=True)\n",
    "decile_df.index = list(zip(range(1,11), \n",
    "                           odf_posagi.groupby('bins')['c00100'].min(), \n",
    "                           odf_posagi.groupby('bins')['c00100'].max())) + ['Total']\n",
    "decile_df"
   ]
  },
  {
   "cell_type": "markdown",
   "metadata": {
    "hideCode": true,
    "hidePrompt": true
   },
   "source": [
    "## 1e. Number Claiming Charitable Deduction"
   ]
  },
  {
   "cell_type": "code",
   "execution_count": 15,
   "metadata": {
    "hideCode": true,
    "hidePrompt": true
   },
   "outputs": [
    {
     "data": {
      "text/html": [
       "<div>\n",
       "<style>\n",
       "    .dataframe thead tr:only-child th {\n",
       "        text-align: right;\n",
       "    }\n",
       "\n",
       "    .dataframe thead th {\n",
       "        text-align: left;\n",
       "    }\n",
       "\n",
       "    .dataframe tbody tr th {\n",
       "        vertical-align: top;\n",
       "    }\n",
       "</style>\n",
       "<table border=\"1\" class=\"dataframe\">\n",
       "  <thead>\n",
       "    <tr style=\"text-align: right;\">\n",
       "      <th></th>\n",
       "      <th>Pre-TCJA, Charity Deduction</th>\n",
       "      <th>TCJA, Charity Deduction</th>\n",
       "    </tr>\n",
       "  </thead>\n",
       "  <tbody>\n",
       "    <tr>\n",
       "      <th>(1, 0.496695789163, 4377.20002579)</th>\n",
       "      <td>0.00</td>\n",
       "      <td>7,037.37</td>\n",
       "    </tr>\n",
       "    <tr>\n",
       "      <th>(2, 4377.62818215, 10925.2370646)</th>\n",
       "      <td>10,754.33</td>\n",
       "      <td>6,770.70</td>\n",
       "    </tr>\n",
       "    <tr>\n",
       "      <th>(3, 10925.2370646, 17561.6869681)</th>\n",
       "      <td>321,271.86</td>\n",
       "      <td>85,553.92</td>\n",
       "    </tr>\n",
       "    <tr>\n",
       "      <th>(4, 17561.6869681, 26551.5962828)</th>\n",
       "      <td>685,968.27</td>\n",
       "      <td>212,481.78</td>\n",
       "    </tr>\n",
       "    <tr>\n",
       "      <th>(5, 26551.5986875, 37445.9949212)</th>\n",
       "      <td>1,430,103.42</td>\n",
       "      <td>454,200.76</td>\n",
       "    </tr>\n",
       "    <tr>\n",
       "      <th>(6, 37445.9949212, 51522.1260651)</th>\n",
       "      <td>2,457,727.73</td>\n",
       "      <td>787,780.94</td>\n",
       "    </tr>\n",
       "    <tr>\n",
       "      <th>(7, 51523.6124798, 69819.6364485)</th>\n",
       "      <td>4,082,518.79</td>\n",
       "      <td>1,456,580.70</td>\n",
       "    </tr>\n",
       "    <tr>\n",
       "      <th>(8, 69820.5672485, 98062.4259455)</th>\n",
       "      <td>6,309,127.95</td>\n",
       "      <td>2,489,909.30</td>\n",
       "    </tr>\n",
       "    <tr>\n",
       "      <th>(9, 98065.2950764, 148003.050189)</th>\n",
       "      <td>9,259,098.23</td>\n",
       "      <td>3,677,894.65</td>\n",
       "    </tr>\n",
       "    <tr>\n",
       "      <th>(10, 148003.050189, 197584873.031)</th>\n",
       "      <td>13,086,027.57</td>\n",
       "      <td>7,756,719.73</td>\n",
       "    </tr>\n",
       "    <tr>\n",
       "      <th>Total</th>\n",
       "      <td>37,642,598.15</td>\n",
       "      <td>16,934,929.85</td>\n",
       "    </tr>\n",
       "  </tbody>\n",
       "</table>\n",
       "</div>"
      ],
      "text/plain": [
       "                                    Pre-TCJA, Charity Deduction  \\\n",
       "(1, 0.496695789163, 4377.20002579)                         0.00   \n",
       "(2, 4377.62818215, 10925.2370646)                     10,754.33   \n",
       "(3, 10925.2370646, 17561.6869681)                    321,271.86   \n",
       "(4, 17561.6869681, 26551.5962828)                    685,968.27   \n",
       "(5, 26551.5986875, 37445.9949212)                  1,430,103.42   \n",
       "(6, 37445.9949212, 51522.1260651)                  2,457,727.73   \n",
       "(7, 51523.6124798, 69819.6364485)                  4,082,518.79   \n",
       "(8, 69820.5672485, 98062.4259455)                  6,309,127.95   \n",
       "(9, 98065.2950764, 148003.050189)                  9,259,098.23   \n",
       "(10, 148003.050189, 197584873.031)                13,086,027.57   \n",
       "Total                                             37,642,598.15   \n",
       "\n",
       "                                    TCJA, Charity Deduction  \n",
       "(1, 0.496695789163, 4377.20002579)                 7,037.37  \n",
       "(2, 4377.62818215, 10925.2370646)                  6,770.70  \n",
       "(3, 10925.2370646, 17561.6869681)                 85,553.92  \n",
       "(4, 17561.6869681, 26551.5962828)                212,481.78  \n",
       "(5, 26551.5986875, 37445.9949212)                454,200.76  \n",
       "(6, 37445.9949212, 51522.1260651)                787,780.94  \n",
       "(7, 51523.6124798, 69819.6364485)              1,456,580.70  \n",
       "(8, 69820.5672485, 98062.4259455)              2,489,909.30  \n",
       "(9, 98065.2950764, 148003.050189)              3,677,894.65  \n",
       "(10, 148003.050189, 197584873.031)             7,756,719.73  \n",
       "Total                                         16,934,929.85  "
      ]
     },
     "execution_count": 15,
     "metadata": {},
     "output_type": "execute_result"
    }
   ],
   "source": [
    "decile_dict = {}\n",
    "for df in [(odf_posagi, 'Pre-TCJA'), (ndf_posagi, 'TCJA')]:\n",
    "    for i in range(1, numbin + 1):\n",
    "        bindf = df[0][df[0]['bins'] == i]\n",
    "        decile_dict.setdefault(df[1] + ', Charity Deduction', [])\n",
    "        decile_dict[df[1] + ', Charity Deduction'].append(bindf[(bindf['c19700'] > 0) & (bindf['c04470'] > 0)]['s006'].sum())\n",
    "decile_df = pd.DataFrame(decile_dict)\n",
    "decile_df = decile_df.append(decile_df.sum(numeric_only=True), ignore_index=True)\n",
    "decile_df.index = list(zip(range(1,11), \n",
    "                           odf_posagi.groupby('bins')['c00100'].min(), \n",
    "                           odf_posagi.groupby('bins')['c00100'].max())) + ['Total']\n",
    "decile_df"
   ]
  },
  {
   "cell_type": "markdown",
   "metadata": {
    "hideCode": true,
    "hidePrompt": true
   },
   "source": [
    "# Section 2: Marginal Tax Rates on Labor"
   ]
  },
  {
   "cell_type": "markdown",
   "metadata": {
    "hideCode": true,
    "hidePrompt": true
   },
   "source": [
    "## 2a. Effective Marginal Tax Rate on Labor"
   ]
  },
  {
   "cell_type": "code",
   "execution_count": 16,
   "metadata": {
    "hideCode": true,
    "hidePrompt": true
   },
   "outputs": [],
   "source": [
    "odf_full['mtr'] = calc_old.mtr()[1]\n",
    "ndf_full['mtr'] = calc_new.mtr()[1]"
   ]
  },
  {
   "cell_type": "code",
   "execution_count": 17,
   "metadata": {
    "hideCode": true,
    "hidePrompt": true
   },
   "outputs": [
    {
     "name": "stdout",
     "output_type": "stream",
     "text": [
      "Pre-TCJA, Average EMTR: 0.11580142502096552\n",
      "TCJA, Average EMTR: 0.09189758044937907\n"
     ]
    }
   ],
   "source": [
    "print('Pre-TCJA, Average EMTR: ' + str(w_avg(odf_full, 'mtr')))\n",
    "print('TCJA, Average EMTR: ' + str(w_avg(ndf_full, 'mtr')))"
   ]
  },
  {
   "cell_type": "markdown",
   "metadata": {
    "hideCode": true,
    "hidePrompt": true
   },
   "source": [
    "# Section 3: The Child Tax Credit"
   ]
  },
  {
   "cell_type": "markdown",
   "metadata": {
    "hideCode": true,
    "hidePrompt": true
   },
   "source": [
    "## 3a./3b. Number of Taxpayers Claiming CTC (Pre-TCJA)"
   ]
  },
  {
   "cell_type": "code",
   "execution_count": 18,
   "metadata": {
    "hideCode": true,
    "hidePrompt": true
   },
   "outputs": [
    {
     "name": "stdout",
     "output_type": "stream",
     "text": [
      "Pre-TCJA: Positive Tax Liability: 14,103,647\n",
      "Pre-TCJA: 0/Negative Tax Liability: 20,169,227\n",
      "Pre-TCJA: All Tax Filers: 34,272,874\n"
     ]
    }
   ],
   "source": [
    "getstat(odf_full[(odf_full['iitax'] > 0) & ((odf_full['c07220'] > 0) | (odf_full['c11070'] > 0))], 'Pre-TCJA: Positive Tax Liability')\n",
    "getstat(odf_full[(odf_full['iitax'] <= 0) & ((odf_full['c07220'] > 0) | (odf_full['c11070'] > 0))], 'Pre-TCJA: 0/Negative Tax Liability')\n",
    "getstat(odf_full[(odf_full['c07220'] > 0) | (odf_full['c11070'] > 0)], 'Pre-TCJA: All Tax Filers')"
   ]
  },
  {
   "cell_type": "markdown",
   "metadata": {
    "hideCode": true,
    "hidePrompt": true
   },
   "source": [
    "## 3c./3d. Number of Taxpayers Claiming CTC (TCJA)"
   ]
  },
  {
   "cell_type": "code",
   "execution_count": 19,
   "metadata": {
    "hideCode": true,
    "hidePrompt": true
   },
   "outputs": [
    {
     "name": "stdout",
     "output_type": "stream",
     "text": [
      "TCJA: Positive Tax Liability: 18,016,594\n",
      "TCJA: 0/Negative Tax Liability: 22,485,246\n",
      "TCJA: All Tax Filers: 40,501,840\n"
     ]
    }
   ],
   "source": [
    "getstat(ndf_full[(ndf_full['iitax'] > 0) & ((ndf_full['c07220'] > 0) | (ndf_full['c11070'] > 0))], 'TCJA: Positive Tax Liability')\n",
    "getstat(ndf_full[(ndf_full['iitax'] <= 0) & ((ndf_full['c07220'] > 0) | (ndf_full['c11070'] > 0))], 'TCJA: 0/Negative Tax Liability')\n",
    "getstat(ndf_full[(ndf_full['c07220'] > 0) | (ndf_full['c11070'] > 0)], 'TCJA: All Tax Filers')"
   ]
  },
  {
   "cell_type": "markdown",
   "metadata": {
    "hideCode": true,
    "hidePrompt": true
   },
   "source": [
    "## 3e. Average Tax Burden by Family Size, AGI < \\$250,000"
   ]
  },
  {
   "cell_type": "code",
   "execution_count": 20,
   "metadata": {
    "hideCode": true,
    "hidePrompt": true
   },
   "outputs": [
    {
     "data": {
      "text/html": [
       "<div>\n",
       "<style>\n",
       "    .dataframe thead tr:only-child th {\n",
       "        text-align: right;\n",
       "    }\n",
       "\n",
       "    .dataframe thead th {\n",
       "        text-align: left;\n",
       "    }\n",
       "\n",
       "    .dataframe tbody tr th {\n",
       "        vertical-align: top;\n",
       "    }\n",
       "</style>\n",
       "<table border=\"1\" class=\"dataframe\">\n",
       "  <thead>\n",
       "    <tr style=\"text-align: right;\">\n",
       "      <th></th>\n",
       "      <th>Pre-TCJA, Average Income Tax</th>\n",
       "      <th>Pre-TCJA, Average Tax Rate</th>\n",
       "      <th>TCJA, Average Income Tax</th>\n",
       "      <th>TCJA, Average Tax Rate</th>\n",
       "    </tr>\n",
       "  </thead>\n",
       "  <tbody>\n",
       "    <tr>\n",
       "      <th>0</th>\n",
       "      <td>4,621.28</td>\n",
       "      <td>0.11</td>\n",
       "      <td>4,071.30</td>\n",
       "      <td>0.09</td>\n",
       "    </tr>\n",
       "    <tr>\n",
       "      <th>1</th>\n",
       "      <td>3,406.54</td>\n",
       "      <td>0.06</td>\n",
       "      <td>2,258.38</td>\n",
       "      <td>0.04</td>\n",
       "    </tr>\n",
       "    <tr>\n",
       "      <th>2</th>\n",
       "      <td>2,858.19</td>\n",
       "      <td>0.04</td>\n",
       "      <td>1,297.19</td>\n",
       "      <td>0.02</td>\n",
       "    </tr>\n",
       "    <tr>\n",
       "      <th>3</th>\n",
       "      <td>1,411.65</td>\n",
       "      <td>0.02</td>\n",
       "      <td>-397.14</td>\n",
       "      <td>-0.01</td>\n",
       "    </tr>\n",
       "  </tbody>\n",
       "</table>\n",
       "</div>"
      ],
      "text/plain": [
       "   Pre-TCJA, Average Income Tax  Pre-TCJA, Average Tax Rate  \\\n",
       "0                      4,621.28                        0.11   \n",
       "1                      3,406.54                        0.06   \n",
       "2                      2,858.19                        0.04   \n",
       "3                      1,411.65                        0.02   \n",
       "\n",
       "   TCJA, Average Income Tax  TCJA, Average Tax Rate  \n",
       "0                  4,071.30                    0.09  \n",
       "1                  2,258.38                    0.04  \n",
       "2                  1,297.19                    0.02  \n",
       "3                   -397.14                   -0.01  "
      ]
     },
     "execution_count": 20,
     "metadata": {},
     "output_type": "execute_result"
    }
   ],
   "source": [
    "ch_dict = {}\n",
    "for df in [(odf_full[(odf_full['c00100'] < 250000)], 'Pre-TCJA'), (ndf_full[(ndf_full['c00100'] < 250000)], 'TCJA')]:\n",
    "    for i in range(0, 4):\n",
    "        bindf = df[0][df[0]['n24'] == i]\n",
    "        taxsum = (bindf['iitax'] * bindf['s006']).sum()\n",
    "        incsum = (bindf['c00100'] * bindf['s006']).sum()\n",
    "        ch_dict.setdefault(df[1] + ', Average Income Tax', [])\n",
    "        ch_dict[df[1] + ', Average Income Tax'].append(taxsum / bindf['s006'].sum())\n",
    "        ch_dict.setdefault(df[1] + ', Average Tax Rate', [])\n",
    "        ch_dict[df[1] + ', Average Tax Rate'].append(taxsum / incsum)\n",
    "decile_df = pd.DataFrame(ch_dict)\n",
    "decile_df"
   ]
  },
  {
   "cell_type": "markdown",
   "metadata": {
    "hideCode": true,
    "hidePrompt": true
   },
   "source": [
    "# Section 4: Charitable Giving"
   ]
  },
  {
   "cell_type": "markdown",
   "metadata": {
    "hideCode": true,
    "hidePrompt": true
   },
   "source": [
    "## 4a. Number of Taxpayers Claiming Charitable Deduction"
   ]
  },
  {
   "cell_type": "code",
   "execution_count": 21,
   "metadata": {
    "hideCode": true,
    "hidePrompt": true
   },
   "outputs": [
    {
     "name": "stdout",
     "output_type": "stream",
     "text": [
      "Pre-TCJA, All Filers, Number Taking Charitable Deduction: 37,642,598\n",
      "Pre-TCJA, Positive Tax Liability, Number Taking Charitable Deduction: 35,796,801\n",
      "TCJA, All Filers, Number Taking Charitable Deduction: 16,935,096\n",
      "TCJA, Positive Tax Liability, Number Taking Charitable Deduction: 16,358,026\n"
     ]
    }
   ],
   "source": [
    "getstat(odf_full[(odf_full['c19700'] > 0) & (odf_full['c04470'] > 0)], 'Pre-TCJA, All Filers, Number Taking Charitable Deduction')\n",
    "getstat(odf_full[(odf_full['iitax'] > 0) & (odf_full['c19700'] > 0) & (odf_full['c04470'] > 0)], 'Pre-TCJA, Positive Tax Liability, Number Taking Charitable Deduction')\n",
    "getstat(ndf_full[(ndf_full['c19700'] > 0) & (ndf_full['c04470'] > 0)], 'TCJA, All Filers, Number Taking Charitable Deduction')\n",
    "getstat(ndf_full[(ndf_full['iitax'] > 0) & (ndf_full['c19700'] > 0) & (ndf_full['c04470'] > 0)], 'TCJA, Positive Tax Liability, Number Taking Charitable Deduction')\n"
   ]
  },
  {
   "cell_type": "markdown",
   "metadata": {
    "hideCode": true,
    "hidePrompt": true
   },
   "source": [
    "## 4b. Average Tax Breaks Through Charitable Deduction"
   ]
  },
  {
   "cell_type": "code",
   "execution_count": 22,
   "metadata": {
    "hideCode": true,
    "hidePrompt": true
   },
   "outputs": [
    {
     "name": "stdout",
     "output_type": "stream",
     "text": [
      "Pre-TCJA: 318.6706840673743\n",
      "TCJA: 207.87353512207795\n"
     ]
    }
   ],
   "source": [
    "odf_full['ch_iidiff'] = odf_full['iitax'] - calc_old_nochar.array('iitax')\n",
    "ndf_full['ch_iidiff'] = ndf_full['iitax'] - calc_new_nochar.array('iitax')\n",
    "print('Pre-TCJA: ' + str(-w_avg(odf_full, 'ch_iidiff')))\n",
    "print('TCJA: ' + str(-w_avg(ndf_full, 'ch_iidiff')))"
   ]
  },
  {
   "cell_type": "markdown",
   "metadata": {
    "hideCode": true,
    "hidePrompt": true
   },
   "source": [
    "## 4c. Share of Taxpayers Claiming Itemized Deduction"
   ]
  },
  {
   "cell_type": "code",
   "execution_count": 23,
   "metadata": {
    "hideCode": true,
    "hidePrompt": true
   },
   "outputs": [
    {
     "data": {
      "text/html": [
       "<div>\n",
       "<style>\n",
       "    .dataframe thead tr:only-child th {\n",
       "        text-align: right;\n",
       "    }\n",
       "\n",
       "    .dataframe thead th {\n",
       "        text-align: left;\n",
       "    }\n",
       "\n",
       "    .dataframe tbody tr th {\n",
       "        vertical-align: top;\n",
       "    }\n",
       "</style>\n",
       "<table border=\"1\" class=\"dataframe\">\n",
       "  <thead>\n",
       "    <tr style=\"text-align: right;\">\n",
       "      <th></th>\n",
       "      <th>Pre-TCJA, Share Claiming Itemized Deductions</th>\n",
       "      <th>TCJA, Share Claiming Itemized Deductions</th>\n",
       "    </tr>\n",
       "  </thead>\n",
       "  <tbody>\n",
       "    <tr>\n",
       "      <th>(1, 0.496695789163, 4377.20002579)</th>\n",
       "      <td>0.000237</td>\n",
       "      <td>0.001219</td>\n",
       "    </tr>\n",
       "    <tr>\n",
       "      <th>(2, 4377.62818215, 10925.2370646)</th>\n",
       "      <td>0.001312</td>\n",
       "      <td>0.000866</td>\n",
       "    </tr>\n",
       "    <tr>\n",
       "      <th>(3, 10925.2370646, 17561.6869681)</th>\n",
       "      <td>0.033034</td>\n",
       "      <td>0.009699</td>\n",
       "    </tr>\n",
       "    <tr>\n",
       "      <th>(4, 17561.6869681, 26551.5962828)</th>\n",
       "      <td>0.066710</td>\n",
       "      <td>0.022904</td>\n",
       "    </tr>\n",
       "    <tr>\n",
       "      <th>(5, 26551.5986875, 37445.9949212)</th>\n",
       "      <td>0.124527</td>\n",
       "      <td>0.037921</td>\n",
       "    </tr>\n",
       "    <tr>\n",
       "      <th>(6, 37445.9949212, 51522.1260651)</th>\n",
       "      <td>0.209292</td>\n",
       "      <td>0.062553</td>\n",
       "    </tr>\n",
       "    <tr>\n",
       "      <th>(7, 51523.6124798, 69819.6364485)</th>\n",
       "      <td>0.332304</td>\n",
       "      <td>0.115776</td>\n",
       "    </tr>\n",
       "    <tr>\n",
       "      <th>(8, 69820.5672485, 98062.4259455)</th>\n",
       "      <td>0.477590</td>\n",
       "      <td>0.181567</td>\n",
       "    </tr>\n",
       "    <tr>\n",
       "      <th>(9, 98065.2950764, 148003.050189)</th>\n",
       "      <td>0.670826</td>\n",
       "      <td>0.258205</td>\n",
       "    </tr>\n",
       "    <tr>\n",
       "      <th>(10, 148003.050189, 197584873.031)</th>\n",
       "      <td>0.885798</td>\n",
       "      <td>0.512465</td>\n",
       "    </tr>\n",
       "  </tbody>\n",
       "</table>\n",
       "</div>"
      ],
      "text/plain": [
       "                                    Pre-TCJA, Share Claiming Itemized Deductions  \\\n",
       "(1, 0.496695789163, 4377.20002579)                                      0.000237   \n",
       "(2, 4377.62818215, 10925.2370646)                                       0.001312   \n",
       "(3, 10925.2370646, 17561.6869681)                                       0.033034   \n",
       "(4, 17561.6869681, 26551.5962828)                                       0.066710   \n",
       "(5, 26551.5986875, 37445.9949212)                                       0.124527   \n",
       "(6, 37445.9949212, 51522.1260651)                                       0.209292   \n",
       "(7, 51523.6124798, 69819.6364485)                                       0.332304   \n",
       "(8, 69820.5672485, 98062.4259455)                                       0.477590   \n",
       "(9, 98065.2950764, 148003.050189)                                       0.670826   \n",
       "(10, 148003.050189, 197584873.031)                                      0.885798   \n",
       "\n",
       "                                    TCJA, Share Claiming Itemized Deductions  \n",
       "(1, 0.496695789163, 4377.20002579)                                  0.001219  \n",
       "(2, 4377.62818215, 10925.2370646)                                   0.000866  \n",
       "(3, 10925.2370646, 17561.6869681)                                   0.009699  \n",
       "(4, 17561.6869681, 26551.5962828)                                   0.022904  \n",
       "(5, 26551.5986875, 37445.9949212)                                   0.037921  \n",
       "(6, 37445.9949212, 51522.1260651)                                   0.062553  \n",
       "(7, 51523.6124798, 69819.6364485)                                   0.115776  \n",
       "(8, 69820.5672485, 98062.4259455)                                   0.181567  \n",
       "(9, 98065.2950764, 148003.050189)                                   0.258205  \n",
       "(10, 148003.050189, 197584873.031)                                  0.512465  "
      ]
     },
     "execution_count": 23,
     "metadata": {},
     "output_type": "execute_result"
    }
   ],
   "source": [
    "pd.options.display.float_format = '{:,.6f}'.format\n",
    "\n",
    "decile_dict = {}\n",
    "for df in [(odf_posagi, 'Pre-TCJA'), (ndf_posagi, 'TCJA')]:\n",
    "    for i in range(1, numbin + 1):\n",
    "        bindf = df[0][df[0]['bins'] == i]\n",
    "        decile_dict.setdefault(df[1] + ', Share Claiming Itemized Deductions', [])\n",
    "        decile_dict[df[1] + ', Share Claiming Itemized Deductions'].append(bindf[bindf['c04470'] > 0]['s006'].sum() / bindf['s006'].sum())\n",
    "decile_df = pd.DataFrame(decile_dict)\n",
    "decile_df.index = list(zip(range(1,11), \n",
    "                           odf_posagi.groupby('bins')['c00100'].min(), \n",
    "                           odf_posagi.groupby('bins')['c00100'].max()))\n",
    "decile_df"
   ]
  },
  {
   "cell_type": "markdown",
   "metadata": {
    "hideCode": true,
    "hidePrompt": true
   },
   "source": [
    "## 4d. Distribution of Share of Previous Charitable Deduction Takers Switching to Standard"
   ]
  },
  {
   "cell_type": "code",
   "execution_count": 24,
   "metadata": {
    "hideCode": true,
    "hidePrompt": true,
    "scrolled": true
   },
   "outputs": [
    {
     "data": {
      "text/html": [
       "\n",
       "<div class=\"bk-root\">\n",
       "    <div class=\"bk-plotdiv\" id=\"c9bb2412-47c5-4f04-9f83-e3a18775e260\"></div>\n",
       "</div>"
      ]
     },
     "metadata": {},
     "output_type": "display_data"
    },
    {
     "data": {
      "application/javascript": [
       "(function(root) {\n",
       "  function embed_document(root) {\n",
       "    var docs_json = {\"fc769444-3229-4e4e-b292-ff7cec6d58bd\":{\"roots\":{\"references\":[{\"attributes\":{\"source\":{\"id\":\"380ab357-eeef-462f-b242-ecf1ac050a9a\",\"type\":\"ColumnDataSource\"}},\"id\":\"f5496460-7e3f-4c13-b814-2b3dd7c4e60f\",\"type\":\"CDSView\"},{\"attributes\":{},\"id\":\"d0e2f139-b4df-427e-8187-38b8670ecef7\",\"type\":\"LinearScale\"},{\"attributes\":{\"callback\":null},\"id\":\"2d04acda-fec5-4f6a-be8e-7cc2ace28b9f\",\"type\":\"DataRange1d\"},{\"attributes\":{\"formatter\":{\"id\":\"2dfefc38-3d86-4205-b2b4-9f35ce5297dc\",\"type\":\"BasicTickFormatter\"},\"plot\":{\"id\":\"b5ceb864-16ec-4832-9a79-417b466ac408\",\"subtype\":\"Figure\",\"type\":\"Plot\"},\"ticker\":{\"id\":\"5cb6c8b6-c524-455f-babd-8efe692e14f5\",\"type\":\"BasicTicker\"}},\"id\":\"d7a56d7b-7ace-4d71-a26c-0ff2cf69a8c9\",\"type\":\"LinearAxis\"},{\"attributes\":{\"fill_alpha\":{\"value\":0.1},\"fill_color\":{\"value\":\"#1f77b4\"},\"line_alpha\":{\"value\":0.1},\"line_color\":{\"value\":\"#1f77b4\"},\"top\":{\"field\":\"top\"},\"width\":{\"value\":0.5},\"x\":{\"field\":\"x\"}},\"id\":\"5f236bf0-e937-4fca-a4ab-c171dcc2dc75\",\"type\":\"VBar\"},{\"attributes\":{\"active_drag\":\"auto\",\"active_inspect\":\"auto\",\"active_scroll\":\"auto\",\"active_tap\":\"auto\",\"tools\":[{\"id\":\"a727cb30-faf1-4d70-afa1-b52adda1cbc2\",\"type\":\"PanTool\"},{\"id\":\"b000e438-73ab-4972-ab84-2086dd3d8cd5\",\"type\":\"WheelZoomTool\"},{\"id\":\"a9839b8d-f334-4d82-b47e-4de2c046fcd3\",\"type\":\"BoxZoomTool\"},{\"id\":\"a657ce37-4e8c-42dd-915c-1b0808ae763a\",\"type\":\"SaveTool\"},{\"id\":\"4126f7cf-e4ce-40bb-a28b-9221dbbdee89\",\"type\":\"ResetTool\"},{\"id\":\"65c6f063-6003-4bb8-b0a2-d258a79c5919\",\"type\":\"HelpTool\"}]},\"id\":\"3d93d8e8-90ff-4d05-9880-98ad798ab1d3\",\"type\":\"Toolbar\"},{\"attributes\":{},\"id\":\"65c6f063-6003-4bb8-b0a2-d258a79c5919\",\"type\":\"HelpTool\"},{\"attributes\":{\"bottom_units\":\"screen\",\"fill_alpha\":{\"value\":0.5},\"fill_color\":{\"value\":\"lightgrey\"},\"left_units\":\"screen\",\"level\":\"overlay\",\"line_alpha\":{\"value\":1.0},\"line_color\":{\"value\":\"black\"},\"line_dash\":[4,4],\"line_width\":{\"value\":2},\"plot\":null,\"render_mode\":\"css\",\"right_units\":\"screen\",\"top_units\":\"screen\"},\"id\":\"a9c8e3fe-5a79-41ee-8b1e-d57b9a98f134\",\"type\":\"BoxAnnotation\"},{\"attributes\":{},\"id\":\"4126f7cf-e4ce-40bb-a28b-9221dbbdee89\",\"type\":\"ResetTool\"},{\"attributes\":{},\"id\":\"61356e19-5ba1-4986-ab0e-1cbbe78b08ac\",\"type\":\"LinearScale\"},{\"attributes\":{},\"id\":\"a657ce37-4e8c-42dd-915c-1b0808ae763a\",\"type\":\"SaveTool\"},{\"attributes\":{\"fill_color\":{\"value\":\"#1f77b4\"},\"line_color\":{\"value\":\"#1f77b4\"},\"top\":{\"field\":\"top\"},\"width\":{\"value\":0.5},\"x\":{\"field\":\"x\"}},\"id\":\"ae9b97a6-221f-4cd8-93b9-049d861ee461\",\"type\":\"VBar\"},{\"attributes\":{\"below\":[{\"id\":\"39973b75-25ff-4aa4-ad29-3e3387b0fecd\",\"type\":\"LinearAxis\"}],\"left\":[{\"id\":\"d7a56d7b-7ace-4d71-a26c-0ff2cf69a8c9\",\"type\":\"LinearAxis\"}],\"renderers\":[{\"id\":\"39973b75-25ff-4aa4-ad29-3e3387b0fecd\",\"type\":\"LinearAxis\"},{\"id\":\"40b3491b-1ea1-4ff2-a24b-6d520e549671\",\"type\":\"Grid\"},{\"id\":\"d7a56d7b-7ace-4d71-a26c-0ff2cf69a8c9\",\"type\":\"LinearAxis\"},{\"id\":\"77e1079c-616c-4b74-8e10-7c04e5f75088\",\"type\":\"Grid\"},{\"id\":\"a9c8e3fe-5a79-41ee-8b1e-d57b9a98f134\",\"type\":\"BoxAnnotation\"},{\"id\":\"1bee14a8-56ea-40b1-95de-0927b453c949\",\"type\":\"GlyphRenderer\"}],\"title\":{\"id\":\"ddeab788-4b60-46bc-a910-232f754d8fad\",\"type\":\"Title\"},\"toolbar\":{\"id\":\"3d93d8e8-90ff-4d05-9880-98ad798ab1d3\",\"type\":\"Toolbar\"},\"x_range\":{\"id\":\"990f7486-ecda-464e-93cb-eee72334660c\",\"type\":\"DataRange1d\"},\"x_scale\":{\"id\":\"61356e19-5ba1-4986-ab0e-1cbbe78b08ac\",\"type\":\"LinearScale\"},\"y_range\":{\"id\":\"2d04acda-fec5-4f6a-be8e-7cc2ace28b9f\",\"type\":\"DataRange1d\"},\"y_scale\":{\"id\":\"d0e2f139-b4df-427e-8187-38b8670ecef7\",\"type\":\"LinearScale\"}},\"id\":\"b5ceb864-16ec-4832-9a79-417b466ac408\",\"subtype\":\"Figure\",\"type\":\"Plot\"},{\"attributes\":{},\"id\":\"55f120dd-7703-4583-8260-69a02b7b6545\",\"type\":\"BasicTickFormatter\"},{\"attributes\":{},\"id\":\"5cb6c8b6-c524-455f-babd-8efe692e14f5\",\"type\":\"BasicTicker\"},{\"attributes\":{\"dimension\":1,\"plot\":{\"id\":\"b5ceb864-16ec-4832-9a79-417b466ac408\",\"subtype\":\"Figure\",\"type\":\"Plot\"},\"ticker\":{\"id\":\"5cb6c8b6-c524-455f-babd-8efe692e14f5\",\"type\":\"BasicTicker\"}},\"id\":\"77e1079c-616c-4b74-8e10-7c04e5f75088\",\"type\":\"Grid\"},{\"attributes\":{},\"id\":\"fa3c410d-8395-47dc-8d80-d11483572b51\",\"type\":\"BasicTicker\"},{\"attributes\":{},\"id\":\"2dfefc38-3d86-4205-b2b4-9f35ce5297dc\",\"type\":\"BasicTickFormatter\"},{\"attributes\":{\"plot\":{\"id\":\"b5ceb864-16ec-4832-9a79-417b466ac408\",\"subtype\":\"Figure\",\"type\":\"Plot\"},\"ticker\":{\"id\":\"fa3c410d-8395-47dc-8d80-d11483572b51\",\"type\":\"BasicTicker\"}},\"id\":\"40b3491b-1ea1-4ff2-a24b-6d520e549671\",\"type\":\"Grid\"},{\"attributes\":{\"data_source\":{\"id\":\"380ab357-eeef-462f-b242-ecf1ac050a9a\",\"type\":\"ColumnDataSource\"},\"glyph\":{\"id\":\"ae9b97a6-221f-4cd8-93b9-049d861ee461\",\"type\":\"VBar\"},\"hover_glyph\":null,\"muted_glyph\":null,\"nonselection_glyph\":{\"id\":\"5f236bf0-e937-4fca-a4ab-c171dcc2dc75\",\"type\":\"VBar\"},\"selection_glyph\":null,\"view\":{\"id\":\"f5496460-7e3f-4c13-b814-2b3dd7c4e60f\",\"type\":\"CDSView\"}},\"id\":\"1bee14a8-56ea-40b1-95de-0927b453c949\",\"type\":\"GlyphRenderer\"},{\"attributes\":{\"formatter\":{\"id\":\"55f120dd-7703-4583-8260-69a02b7b6545\",\"type\":\"BasicTickFormatter\"},\"plot\":{\"id\":\"b5ceb864-16ec-4832-9a79-417b466ac408\",\"subtype\":\"Figure\",\"type\":\"Plot\"},\"ticker\":{\"id\":\"fa3c410d-8395-47dc-8d80-d11483572b51\",\"type\":\"BasicTicker\"}},\"id\":\"39973b75-25ff-4aa4-ad29-3e3387b0fecd\",\"type\":\"LinearAxis\"},{\"attributes\":{\"callback\":null},\"id\":\"990f7486-ecda-464e-93cb-eee72334660c\",\"type\":\"DataRange1d\"},{\"attributes\":{},\"id\":\"a727cb30-faf1-4d70-afa1-b52adda1cbc2\",\"type\":\"PanTool\"},{\"attributes\":{\"callback\":null,\"column_names\":[\"x\",\"top\"],\"data\":{\"top\":{\"__ndarray__\":\"AAAAAAAAAAAAAAAAAAAAAAAAAAAAAAAAAAAAAAAAAAAAAAAAAAAAAAAAAAAAAAAAAAAAAAAAAAAAAAAAAAAAAAAAAAAAAAAAAAAAAAAAAAAAAAAAAAAAAAAAAAAAAAAAAAAAAAAAAAAAAAAAAAAAAAAAAAAAAAAAAAAAAAAAAABD6q90q/vvPwAAAAAAAAAAAAAAAAAAAAA+LnaMg+3vP62I5QP/cOE/MPZ4/xqt5T8wJByVQeXnPwuhL62veuw/c4gvwQUr5z/QbXbltaznPzaZV16CUeU/FjbIMrFg6T+fmyebIQXnP/E9ZVCmeeU//T8rN9My4D/21/ywGOfnP8eSSgNp5+Q/0PrSIg9p5z8MWoX73cHlP5gycK0IJeg/lAajnUXD5T81rUDmFxzjP61aWS3qwOY/i83n948T6T/2Mhgki/bkPy8nqYQ1nuU/o9zKIYyq5z+A+AG/VXPmPxMpRyGSZOU/SGL9oEiT5T+Bf7KFXvXnP0KOYXTd8+Y/Vbo2veaY5T8CLMreaHXjP9Y6RP0uAec/8V67h2TC5j886GI2V0rmP+ZsDiOa3OY/ernFemdl5D/zjleDqdTjP4IRhJr3cOc/ihA6Vrwr5D8YTa0RNWTmP13HdgSeU+U/9CMKVPkj5j9wJaF0vEXlP2SZFcQRIeQ/eMGPCtUm5T8dnRf+pLHkPyr4nv0ax+M/PfWQ57Kz5D+fRDjiCFvkPxuKKkZkjOQ/x+gG+hXU4z+LOZksqwXjP384pCJw3eI/iJxbqlEN4z+Sx226LdbjPxMPdaapyuI/A1ZChDtU4j9DATAX0YrjP8y6+xh18eM/en8Up50l5D9QcAx6pNfjP6Jzml1qq+M/yZPeKkin4j8UwJ8JY6njP8IY0j2QleM/sNUPGPg+4z/Ozm34olXjP3F29naCbuM/C5Fv8eti4z83tgDEeIfjPwREi99Jh+I/NKwoY9B84j/hhisv3/3hP5ys+0AzOeA/pcX4w/tn4D9cQJlsD/zeP9x9TC/E2dk/Oi/lqtqW1z9o3M8WfujTP9MYyPBMpdA/SHuXnA0cxz8=\",\"dtype\":\"float64\",\"shape\":[100]},\"x\":[1,2,3,4,5,6,7,8,9,10,11,12,13,14,15,16,17,18,19,20,21,22,23,24,25,26,27,28,29,30,31,32,33,34,35,36,37,38,39,40,41,42,43,44,45,46,47,48,49,50,51,52,53,54,55,56,57,58,59,60,61,62,63,64,65,66,67,68,69,70,71,72,73,74,75,76,77,78,79,80,81,82,83,84,85,86,87,88,89,90,91,92,93,94,95,96,97,98,99,100]}},\"id\":\"380ab357-eeef-462f-b242-ecf1ac050a9a\",\"type\":\"ColumnDataSource\"},{\"attributes\":{},\"id\":\"b000e438-73ab-4972-ab84-2086dd3d8cd5\",\"type\":\"WheelZoomTool\"},{\"attributes\":{\"plot\":null,\"text\":\"\"},\"id\":\"ddeab788-4b60-46bc-a910-232f754d8fad\",\"type\":\"Title\"},{\"attributes\":{\"overlay\":{\"id\":\"a9c8e3fe-5a79-41ee-8b1e-d57b9a98f134\",\"type\":\"BoxAnnotation\"}},\"id\":\"a9839b8d-f334-4d82-b47e-4de2c046fcd3\",\"type\":\"BoxZoomTool\"}],\"root_ids\":[\"b5ceb864-16ec-4832-9a79-417b466ac408\"]},\"title\":\"Bokeh Application\",\"version\":\"0.12.10\"}};\n",
       "    var render_items = [{\"docid\":\"fc769444-3229-4e4e-b292-ff7cec6d58bd\",\"elementid\":\"c9bb2412-47c5-4f04-9f83-e3a18775e260\",\"modelid\":\"b5ceb864-16ec-4832-9a79-417b466ac408\"}];\n",
       "\n",
       "    root.Bokeh.embed.embed_items(docs_json, render_items);\n",
       "  }\n",
       "\n",
       "  if (root.Bokeh !== undefined) {\n",
       "    embed_document(root);\n",
       "  } else {\n",
       "    var attempts = 0;\n",
       "    var timer = setInterval(function(root) {\n",
       "      if (root.Bokeh !== undefined) {\n",
       "        embed_document(root);\n",
       "        clearInterval(timer);\n",
       "      }\n",
       "      attempts++;\n",
       "      if (attempts > 100) {\n",
       "        console.log(\"Bokeh: ERROR: Unable to embed document because BokehJS library is missing\")\n",
       "        clearInterval(timer);\n",
       "      }\n",
       "    }, 10, root)\n",
       "  }\n",
       "})(window);"
      ],
      "application/vnd.bokehjs_exec.v0+json": ""
     },
     "metadata": {
      "application/vnd.bokehjs_exec.v0+json": {
       "id": "b5ceb864-16ec-4832-9a79-417b466ac408"
      }
     },
     "output_type": "display_data"
    }
   ],
   "source": [
    "pd.options.display.float_format = '{:,.2f}'.format\n",
    "\n",
    "sdf = copy.deepcopy(odf_posagi)\n",
    "nbins = 100\n",
    "sdf['switch'] = np.where((sdf['c19700'] > 0) & (sdf['c04470'] > 0) & (ndf_posagi['standard'] > 0), sdf['s006'], 0)\n",
    "sdf['char'] = np.where((sdf['c19700'] > 0) & (sdf['c04470'] > 0), sdf['s006'], 0.001)\n",
    "tc.add_quantile_bins(sdf, income_measure='c00100', num_bins= nbins)\n",
    "quantile_dict = {}\n",
    "for i in range(1, nbins + 1):\n",
    "    bindf = sdf[sdf['bins'] == i]\n",
    "    quantile_dict.setdefault('Share of Charity Deduction Takers Switching to Standard', [])\n",
    "    quantile_dict['Share of Charity Deduction Takers Switching to Standard'].append(bindf['switch'].sum()/ bindf['char'].sum())\n",
    "quantile_df = pd.DataFrame(quantile_dict)\n",
    "quantile_df.index = list(zip(range(1,nbins + 1), \n",
    "                           sdf.groupby('bins')['c00100'].min(), \n",
    "                           sdf.groupby('bins')['c00100'].max()))\n",
    "\n",
    "f = figure()\n",
    "f.vbar(x = list(range(1,nbins + 1)),  width = 0.5, top = quantile_df['Share of Charity Deduction Takers Switching to Standard'])\n",
    "show(f)"
   ]
  },
  {
   "cell_type": "markdown",
   "metadata": {
    "hideCode": true,
    "hidePrompt": true
   },
   "source": [
    "## 4e. Estimated Impact on Actual Giving (Varying Elasticities, Copied From Charity Project)"
   ]
  },
  {
   "cell_type": "code",
   "execution_count": 25,
   "metadata": {
    "hideCode": true,
    "hidePrompt": true
   },
   "outputs": [
    {
     "name": "stdout",
     "output_type": "stream",
     "text": [
      "Income Elasticity of 0.5, Price Elasticity of -1, No ETI: -23,459,781,496.25\n",
      "Income Elasticity of 0.5, Price Elasticity of -1, ETI of 0.25: -20,463,936,248.96\n",
      "Income Elast of 0.5, Price Elast of -1 for After-tax Incomes Over $200k, -0.5 for Under, ETI of 0.25: -11,829,356,913.20\n"
     ]
    }
   ],
   "source": [
    "print('Income Elasticity of 0.5, Price Elasticity of -1, No ETI: ' + '{:,.2f}'.format(-23459781496.25))\n",
    "print('Income Elasticity of 0.5, Price Elasticity of -1, ETI of 0.25: ' + '{:,.2f}'.format(-20463936248.964443))\n",
    "print('Income Elast of 0.5, Price Elast of -1 for After-tax Incomes Over $200k, -0.5 for Under, ETI of 0.25: ' + '{:,.2f}'.format(-11829356913.201384))\n"
   ]
  },
  {
   "cell_type": "markdown",
   "metadata": {
    "hideCode": true,
    "hidePrompt": true
   },
   "source": [
    "## 4f. Required GDP Effect (To Break Even) **still in progress, but so far it looks high (5% +)"
   ]
  },
  {
   "cell_type": "markdown",
   "metadata": {
    "hideCode": true,
    "hidePrompt": true
   },
   "source": [
    "# Section 5: Housing"
   ]
  },
  {
   "cell_type": "markdown",
   "metadata": {
    "hideCode": true,
    "hidePrompt": true
   },
   "source": [
    "# 5a. Number of Taxpayers Previously Claiming Interest Deduction Switching to the Standard"
   ]
  },
  {
   "cell_type": "code",
   "execution_count": 26,
   "metadata": {
    "hideCode": true,
    "hidePrompt": true
   },
   "outputs": [
    {
     "data": {
      "text/html": [
       "<div>\n",
       "<style>\n",
       "    .dataframe thead tr:only-child th {\n",
       "        text-align: right;\n",
       "    }\n",
       "\n",
       "    .dataframe thead th {\n",
       "        text-align: left;\n",
       "    }\n",
       "\n",
       "    .dataframe tbody tr th {\n",
       "        vertical-align: top;\n",
       "    }\n",
       "</style>\n",
       "<table border=\"1\" class=\"dataframe\">\n",
       "  <thead>\n",
       "    <tr style=\"text-align: right;\">\n",
       "      <th></th>\n",
       "      <th>Number of Interest Deduction Takers</th>\n",
       "      <th>Number of Interest Deduction Takers Switching to Standard</th>\n",
       "      <th>Share of Interest Deduction Takers Switching to Standard</th>\n",
       "    </tr>\n",
       "  </thead>\n",
       "  <tbody>\n",
       "    <tr>\n",
       "      <th>(1, 0.496695789163, 4377.20002579)</th>\n",
       "      <td>0.00</td>\n",
       "      <td>0.00</td>\n",
       "      <td>0.00</td>\n",
       "    </tr>\n",
       "    <tr>\n",
       "      <th>(2, 4377.62818215, 10925.2370646)</th>\n",
       "      <td>13,339.02</td>\n",
       "      <td>3,221.42</td>\n",
       "      <td>0.24</td>\n",
       "    </tr>\n",
       "    <tr>\n",
       "      <th>(3, 10925.2370646, 17561.6869681)</th>\n",
       "      <td>290,814.17</td>\n",
       "      <td>202,190.37</td>\n",
       "      <td>0.70</td>\n",
       "    </tr>\n",
       "    <tr>\n",
       "      <th>(4, 17561.6869681, 26551.5962828)</th>\n",
       "      <td>611,190.42</td>\n",
       "      <td>411,484.44</td>\n",
       "      <td>0.67</td>\n",
       "    </tr>\n",
       "    <tr>\n",
       "      <th>(5, 26551.5986875, 37445.9949212)</th>\n",
       "      <td>1,256,671.79</td>\n",
       "      <td>861,560.53</td>\n",
       "      <td>0.69</td>\n",
       "    </tr>\n",
       "    <tr>\n",
       "      <th>(6, 37445.9949212, 51522.1260651)</th>\n",
       "      <td>2,293,844.22</td>\n",
       "      <td>1,566,412.85</td>\n",
       "      <td>0.68</td>\n",
       "    </tr>\n",
       "    <tr>\n",
       "      <th>(7, 51523.6124798, 69819.6364485)</th>\n",
       "      <td>4,001,049.69</td>\n",
       "      <td>2,470,908.23</td>\n",
       "      <td>0.62</td>\n",
       "    </tr>\n",
       "    <tr>\n",
       "      <th>(8, 69820.5672485, 98062.4259455)</th>\n",
       "      <td>6,115,719.36</td>\n",
       "      <td>3,642,949.18</td>\n",
       "      <td>0.60</td>\n",
       "    </tr>\n",
       "    <tr>\n",
       "      <th>(9, 98065.2950764, 148003.050189)</th>\n",
       "      <td>9,133,761.45</td>\n",
       "      <td>5,453,520.68</td>\n",
       "      <td>0.60</td>\n",
       "    </tr>\n",
       "    <tr>\n",
       "      <th>(10, 148003.050189, 197584873.031)</th>\n",
       "      <td>12,170,547.80</td>\n",
       "      <td>4,642,295.99</td>\n",
       "      <td>0.38</td>\n",
       "    </tr>\n",
       "    <tr>\n",
       "      <th>Total (Ignore Share Total)</th>\n",
       "      <td>35,886,937.92</td>\n",
       "      <td>19,254,543.69</td>\n",
       "      <td>5.17</td>\n",
       "    </tr>\n",
       "  </tbody>\n",
       "</table>\n",
       "</div>"
      ],
      "text/plain": [
       "                                    Number of Interest Deduction Takers  \\\n",
       "(1, 0.496695789163, 4377.20002579)                                 0.00   \n",
       "(2, 4377.62818215, 10925.2370646)                             13,339.02   \n",
       "(3, 10925.2370646, 17561.6869681)                            290,814.17   \n",
       "(4, 17561.6869681, 26551.5962828)                            611,190.42   \n",
       "(5, 26551.5986875, 37445.9949212)                          1,256,671.79   \n",
       "(6, 37445.9949212, 51522.1260651)                          2,293,844.22   \n",
       "(7, 51523.6124798, 69819.6364485)                          4,001,049.69   \n",
       "(8, 69820.5672485, 98062.4259455)                          6,115,719.36   \n",
       "(9, 98065.2950764, 148003.050189)                          9,133,761.45   \n",
       "(10, 148003.050189, 197584873.031)                        12,170,547.80   \n",
       "Total (Ignore Share Total)                                35,886,937.92   \n",
       "\n",
       "                                    Number of Interest Deduction Takers Switching to Standard  \\\n",
       "(1, 0.496695789163, 4377.20002579)                                               0.00           \n",
       "(2, 4377.62818215, 10925.2370646)                                            3,221.42           \n",
       "(3, 10925.2370646, 17561.6869681)                                          202,190.37           \n",
       "(4, 17561.6869681, 26551.5962828)                                          411,484.44           \n",
       "(5, 26551.5986875, 37445.9949212)                                          861,560.53           \n",
       "(6, 37445.9949212, 51522.1260651)                                        1,566,412.85           \n",
       "(7, 51523.6124798, 69819.6364485)                                        2,470,908.23           \n",
       "(8, 69820.5672485, 98062.4259455)                                        3,642,949.18           \n",
       "(9, 98065.2950764, 148003.050189)                                        5,453,520.68           \n",
       "(10, 148003.050189, 197584873.031)                                       4,642,295.99           \n",
       "Total (Ignore Share Total)                                              19,254,543.69           \n",
       "\n",
       "                                    Share of Interest Deduction Takers Switching to Standard  \n",
       "(1, 0.496695789163, 4377.20002579)                                               0.00         \n",
       "(2, 4377.62818215, 10925.2370646)                                                0.24         \n",
       "(3, 10925.2370646, 17561.6869681)                                                0.70         \n",
       "(4, 17561.6869681, 26551.5962828)                                                0.67         \n",
       "(5, 26551.5986875, 37445.9949212)                                                0.69         \n",
       "(6, 37445.9949212, 51522.1260651)                                                0.68         \n",
       "(7, 51523.6124798, 69819.6364485)                                                0.62         \n",
       "(8, 69820.5672485, 98062.4259455)                                                0.60         \n",
       "(9, 98065.2950764, 148003.050189)                                                0.60         \n",
       "(10, 148003.050189, 197584873.031)                                               0.38         \n",
       "Total (Ignore Share Total)                                                       5.17         "
      ]
     },
     "execution_count": 26,
     "metadata": {},
     "output_type": "execute_result"
    }
   ],
   "source": [
    "sdf = copy.deepcopy(odf_posagi)\n",
    "sdf['newiitax'] = ndf_posagi['iitax']\n",
    "nbins = 10\n",
    "sdf['switch'] = np.where((sdf['c19200'] > 0) & (sdf['c04470'] > 0) & (ndf_posagi['standard'] > 0), sdf['s006'], 0)\n",
    "sdf['intr'] = np.where((sdf['c19200'] > 0) & (sdf['c04470'] > 0), sdf['s006'], 1e-99)\n",
    "tc.add_quantile_bins(sdf, income_measure='c00100', num_bins= nbins)\n",
    "quantile_dict = {}\n",
    "for i in range(1, nbins + 1):\n",
    "    bindf = sdf[sdf['bins'] == i]\n",
    "    quantile_dict.setdefault('Share of Interest Deduction Takers Switching to Standard', [])\n",
    "    quantile_dict['Share of Interest Deduction Takers Switching to Standard'].append(bindf['switch'].sum()/ bindf['intr'].sum())\n",
    "    quantile_dict.setdefault('Number of Interest Deduction Takers Switching to Standard', [])\n",
    "    quantile_dict['Number of Interest Deduction Takers Switching to Standard'].append(bindf['switch'].sum())\n",
    "    quantile_dict.setdefault('Number of Interest Deduction Takers', [])\n",
    "    quantile_dict['Number of Interest Deduction Takers'].append(bindf['intr'].sum())\n",
    "quantile_df = pd.DataFrame(quantile_dict)\n",
    "quantile_df = quantile_df.append(quantile_df.sum(numeric_only=True), ignore_index=True)\n",
    "\n",
    "quantile_df.index = list(zip(range(1,nbins + 1), \n",
    "                           sdf.groupby('bins')['c00100'].min(), \n",
    "                           sdf.groupby('bins')['c00100'].max())) + ['Total (Ignore Share Total)']\n",
    "quantile_df"
   ]
  },
  {
   "cell_type": "markdown",
   "metadata": {
    "hideCode": true,
    "hidePrompt": true
   },
   "source": [
    "## Average Change in Tax Liability for Mortgage Deduction Takers"
   ]
  },
  {
   "cell_type": "code",
   "execution_count": 27,
   "metadata": {
    "hideCode": true,
    "hidePrompt": true
   },
   "outputs": [
    {
     "name": "stdout",
     "output_type": "stream",
     "text": [
      "Average Change in Tax Liability for Mortgage Deduction Takers Switching to Standard: -1957.2256489914853\n"
     ]
    }
   ],
   "source": [
    "smdf = copy.deepcopy(sdf[sdf['switch'] > 0])\n",
    "smdf['iichange'] = smdf['newiitax'] - smdf['iitax']\n",
    "print('Average Change in Tax Liability for Mortgage Deduction Takers Switching to Standard: ' + str(w_avg(smdf, 'iichange')))"
   ]
  }
 ],
 "metadata": {
  "hide_code_all_hidden": true,
  "kernelspec": {
   "display_name": "Python 3",
   "language": "python",
   "name": "python3"
  },
  "language_info": {
   "codemirror_mode": {
    "name": "ipython",
    "version": 3
   },
   "file_extension": ".py",
   "mimetype": "text/x-python",
   "name": "python",
   "nbconvert_exporter": "python",
   "pygments_lexer": "ipython3",
   "version": "3.6.3"
  }
 },
 "nbformat": 4,
 "nbformat_minor": 2
}
